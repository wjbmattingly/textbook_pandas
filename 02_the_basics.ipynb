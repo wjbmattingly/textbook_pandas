{
 "cells": [
  {
   "cell_type": "markdown",
   "id": "e0751cfc-e725-4723-90e3-7bc231fa5f50",
   "metadata": {},
   "source": [
    "# Pandas Textbook for Digital Humanities"
   ]
  },
  {
   "cell_type": "markdown",
   "id": "72513c4c-4383-499a-a946-e190c6953533",
   "metadata": {},
   "source": [
    "## Chapter Two: The Basics of Pandas"
   ]
  },
  {
   "cell_type": "markdown",
   "id": "4905868d-2556-48db-8fcb-c0ebf05daafb",
   "metadata": {},
   "source": [
    "## Covered in this Chapter"
   ]
  },
  {
   "cell_type": "markdown",
   "id": "bdf64cf7-25cc-41dd-9d1c-ad162f461a06",
   "metadata": {},
   "source": [
    "1) How to Create a DataFrame from a Dictionary<br>\n",
    "2) How to Display a DataFrame<br>\n",
    "3) How to Save a DataFrame to CSV<br>\n",
    "4) How to Create a DataFrame from a CSV File<br>\n",
    "5) How to Create a DataFrame from a JSON File<br>\n",
    "6) How to Add a Column to a DataFrame<br>\n",
    "7) How to Grab a Specific Column of a DataFrame<br>\n",
    "8) How to Grab a Specific Row of a DataFrame"
   ]
  },
  {
   "cell_type": "markdown",
   "id": "d5152d2a-61dc-4323-a574-42398f96494c",
   "metadata": {},
   "source": [
    "## How to Create a DataFrame from a Dictionary"
   ]
  },
  {
   "cell_type": "code",
   "execution_count": 1,
   "id": "aeda9b1e-691e-4e8a-b6ee-bb2b0fa0c71f",
   "metadata": {},
   "outputs": [],
   "source": [
    "import pandas as pd"
   ]
  },
  {
   "cell_type": "code",
   "execution_count": 2,
   "id": "95e32442-e5b3-4738-9cb3-4ed7e4451f7e",
   "metadata": {},
   "outputs": [],
   "source": [
    "names_dict = {\"names\":\n",
    "        [\n",
    "            \"Tom\",\n",
    "            \"Mary\",\n",
    "            \"Jeff\",\n",
    "            \"Rose\",\n",
    "            \"Stephanie\",\n",
    "            \"Rodger\"\n",
    "        ]}"
   ]
  },
  {
   "cell_type": "code",
   "execution_count": 3,
   "id": "cf113746-49c5-4ecc-8e18-e3ccc66d810d",
   "metadata": {},
   "outputs": [],
   "source": [
    "df = pd.DataFrame(names_dict)"
   ]
  },
  {
   "cell_type": "code",
   "execution_count": 5,
   "id": "c5449435-2b5b-4830-af38-2e28a5bc6f54",
   "metadata": {},
   "outputs": [
    {
     "data": {
      "text/html": [
       "<div>\n",
       "<style scoped>\n",
       "    .dataframe tbody tr th:only-of-type {\n",
       "        vertical-align: middle;\n",
       "    }\n",
       "\n",
       "    .dataframe tbody tr th {\n",
       "        vertical-align: top;\n",
       "    }\n",
       "\n",
       "    .dataframe thead th {\n",
       "        text-align: right;\n",
       "    }\n",
       "</style>\n",
       "<table border=\"1\" class=\"dataframe\">\n",
       "  <thead>\n",
       "    <tr style=\"text-align: right;\">\n",
       "      <th></th>\n",
       "      <th>names</th>\n",
       "    </tr>\n",
       "  </thead>\n",
       "  <tbody>\n",
       "    <tr>\n",
       "      <th>0</th>\n",
       "      <td>Tom</td>\n",
       "    </tr>\n",
       "    <tr>\n",
       "      <th>1</th>\n",
       "      <td>Mary</td>\n",
       "    </tr>\n",
       "    <tr>\n",
       "      <th>2</th>\n",
       "      <td>Jeff</td>\n",
       "    </tr>\n",
       "    <tr>\n",
       "      <th>3</th>\n",
       "      <td>Rose</td>\n",
       "    </tr>\n",
       "    <tr>\n",
       "      <th>4</th>\n",
       "      <td>Stephanie</td>\n",
       "    </tr>\n",
       "    <tr>\n",
       "      <th>5</th>\n",
       "      <td>Rodger</td>\n",
       "    </tr>\n",
       "  </tbody>\n",
       "</table>\n",
       "</div>"
      ],
      "text/plain": [
       "       names\n",
       "0        Tom\n",
       "1       Mary\n",
       "2       Jeff\n",
       "3       Rose\n",
       "4  Stephanie\n",
       "5     Rodger"
      ]
     },
     "execution_count": 5,
     "metadata": {},
     "output_type": "execute_result"
    }
   ],
   "source": [
    "df"
   ]
  },
  {
   "cell_type": "code",
   "execution_count": 6,
   "id": "2ae292f5-0597-4835-aaad-ed69f67c68df",
   "metadata": {},
   "outputs": [],
   "source": [
    "df.to_csv(\"data/names.csv\")"
   ]
  },
  {
   "cell_type": "code",
   "execution_count": null,
   "id": "dc61ff1b-6a74-4395-bd47-1b93883aedc7",
   "metadata": {},
   "outputs": [],
   "source": []
  }
 ],
 "metadata": {
  "kernelspec": {
   "display_name": "Python 3",
   "language": "python",
   "name": "python3"
  },
  "language_info": {
   "codemirror_mode": {
    "name": "ipython",
    "version": 3
   },
   "file_extension": ".py",
   "mimetype": "text/x-python",
   "name": "python",
   "nbconvert_exporter": "python",
   "pygments_lexer": "ipython3",
   "version": "3.8.8"
  }
 },
 "nbformat": 4,
 "nbformat_minor": 5
}
