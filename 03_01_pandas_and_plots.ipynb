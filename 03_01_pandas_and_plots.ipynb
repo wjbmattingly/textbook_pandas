{
 "cells": [
  {
   "cell_type": "markdown",
   "id": "daily-milan",
   "metadata": {},
   "source": [
    "# <center>Plotting Data with Pandas</center>"
   ]
  },
  {
   "cell_type": "markdown",
   "id": "specified-favor",
   "metadata": {},
   "source": [
    "<center>Dr. W.J.B. Mattingly</center>\n",
    "\n",
    "<center>Smithsonian Data Science Lab and United States Holocaust Memorial Museum</center>\n",
    "\n",
    "<center>August 2021</center>"
   ]
  },
  {
   "cell_type": "markdown",
   "id": "prompt-sculpture",
   "metadata": {},
   "source": [
    "## Covered in this Chapter"
   ]
  },
  {
   "cell_type": "markdown",
   "id": "jewish-marketplace",
   "metadata": {},
   "source": [
    "1) Key Ways to Plot Data in Pandas<br>\n",
    "2) How to Create a Bar or Barh Graph<br>\n",
    "3) How to Create a Pie Chart<br>\n",
    "4) How to Plot Data in a Scatter Plot"
   ]
  },
  {
   "cell_type": "markdown",
   "id": "several-prefix",
   "metadata": {},
   "source": [
    "## Importing the DataFrame"
   ]
  },
  {
   "cell_type": "markdown",
   "id": "minus-progress",
   "metadata": {},
   "source": [
    "This notebook begins Part 3 of this textbook. Here, we will build upon our skills from Parts 1 and 2, and begin exploring how to visualize data in Pandas. Pandas sits on top of Matplotlib, one of the standard libraries used by data scientists for plotting data. As we will see in the next notebooks, you can also leverage other, more robust graphing libraries through Pandas. For now, though, let's start with the basics. In this notebook, we will explore how to create three types of graphs: bar (and barh), pie, and scatter. I will also introduce you to some of the more recent features of Pandas 1.3.0, that allow you to control the graph a bit more.\n",
    "\n",
    "Before we do any of that, however, let's import pandas and our data."
   ]
  },
  {
   "cell_type": "code",
   "execution_count": 1,
   "id": "built-savannah",
   "metadata": {},
   "outputs": [],
   "source": [
    "import pandas as pd"
   ]
  },
  {
   "cell_type": "code",
   "execution_count": 2,
   "id": "comic-blowing",
   "metadata": {},
   "outputs": [],
   "source": [
    "df = pd.read_csv(\"data/titanic.csv\")"
   ]
  },
  {
   "cell_type": "code",
   "execution_count": 3,
   "id": "graduate-jewel",
   "metadata": {},
   "outputs": [
    {
     "data": {
      "text/html": [
       "<div>\n",
       "<style scoped>\n",
       "    .dataframe tbody tr th:only-of-type {\n",
       "        vertical-align: middle;\n",
       "    }\n",
       "\n",
       "    .dataframe tbody tr th {\n",
       "        vertical-align: top;\n",
       "    }\n",
       "\n",
       "    .dataframe thead th {\n",
       "        text-align: right;\n",
       "    }\n",
       "</style>\n",
       "<table border=\"1\" class=\"dataframe\">\n",
       "  <thead>\n",
       "    <tr style=\"text-align: right;\">\n",
       "      <th></th>\n",
       "      <th>PassengerId</th>\n",
       "      <th>Survived</th>\n",
       "      <th>Pclass</th>\n",
       "      <th>Name</th>\n",
       "      <th>Sex</th>\n",
       "      <th>Age</th>\n",
       "      <th>SibSp</th>\n",
       "      <th>Parch</th>\n",
       "      <th>Ticket</th>\n",
       "      <th>Fare</th>\n",
       "      <th>Cabin</th>\n",
       "      <th>Embarked</th>\n",
       "    </tr>\n",
       "  </thead>\n",
       "  <tbody>\n",
       "    <tr>\n",
       "      <th>0</th>\n",
       "      <td>1</td>\n",
       "      <td>0</td>\n",
       "      <td>3</td>\n",
       "      <td>Braund, Mr. Owen Harris</td>\n",
       "      <td>male</td>\n",
       "      <td>22.0</td>\n",
       "      <td>1</td>\n",
       "      <td>0</td>\n",
       "      <td>A/5 21171</td>\n",
       "      <td>7.2500</td>\n",
       "      <td>NaN</td>\n",
       "      <td>S</td>\n",
       "    </tr>\n",
       "    <tr>\n",
       "      <th>1</th>\n",
       "      <td>2</td>\n",
       "      <td>1</td>\n",
       "      <td>1</td>\n",
       "      <td>Cumings, Mrs. John Bradley (Florence Briggs Th...</td>\n",
       "      <td>female</td>\n",
       "      <td>38.0</td>\n",
       "      <td>1</td>\n",
       "      <td>0</td>\n",
       "      <td>PC 17599</td>\n",
       "      <td>71.2833</td>\n",
       "      <td>C85</td>\n",
       "      <td>C</td>\n",
       "    </tr>\n",
       "    <tr>\n",
       "      <th>2</th>\n",
       "      <td>3</td>\n",
       "      <td>1</td>\n",
       "      <td>3</td>\n",
       "      <td>Heikkinen, Miss. Laina</td>\n",
       "      <td>female</td>\n",
       "      <td>26.0</td>\n",
       "      <td>0</td>\n",
       "      <td>0</td>\n",
       "      <td>STON/O2. 3101282</td>\n",
       "      <td>7.9250</td>\n",
       "      <td>NaN</td>\n",
       "      <td>S</td>\n",
       "    </tr>\n",
       "    <tr>\n",
       "      <th>3</th>\n",
       "      <td>4</td>\n",
       "      <td>1</td>\n",
       "      <td>1</td>\n",
       "      <td>Futrelle, Mrs. Jacques Heath (Lily May Peel)</td>\n",
       "      <td>female</td>\n",
       "      <td>35.0</td>\n",
       "      <td>1</td>\n",
       "      <td>0</td>\n",
       "      <td>113803</td>\n",
       "      <td>53.1000</td>\n",
       "      <td>C123</td>\n",
       "      <td>S</td>\n",
       "    </tr>\n",
       "    <tr>\n",
       "      <th>4</th>\n",
       "      <td>5</td>\n",
       "      <td>0</td>\n",
       "      <td>3</td>\n",
       "      <td>Allen, Mr. William Henry</td>\n",
       "      <td>male</td>\n",
       "      <td>35.0</td>\n",
       "      <td>0</td>\n",
       "      <td>0</td>\n",
       "      <td>373450</td>\n",
       "      <td>8.0500</td>\n",
       "      <td>NaN</td>\n",
       "      <td>S</td>\n",
       "    </tr>\n",
       "    <tr>\n",
       "      <th>...</th>\n",
       "      <td>...</td>\n",
       "      <td>...</td>\n",
       "      <td>...</td>\n",
       "      <td>...</td>\n",
       "      <td>...</td>\n",
       "      <td>...</td>\n",
       "      <td>...</td>\n",
       "      <td>...</td>\n",
       "      <td>...</td>\n",
       "      <td>...</td>\n",
       "      <td>...</td>\n",
       "      <td>...</td>\n",
       "    </tr>\n",
       "    <tr>\n",
       "      <th>886</th>\n",
       "      <td>887</td>\n",
       "      <td>0</td>\n",
       "      <td>2</td>\n",
       "      <td>Montvila, Rev. Juozas</td>\n",
       "      <td>male</td>\n",
       "      <td>27.0</td>\n",
       "      <td>0</td>\n",
       "      <td>0</td>\n",
       "      <td>211536</td>\n",
       "      <td>13.0000</td>\n",
       "      <td>NaN</td>\n",
       "      <td>S</td>\n",
       "    </tr>\n",
       "    <tr>\n",
       "      <th>887</th>\n",
       "      <td>888</td>\n",
       "      <td>1</td>\n",
       "      <td>1</td>\n",
       "      <td>Graham, Miss. Margaret Edith</td>\n",
       "      <td>female</td>\n",
       "      <td>19.0</td>\n",
       "      <td>0</td>\n",
       "      <td>0</td>\n",
       "      <td>112053</td>\n",
       "      <td>30.0000</td>\n",
       "      <td>B42</td>\n",
       "      <td>S</td>\n",
       "    </tr>\n",
       "    <tr>\n",
       "      <th>888</th>\n",
       "      <td>889</td>\n",
       "      <td>0</td>\n",
       "      <td>3</td>\n",
       "      <td>Johnston, Miss. Catherine Helen \"Carrie\"</td>\n",
       "      <td>female</td>\n",
       "      <td>NaN</td>\n",
       "      <td>1</td>\n",
       "      <td>2</td>\n",
       "      <td>W./C. 6607</td>\n",
       "      <td>23.4500</td>\n",
       "      <td>NaN</td>\n",
       "      <td>S</td>\n",
       "    </tr>\n",
       "    <tr>\n",
       "      <th>889</th>\n",
       "      <td>890</td>\n",
       "      <td>1</td>\n",
       "      <td>1</td>\n",
       "      <td>Behr, Mr. Karl Howell</td>\n",
       "      <td>male</td>\n",
       "      <td>26.0</td>\n",
       "      <td>0</td>\n",
       "      <td>0</td>\n",
       "      <td>111369</td>\n",
       "      <td>30.0000</td>\n",
       "      <td>C148</td>\n",
       "      <td>C</td>\n",
       "    </tr>\n",
       "    <tr>\n",
       "      <th>890</th>\n",
       "      <td>891</td>\n",
       "      <td>0</td>\n",
       "      <td>3</td>\n",
       "      <td>Dooley, Mr. Patrick</td>\n",
       "      <td>male</td>\n",
       "      <td>32.0</td>\n",
       "      <td>0</td>\n",
       "      <td>0</td>\n",
       "      <td>370376</td>\n",
       "      <td>7.7500</td>\n",
       "      <td>NaN</td>\n",
       "      <td>Q</td>\n",
       "    </tr>\n",
       "  </tbody>\n",
       "</table>\n",
       "<p>891 rows × 12 columns</p>\n",
       "</div>"
      ],
      "text/plain": [
       "     PassengerId  Survived  Pclass  \\\n",
       "0              1         0       3   \n",
       "1              2         1       1   \n",
       "2              3         1       3   \n",
       "3              4         1       1   \n",
       "4              5         0       3   \n",
       "..           ...       ...     ...   \n",
       "886          887         0       2   \n",
       "887          888         1       1   \n",
       "888          889         0       3   \n",
       "889          890         1       1   \n",
       "890          891         0       3   \n",
       "\n",
       "                                                  Name     Sex   Age  SibSp  \\\n",
       "0                              Braund, Mr. Owen Harris    male  22.0      1   \n",
       "1    Cumings, Mrs. John Bradley (Florence Briggs Th...  female  38.0      1   \n",
       "2                               Heikkinen, Miss. Laina  female  26.0      0   \n",
       "3         Futrelle, Mrs. Jacques Heath (Lily May Peel)  female  35.0      1   \n",
       "4                             Allen, Mr. William Henry    male  35.0      0   \n",
       "..                                                 ...     ...   ...    ...   \n",
       "886                              Montvila, Rev. Juozas    male  27.0      0   \n",
       "887                       Graham, Miss. Margaret Edith  female  19.0      0   \n",
       "888           Johnston, Miss. Catherine Helen \"Carrie\"  female   NaN      1   \n",
       "889                              Behr, Mr. Karl Howell    male  26.0      0   \n",
       "890                                Dooley, Mr. Patrick    male  32.0      0   \n",
       "\n",
       "     Parch            Ticket     Fare Cabin Embarked  \n",
       "0        0         A/5 21171   7.2500   NaN        S  \n",
       "1        0          PC 17599  71.2833   C85        C  \n",
       "2        0  STON/O2. 3101282   7.9250   NaN        S  \n",
       "3        0            113803  53.1000  C123        S  \n",
       "4        0            373450   8.0500   NaN        S  \n",
       "..     ...               ...      ...   ...      ...  \n",
       "886      0            211536  13.0000   NaN        S  \n",
       "887      0            112053  30.0000   B42        S  \n",
       "888      2        W./C. 6607  23.4500   NaN        S  \n",
       "889      0            111369  30.0000  C148        C  \n",
       "890      0            370376   7.7500   NaN        Q  \n",
       "\n",
       "[891 rows x 12 columns]"
      ]
     },
     "execution_count": 3,
     "metadata": {},
     "output_type": "execute_result"
    }
   ],
   "source": [
    "df"
   ]
  },
  {
   "cell_type": "markdown",
   "id": "exclusive-purse",
   "metadata": {},
   "source": [
    "## Bar and Barh Charts with Pandas"
   ]
  },
  {
   "cell_type": "markdown",
   "id": "bibliographic-journey",
   "metadata": {},
   "source": [
    "With our data imported successfully, let's jump right in with bar charts. Bar charts a great way to visualize qualitative data quantitatively. To demonstrate what I mean by this, let's consider if we wanted to know how many male passengers were on the Titanic relative to female passengers. I could grab all the value counts and look at the numbers by calling .value_counts(), as in the example below."
   ]
  },
  {
   "cell_type": "code",
   "execution_count": 4,
   "id": "parental-employment",
   "metadata": {},
   "outputs": [
    {
     "data": {
      "text/plain": [
       "male      577\n",
       "female    314\n",
       "Name: Sex, dtype: int64"
      ]
     },
     "execution_count": 4,
     "metadata": {},
     "output_type": "execute_result"
    }
   ],
   "source": [
    "df['Sex'].value_counts()"
   ]
  },
  {
   "cell_type": "markdown",
   "id": "alternative-execution",
   "metadata": {},
   "source": [
    "This kind of raw numerical data is useful, but it is often difficult to present visually to audiences. For this reason, it is quite common to have the raw numerical data available, but to give the audience a quick sense of the numbers visually.  We can take that initial code we see above and append two other methods to it .plot.bar() and we get the following result."
   ]
  },
  {
   "cell_type": "code",
   "execution_count": 5,
   "id": "canadian-management",
   "metadata": {},
   "outputs": [
    {
     "data": {
      "text/plain": [
       "<AxesSubplot:>"
      ]
     },
     "execution_count": 5,
     "metadata": {},
     "output_type": "execute_result"
    },
    {
     "data": {
      "image/png": "[encoded data removed]",
      "text/plain": [
       "<Figure size 432x288 with 1 Axes>"
      ]
     },
     "metadata": {
      "needs_background": "light"
     },
     "output_type": "display_data"
    }
   ],
   "source": [
    "df['Sex'].value_counts().plot.bar()"
   ]
  },
  {
   "cell_type": "markdown",
   "id": "proof-journey",
   "metadata": {},
   "source": [
    "Not bad, but this chart is quite staid. For one thing, we don't even have a title! Let's fix that. We can pass a keyword argument of title. This will take a string."
   ]
  },
  {
   "cell_type": "code",
   "execution_count": 6,
   "id": "injured-living",
   "metadata": {},
   "outputs": [
    {
     "data": {
      "text/plain": [
       "<AxesSubplot:title={'center':'Passengers on the Titanic'}>"
      ]
     },
     "execution_count": 6,
     "metadata": {},
     "output_type": "execute_result"
    },
    {
     "data": {
      "image/png": "[encoded data removed]",
      "text/plain": [
       "<Figure size 432x288 with 1 Axes>"
      ]
     },
     "metadata": {
      "needs_background": "light"
     },
     "output_type": "display_data"
    }
   ],
   "source": [
    "df['Sex'].value_counts().plot.bar(title=\"Passengers on the Titanic\")"
   ]
  },
  {
   "cell_type": "markdown",
   "id": "legislative-petersburg",
   "metadata": {},
   "source": [
    "We have another serious issue, though. Both types of gender are represented with the same color. This can be difficult for audiences to decipher in some instances, so let's change that. We can pass the keyword argument of color which will take a list of colors."
   ]
  },
  {
   "cell_type": "code",
   "execution_count": 7,
   "id": "alone-scope",
   "metadata": {},
   "outputs": [
    {
     "data": {
      "text/plain": [
       "<AxesSubplot:title={'center':'Passengers on the Titanic'}>"
      ]
     },
     "execution_count": 7,
     "metadata": {},
     "output_type": "execute_result"
    },
    {
     "data": {
      "image/png": "[encoded data removed]",
      "text/plain": [
       "<Figure size 432x288 with 1 Axes>"
      ]
     },
     "metadata": {
      "needs_background": "light"
     },
     "output_type": "display_data"
    }
   ],
   "source": [
    "df['Sex'].value_counts().plot.bar(title=\"Passengers on the Titanic\", color=[\"blue\", \"red\"])"
   ]
  },
  {
   "cell_type": "code",
   "execution_count": null,
   "id": "actual-difficulty",
   "metadata": {},
   "outputs": [],
   "source": [
    "df['Sex'].value_counts().plot.bar(title=\"Passengers on the Titanic\", color=[\"blue\", \"red\"])"
   ]
  },
  {
   "cell_type": "markdown",
   "id": "operational-variety",
   "metadata": {},
   "source": [
    "We can do the same thing with a barh graph, or a bar-horizontal graph."
   ]
  },
  {
   "cell_type": "code",
   "execution_count": null,
   "id": "essential-upgrade",
   "metadata": {},
   "outputs": [],
   "source": [
    "df['Sex'].value_counts().plot.barh(title=\"Passengers on the Titanic\", color=[\"blue\", \"red\"])"
   ]
  },
  {
   "cell_type": "code",
   "execution_count": null,
   "id": "athletic-chrome",
   "metadata": {},
   "outputs": [],
   "source": []
  },
  {
   "cell_type": "markdown",
   "id": "unsigned-masters",
   "metadata": {},
   "source": [
    "## Pie Charts with Pandas"
   ]
  },
  {
   "cell_type": "code",
   "execution_count": null,
   "id": "spread-interview",
   "metadata": {},
   "outputs": [],
   "source": [
    "df['Sex'].value_counts().plot.pie()"
   ]
  },
  {
   "cell_type": "code",
   "execution_count": null,
   "id": "divine-cleaner",
   "metadata": {},
   "outputs": [],
   "source": [
    "df['Sex'].value_counts().plot.pie(figsize=(6, 6))"
   ]
  },
  {
   "cell_type": "markdown",
   "id": "collaborative-english",
   "metadata": {},
   "source": [
    "Let's say I was interested in the title of the genders not being lowercase. I can add in some custom labels to the data as a keyword argument, labels, which takes a list."
   ]
  },
  {
   "cell_type": "code",
   "execution_count": null,
   "id": "significant-concentrate",
   "metadata": {},
   "outputs": [],
   "source": [
    "df['Sex'].value_counts().plot.pie(labels=[\"Male\", \"Female\"])"
   ]
  },
  {
   "cell_type": "markdown",
   "id": "growing-rocket",
   "metadata": {},
   "source": [
    "Now that we have our labels as we want them, let's give thee audience a bit of a better experience. Let's allow them to easily see the percentage of each gender, not just visually, but quantitatively. To do this, we can pass the keyword argument, autopct, which will take a string. In this case, we can pass in the argument \"%.2f\" which is a formatted string. This argument will convert our data into a percentage."
   ]
  },
  {
   "cell_type": "code",
   "execution_count": null,
   "id": "electronic-irish",
   "metadata": {},
   "outputs": [],
   "source": [
    "df['Sex'].value_counts().plot.pie(labels=[\"Male\", \"Female\"], autopct=\"%.2f\")"
   ]
  },
  {
   "cell_type": "markdown",
   "id": "greenhouse-alexander",
   "metadata": {},
   "source": [
    "## Scatter Plots with Pandas"
   ]
  },
  {
   "cell_type": "markdown",
   "id": "horizontal-honor",
   "metadata": {},
   "source": [
    "Scatter plots allow us to plot qualitative data quantitatively in relation to two numerical attributes. Let's imagine that we are interested in exploring all passengers, something qualitative. Now, we want to know how each passenger relates to other passengers on two numerical, or quantitative attributes, e.g. the age of the passenger and the fare that they paid. Both of these are quantitative. We can therefore represent each person as a point on the scatter plot and plot them in relation to their fare (vertical, or y axis) and age (horizontal, or x axis) on the graph.\n",
    "\n",
    "In Pandas we can do this by passing two keyword arguments, x and y and set them both equal to the DataFramee column we want, e.g. \"Age\" and \"Fare\"."
   ]
  },
  {
   "cell_type": "code",
   "execution_count": null,
   "id": "changing-louis",
   "metadata": {},
   "outputs": [],
   "source": [
    "df.plot.scatter(x=\"Age\", y=\"Fare\")"
   ]
  },
  {
   "cell_type": "markdown",
   "id": "cardiovascular-hopkins",
   "metadata": {},
   "source": [
    "That looks good, but we can do better. Let's try to color coordinate this data. Let's say we are interested in seeing not only the passenger's age and fare, but we're also interested in color-coordinating the graph so that their Pclass effects the color of each plot. We can do this by passing a few new keyword arguments.\n",
    "\n",
    "1) c=\"Pclass\" => c will be the column that affects the color<br>\n",
    "2) cmap=\"virdis\" => will be the color map we want to use (these are built into Pandas)<br>"
   ]
  },
  {
   "cell_type": "code",
   "execution_count": null,
   "id": "moral-personality",
   "metadata": {},
   "outputs": [],
   "source": [
    "df.plot.scatter(x=\"Age\", y=\"Fare\", c=\"Pclass\",cmap=\"viridis\")"
   ]
  },
  {
   "cell_type": "markdown",
   "id": "nominated-ceramic",
   "metadata": {},
   "source": [
    "This is starting to look a lot better now. But let's say we didn't want to represent our data as a series of marginally changing numbers. When we pass a DataFrame column to c as a set of numbers, Pandas presumes that that number corresponds to a gradient change in color. But passenger class is not a gradient change, it is a integral change, meaning no one will be Pclass 1.2. They will be 1, 2, or 3. In order to fix this graph, we can make a few changes. First, we can use df.loc that we met in a previous notebook to grab all classes. Now, we know there are three. We can convert these from numerical representations of the class into string representations, e.g. First, Second, and Third.\n",
    "\n",
    "Next, we can convert that entire column from a string column into a Pandas Categorical Class."
   ]
  },
  {
   "cell_type": "code",
   "execution_count": null,
   "id": "reliable-teach",
   "metadata": {},
   "outputs": [],
   "source": [
    "df.loc[(df.Pclass == 1),'Pclass']=\"First\"\n",
    "df.loc[(df.Pclass == 2),'Pclass']=\"Second\"\n",
    "df.loc[(df.Pclass == 3),'Pclass']=\"Third\""
   ]
  },
  {
   "cell_type": "markdown",
   "id": "aboriginal-bryan",
   "metadata": {},
   "source": [
    "We can now see that our data has now been altered in the Pclass column."
   ]
  },
  {
   "cell_type": "code",
   "execution_count": null,
   "id": "guided-announcement",
   "metadata": {},
   "outputs": [],
   "source": [
    "df"
   ]
  },
  {
   "cell_type": "markdown",
   "id": "becoming-reaction",
   "metadata": {},
   "source": [
    "Now that our data is successfully converted into a string, you might be thinking that we can run the same code as before and we should see the data divided between strings, rather than a gradient shift between floats. If we execute the cell below, however, we get a rather large and scary looking error. (Scroll down to see the solution)."
   ]
  },
  {
   "cell_type": "code",
   "execution_count": null,
   "id": "integral-demand",
   "metadata": {},
   "outputs": [],
   "source": [
    "df.plot.scatter(x=\"Age\", y=\"Fare\", c=\"Pclass\", cmap=\"viridis\", s=50)"
   ]
  },
  {
   "cell_type": "markdown",
   "id": "ancient-accuracy",
   "metadata": {},
   "source": [
    "Keeping this massive error in the textbook is essential, despite its size being rather annoying. It tells us a lot of information about the problem. When we try and pass a keyword argument of c, Pandas is expecting a series of numbers (which will correspond to gradient shifts in the cmap), a list of colors, or a Pandas Categorical column. To change our data to a list of colors, let's convert our data into three different colors."
   ]
  },
  {
   "cell_type": "code",
   "execution_count": null,
   "id": "closing-enough",
   "metadata": {},
   "outputs": [],
   "source": [
    "df.loc[(df.Pclass == \"First\"),'Pclass']=\"red\"\n",
    "df.loc[(df.Pclass == \"Second\"),'Pclass']=\"blue\"\n",
    "df.loc[(df.Pclass == \"Third\"),'Pclass']=\"green\""
   ]
  },
  {
   "cell_type": "code",
   "execution_count": null,
   "id": "assisted-fireplace",
   "metadata": {},
   "outputs": [],
   "source": [
    "df.plot.scatter(x=\"Age\", y=\"Fare\", c=\"Pclass\")"
   ]
  },
  {
   "cell_type": "markdown",
   "id": "artistic-optics",
   "metadata": {},
   "source": [
    "Now, our plots are all color coordinated. But I don't like this. It doesn't have a nice ledger to read. Instead, we should convert this data into a Categorical Column. To do this, let's first get our data back into First, Second, and Third class format."
   ]
  },
  {
   "cell_type": "code",
   "execution_count": null,
   "id": "extraordinary-money",
   "metadata": {},
   "outputs": [],
   "source": [
    "df.loc[(df.Pclass == \"red\"),'Pclass']=\"First\"\n",
    "df.loc[(df.Pclass == \"blue\"),'Pclass']=\"Second\"\n",
    "df.loc[(df.Pclass == \"green\"),'Pclass']=\"Third\""
   ]
  },
  {
   "cell_type": "markdown",
   "id": "exterior-highland",
   "metadata": {},
   "source": [
    "Now, let's try this again by first converting Pclass into a Categorical type."
   ]
  },
  {
   "cell_type": "code",
   "execution_count": null,
   "id": "assigned-filing",
   "metadata": {},
   "outputs": [],
   "source": [
    "df['Pclass'] = df.Pclass.astype('category')"
   ]
  },
  {
   "cell_type": "code",
   "execution_count": null,
   "id": "mental-syndicate",
   "metadata": {},
   "outputs": [],
   "source": [
    "df.plot.scatter(x=\"Age\", y=\"Fare\", c=\"Pclass\", cmap=\"viridis\")"
   ]
  },
  {
   "cell_type": "markdown",
   "id": "least-great",
   "metadata": {},
   "source": [
    "Now, like magic, we have precisely what we want to see. But we can do even better! Let's say we don't like the size of the nodes (points) on the graph. We want to see smaller nodes to distinguish better between the points. We can pass another keyword argument, s, which stands for size. This expects an integer."
   ]
  },
  {
   "cell_type": "code",
   "execution_count": null,
   "id": "corporate-humidity",
   "metadata": {},
   "outputs": [],
   "source": [
    "df.plot.scatter(x=\"Age\", y=\"Fare\", c=\"Pclass\", cmap=\"viridis\", s=5)"
   ]
  },
  {
   "cell_type": "markdown",
   "id": "proper-provision",
   "metadata": {},
   "source": [
    "To make it a bit easier to read, let's also adjust the size a bit."
   ]
  },
  {
   "cell_type": "code",
   "execution_count": null,
   "id": "alert-breakdown",
   "metadata": {},
   "outputs": [],
   "source": [
    "df.plot.scatter(x=\"Age\", y=\"Fare\", c=\"Pclass\", cmap=\"viridis\", s=5, figsize=(15,5))"
   ]
  }
 ],
 "metadata": {
  "kernelspec": {
   "display_name": "Python 3",
   "language": "python",
   "name": "python3"
  },
  "language_info": {
   "codemirror_mode": {
    "name": "ipython",
    "version": 3
   },
   "file_extension": ".py",
   "mimetype": "text/x-python",
   "name": "python",
   "nbconvert_exporter": "python",
   "pygments_lexer": "ipython3",
   "version": "3.9.2"
  }
 },
 "nbformat": 4,
 "nbformat_minor": 5
}
