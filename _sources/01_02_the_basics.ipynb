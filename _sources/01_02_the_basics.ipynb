{
 "cells": [
  {
   "cell_type": "markdown",
   "id": "steady-puppy",
   "metadata": {},
   "source": [
    "# <center>The Basics of Pandas</center>"
   ]
  },
  {
   "cell_type": "markdown",
   "id": "operating-alexandria",
   "metadata": {},
   "source": [
    "<center>Dr. W.J.B. Mattingly</center>\n",
    "\n",
    "<center>Smithsonian Data Science Lab and United States Holocaust Memorial Museum</center>\n",
    "\n",
    "<center>August 2021</center>"
   ]
  },
  {
   "cell_type": "markdown",
   "id": "forward-capacity",
   "metadata": {},
   "source": [
    "## Covered in this Chapter"
   ]
  },
  {
   "cell_type": "markdown",
   "id": "above-orientation",
   "metadata": {},
   "source": [
    "1) How to Create a DataFrame from a Dictionary<br>\n",
    "2) How to Display a DataFrame<br>\n",
    "3) How to Save a DataFrame to CSV<br>\n",
    "4) How to Create a DataFrame from a CSV File<br>\n",
    "5) How to Create a DataFrame from a JSON File<br>\n",
    "6) How to Add a Column to a DataFrame<br>\n",
    "7) How to Grab a Specific Column of a DataFrame<br>\n",
    "8) How to Convert a Column to a List<br>\n",
    "9) How to Grab a Specific Row of a DataFrame"
   ]
  },
  {
   "cell_type": "markdown",
   "id": "virgin-collapse",
   "metadata": {},
   "source": [
    "## How to Create a DataFrame from a Dictionary"
   ]
  },
  {
   "cell_type": "markdown",
   "id": "false-parks",
   "metadata": {},
   "source": [
    "As we noted in the last notebook, we need to first import pandas. To do that we will import pandas as pd."
   ]
  },
  {
   "cell_type": "code",
   "execution_count": 1,
   "id": "brutal-citizenship",
   "metadata": {},
   "outputs": [],
   "source": [
    "import pandas as pd"
   ]
  },
  {
   "cell_type": "markdown",
   "id": "fifth-soldier",
   "metadata": {},
   "source": [
    "With pandas now loaded correctly, we can begin to work with the library. Normally, you will create a Pandas DataFrame from a CSV or some external data file. We will see examples of that below. To begin, though, let's start with the basics. Below we have a dictionary. A good way to think of this dictionary is as an Excel Spreadsheet. Each key in the dictionary is a column and its value is a list which contains each cell in that column. We will see an example of a two-column dataset below, but for now let's work with the single column dataset, \"names\". In this column, we have a list of 6 names."
   ]
  },
  {
   "cell_type": "code",
   "execution_count": 2,
   "id": "adjusted-baptist",
   "metadata": {},
   "outputs": [],
   "source": [
    "names_dict = {\"names\":\n",
    "        [\n",
    "            \"Tom\",\n",
    "            \"Mary\",\n",
    "            \"Jeff\",\n",
    "            \"Rose\",\n",
    "            \"Stephanie\",\n",
    "            \"Rodger\"\n",
    "        ]}"
   ]
  },
  {
   "cell_type": "markdown",
   "id": "baking-violation",
   "metadata": {},
   "source": [
    "Normally in Python, we would work with this data as an object. I could do something like the following to get the value of names:"
   ]
  },
  {
   "cell_type": "code",
   "execution_count": 3,
   "id": "polished-finance",
   "metadata": {},
   "outputs": [
    {
     "name": "stdout",
     "output_type": "stream",
     "text": [
      "['Tom', 'Mary', 'Jeff', 'Rose', 'Stephanie', 'Rodger']\n"
     ]
    }
   ],
   "source": [
    "print (names_dict[\"names\"])"
   ]
  },
  {
   "cell_type": "markdown",
   "id": "elect-nickname",
   "metadata": {},
   "source": [
    "But this is a textbook on Pandas and DataFrames. We want to do more! We want to work strictly with our data as a DataFrame. In order to do this, we need to convert the data into a Pandas DataFrame. To do that, we can use the line of code below. The pd.DataFrame can take numerous arguments. We won't get into all of them right now. For now, understand that there is one essential argument that you must pass: the data that you wish to convert into a DataFrame. In our case, we will be converting the single-column dictionary into a DataFrame, so we pass that object as the only argument. We can see this in the code below."
   ]
  },
  {
   "cell_type": "code",
   "execution_count": 4,
   "id": "functional-strength",
   "metadata": {},
   "outputs": [],
   "source": [
    "df = pd.DataFrame(names_dict)"
   ]
  },
  {
   "cell_type": "markdown",
   "id": "accepting-flash",
   "metadata": {},
   "source": [
    "## How to Display a DataFrame"
   ]
  },
  {
   "cell_type": "markdown",
   "id": "powerful-eligibility",
   "metadata": {},
   "source": [
    "Loading the data as DataFrame is not the end of our work. It is often times essential to view that data in a Jupyter notebook or terminal. To see what it looks like, you can use the following command."
   ]
  },
  {
   "cell_type": "code",
   "execution_count": 5,
   "id": "coordinated-excitement",
   "metadata": {},
   "outputs": [
    {
     "data": {
      "text/html": [
       "<div>\n",
       "<style scoped>\n",
       "    .dataframe tbody tr th:only-of-type {\n",
       "        vertical-align: middle;\n",
       "    }\n",
       "\n",
       "    .dataframe tbody tr th {\n",
       "        vertical-align: top;\n",
       "    }\n",
       "\n",
       "    .dataframe thead th {\n",
       "        text-align: right;\n",
       "    }\n",
       "</style>\n",
       "<table border=\"1\" class=\"dataframe\">\n",
       "  <thead>\n",
       "    <tr style=\"text-align: right;\">\n",
       "      <th></th>\n",
       "      <th>names</th>\n",
       "    </tr>\n",
       "  </thead>\n",
       "  <tbody>\n",
       "    <tr>\n",
       "      <th>0</th>\n",
       "      <td>Tom</td>\n",
       "    </tr>\n",
       "    <tr>\n",
       "      <th>1</th>\n",
       "      <td>Mary</td>\n",
       "    </tr>\n",
       "    <tr>\n",
       "      <th>2</th>\n",
       "      <td>Jeff</td>\n",
       "    </tr>\n",
       "    <tr>\n",
       "      <th>3</th>\n",
       "      <td>Rose</td>\n",
       "    </tr>\n",
       "    <tr>\n",
       "      <th>4</th>\n",
       "      <td>Stephanie</td>\n",
       "    </tr>\n",
       "    <tr>\n",
       "      <th>5</th>\n",
       "      <td>Rodger</td>\n",
       "    </tr>\n",
       "  </tbody>\n",
       "</table>\n",
       "</div>"
      ],
      "text/plain": [
       "       names\n",
       "0        Tom\n",
       "1       Mary\n",
       "2       Jeff\n",
       "3       Rose\n",
       "4  Stephanie\n",
       "5     Rodger"
      ]
     },
     "execution_count": 5,
     "metadata": {},
     "output_type": "execute_result"
    }
   ],
   "source": [
    "df"
   ]
  },
  {
   "cell_type": "markdown",
   "id": "vocal-roberts",
   "metadata": {},
   "source": [
    "Note that we are not printing off the data. This is because we are working within a Jupyter notebook. Were we working within an IDE, such as Atom, we would need to use the following command:"
   ]
  },
  {
   "cell_type": "code",
   "execution_count": 6,
   "id": "vocational-holocaust",
   "metadata": {},
   "outputs": [
    {
     "name": "stdout",
     "output_type": "stream",
     "text": [
      "       names\n",
      "0        Tom\n",
      "1       Mary\n",
      "2       Jeff\n",
      "3       Rose\n",
      "4  Stephanie\n",
      "5     Rodger\n"
     ]
    }
   ],
   "source": [
    "print (df)"
   ]
  },
  {
   "cell_type": "markdown",
   "id": "single-pontiac",
   "metadata": {},
   "source": [
    "Notice, however, that the formatting of the data in the output is a bit different. When we print off a DataFrame, we do not see the nice formatting, such as the row highlighting and column header emboldening. It is for these reasons, that I recommend using the command \"df\" rather than print (df)"
   ]
  },
  {
   "cell_type": "markdown",
   "id": "english-budapest",
   "metadata": {},
   "source": [
    "## How to Save DataFrame to CSV"
   ]
  },
  {
   "cell_type": "markdown",
   "id": "solid-mills",
   "metadata": {},
   "source": [
    "Often times when you convert your data into a DataFrame, you will process it and then ultimately save it to disk. To do this, we have a few different options, such as CSV and JSON. We will meet this process with JSON a bit later. For now, let's focus on one file type: CSV, or comma separated value. To save your DataFrame to a CSV file, you can write the following command"
   ]
  },
  {
   "cell_type": "code",
   "execution_count": 7,
   "id": "alternate-baking",
   "metadata": {},
   "outputs": [],
   "source": [
    "df.to_csv(\"data/names.csv\")"
   ]
  },
  {
   "cell_type": "markdown",
   "id": "metropolitan-appointment",
   "metadata": {},
   "source": [
    "As we will see a little later, there are different arguments that you can pass here (and should!) For now, let's focus on that single argument that we used: a string. This string should correspond to the file that you want to create. In this case, we are putting it into the data subfolder under the name \"names.csv\"."
   ]
  },
  {
   "cell_type": "markdown",
   "id": "congressional-infrared",
   "metadata": {},
   "source": [
    "## How to Read DataFrame from CSV"
   ]
  },
  {
   "cell_type": "markdown",
   "id": "korean-devil",
   "metadata": {},
   "source": [
    "Now that we have the data saved to a CSV file, let's create a new DataFrame, df2, and read that data. We can do this with the command pd.read_csv(). As with to_csv, we can pass multiple arguments here, but for now, we will stick with the one mandatory one, a string of the file that we wish to open. In this case, it is the same file we just created. Let's open it and print it off."
   ]
  },
  {
   "cell_type": "code",
   "execution_count": 8,
   "id": "waiting-palmer",
   "metadata": {},
   "outputs": [],
   "source": [
    "df2 = pd.read_csv(\"data/names.csv\")"
   ]
  },
  {
   "cell_type": "code",
   "execution_count": 9,
   "id": "macro-switzerland",
   "metadata": {},
   "outputs": [
    {
     "data": {
      "text/html": [
       "<div>\n",
       "<style scoped>\n",
       "    .dataframe tbody tr th:only-of-type {\n",
       "        vertical-align: middle;\n",
       "    }\n",
       "\n",
       "    .dataframe tbody tr th {\n",
       "        vertical-align: top;\n",
       "    }\n",
       "\n",
       "    .dataframe thead th {\n",
       "        text-align: right;\n",
       "    }\n",
       "</style>\n",
       "<table border=\"1\" class=\"dataframe\">\n",
       "  <thead>\n",
       "    <tr style=\"text-align: right;\">\n",
       "      <th></th>\n",
       "      <th>Unnamed: 0</th>\n",
       "      <th>names</th>\n",
       "    </tr>\n",
       "  </thead>\n",
       "  <tbody>\n",
       "    <tr>\n",
       "      <th>0</th>\n",
       "      <td>0</td>\n",
       "      <td>Tom</td>\n",
       "    </tr>\n",
       "    <tr>\n",
       "      <th>1</th>\n",
       "      <td>1</td>\n",
       "      <td>Mary</td>\n",
       "    </tr>\n",
       "    <tr>\n",
       "      <th>2</th>\n",
       "      <td>2</td>\n",
       "      <td>Jeff</td>\n",
       "    </tr>\n",
       "    <tr>\n",
       "      <th>3</th>\n",
       "      <td>3</td>\n",
       "      <td>Rose</td>\n",
       "    </tr>\n",
       "    <tr>\n",
       "      <th>4</th>\n",
       "      <td>4</td>\n",
       "      <td>Stephanie</td>\n",
       "    </tr>\n",
       "    <tr>\n",
       "      <th>5</th>\n",
       "      <td>5</td>\n",
       "      <td>Rodger</td>\n",
       "    </tr>\n",
       "  </tbody>\n",
       "</table>\n",
       "</div>"
      ],
      "text/plain": [
       "   Unnamed: 0      names\n",
       "0           0        Tom\n",
       "1           1       Mary\n",
       "2           2       Jeff\n",
       "3           3       Rose\n",
       "4           4  Stephanie\n",
       "5           5     Rodger"
      ]
     },
     "execution_count": 9,
     "metadata": {},
     "output_type": "execute_result"
    }
   ],
   "source": [
    "df2"
   ]
  },
  {
   "cell_type": "markdown",
   "id": "overhead-spectrum",
   "metadata": {},
   "source": [
    "This doesn't look right. Notice that this DataFrame looks a bit off from what we saved to disk. Why is that? It is because of *how* we saved the file. If we don't specify an index, Pandas will automatically create one for us. In order to correctly save our file, we need to pass an extra keyword argument, specifically index=False. Let's try and save this file again under a different name: \"names_no_index.csv\"."
   ]
  },
  {
   "cell_type": "code",
   "execution_count": 10,
   "id": "christian-strap",
   "metadata": {},
   "outputs": [],
   "source": [
    "df.to_csv(\"data/names_no_index.csv\", index=False)"
   ]
  },
  {
   "cell_type": "markdown",
   "id": "latin-puzzle",
   "metadata": {},
   "source": [
    "Let's create a new DataFrame, df3, and reopen and print off the data."
   ]
  },
  {
   "cell_type": "code",
   "execution_count": 11,
   "id": "connected-messenger",
   "metadata": {},
   "outputs": [],
   "source": [
    "df3 = pd.read_csv(\"data/names_no_index.csv\")"
   ]
  },
  {
   "cell_type": "code",
   "execution_count": 12,
   "id": "supreme-facing",
   "metadata": {},
   "outputs": [
    {
     "data": {
      "text/html": [
       "<div>\n",
       "<style scoped>\n",
       "    .dataframe tbody tr th:only-of-type {\n",
       "        vertical-align: middle;\n",
       "    }\n",
       "\n",
       "    .dataframe tbody tr th {\n",
       "        vertical-align: top;\n",
       "    }\n",
       "\n",
       "    .dataframe thead th {\n",
       "        text-align: right;\n",
       "    }\n",
       "</style>\n",
       "<table border=\"1\" class=\"dataframe\">\n",
       "  <thead>\n",
       "    <tr style=\"text-align: right;\">\n",
       "      <th></th>\n",
       "      <th>names</th>\n",
       "    </tr>\n",
       "  </thead>\n",
       "  <tbody>\n",
       "    <tr>\n",
       "      <th>0</th>\n",
       "      <td>Tom</td>\n",
       "    </tr>\n",
       "    <tr>\n",
       "      <th>1</th>\n",
       "      <td>Mary</td>\n",
       "    </tr>\n",
       "    <tr>\n",
       "      <th>2</th>\n",
       "      <td>Jeff</td>\n",
       "    </tr>\n",
       "    <tr>\n",
       "      <th>3</th>\n",
       "      <td>Rose</td>\n",
       "    </tr>\n",
       "    <tr>\n",
       "      <th>4</th>\n",
       "      <td>Stephanie</td>\n",
       "    </tr>\n",
       "    <tr>\n",
       "      <th>5</th>\n",
       "      <td>Rodger</td>\n",
       "    </tr>\n",
       "  </tbody>\n",
       "</table>\n",
       "</div>"
      ],
      "text/plain": [
       "       names\n",
       "0        Tom\n",
       "1       Mary\n",
       "2       Jeff\n",
       "3       Rose\n",
       "4  Stephanie\n",
       "5     Rodger"
      ]
     },
     "execution_count": 12,
     "metadata": {},
     "output_type": "execute_result"
    }
   ],
   "source": [
    "df3"
   ]
  },
  {
   "cell_type": "markdown",
   "id": "focused-patent",
   "metadata": {},
   "source": [
    "Like magic, now we have a DataFrame that represents our original data."
   ]
  },
  {
   "cell_type": "markdown",
   "id": "hungry-eclipse",
   "metadata": {},
   "source": [
    "## How to Save DataFrame to JSON"
   ]
  },
  {
   "cell_type": "markdown",
   "id": "single-clerk",
   "metadata": {},
   "source": [
    "In Pandas, we are not limited to CSV files, we can do this same process with JSON files, which are JavaScript Object Notation files. These are a bit different from CSV files and are used to store more complex data, specifically data that is used on the web because all browsers can interpret JSON data off-the-shelf. To save our data to a JSON file, we can use the to_json(). Note that we are not passing the index argument here. When our data is stored as a JSON file this is not necessary."
   ]
  },
  {
   "cell_type": "code",
   "execution_count": 13,
   "id": "arctic-green",
   "metadata": {},
   "outputs": [],
   "source": [
    "df3.to_json(\"data/names.json\")"
   ]
  },
  {
   "cell_type": "markdown",
   "id": "solved-visibility",
   "metadata": {},
   "source": [
    "Now, let's open that same data as a new DataFrame, df4. We can do the same thing as we did with the CSV file, except use read_json() and then print it off."
   ]
  },
  {
   "cell_type": "code",
   "execution_count": 14,
   "id": "scenic-monaco",
   "metadata": {},
   "outputs": [],
   "source": [
    "df4 = pd.read_json(\"data/names.json\")"
   ]
  },
  {
   "cell_type": "code",
   "execution_count": 15,
   "id": "right-penalty",
   "metadata": {},
   "outputs": [
    {
     "data": {
      "text/html": [
       "<div>\n",
       "<style scoped>\n",
       "    .dataframe tbody tr th:only-of-type {\n",
       "        vertical-align: middle;\n",
       "    }\n",
       "\n",
       "    .dataframe tbody tr th {\n",
       "        vertical-align: top;\n",
       "    }\n",
       "\n",
       "    .dataframe thead th {\n",
       "        text-align: right;\n",
       "    }\n",
       "</style>\n",
       "<table border=\"1\" class=\"dataframe\">\n",
       "  <thead>\n",
       "    <tr style=\"text-align: right;\">\n",
       "      <th></th>\n",
       "      <th>names</th>\n",
       "    </tr>\n",
       "  </thead>\n",
       "  <tbody>\n",
       "    <tr>\n",
       "      <th>0</th>\n",
       "      <td>Tom</td>\n",
       "    </tr>\n",
       "    <tr>\n",
       "      <th>1</th>\n",
       "      <td>Mary</td>\n",
       "    </tr>\n",
       "    <tr>\n",
       "      <th>2</th>\n",
       "      <td>Jeff</td>\n",
       "    </tr>\n",
       "    <tr>\n",
       "      <th>3</th>\n",
       "      <td>Rose</td>\n",
       "    </tr>\n",
       "    <tr>\n",
       "      <th>4</th>\n",
       "      <td>Stephanie</td>\n",
       "    </tr>\n",
       "    <tr>\n",
       "      <th>5</th>\n",
       "      <td>Rodger</td>\n",
       "    </tr>\n",
       "  </tbody>\n",
       "</table>\n",
       "</div>"
      ],
      "text/plain": [
       "       names\n",
       "0        Tom\n",
       "1       Mary\n",
       "2       Jeff\n",
       "3       Rose\n",
       "4  Stephanie\n",
       "5     Rodger"
      ]
     },
     "execution_count": 15,
     "metadata": {},
     "output_type": "execute_result"
    }
   ],
   "source": [
    "df4"
   ]
  },
  {
   "cell_type": "markdown",
   "id": "enabling-entrance",
   "metadata": {},
   "source": [
    "## How to Add a Column to the DataFrame"
   ]
  },
  {
   "cell_type": "markdown",
   "id": "continuing-basketball",
   "metadata": {},
   "source": [
    "When working with DataFrames, you will almost always need to manipulate the data in some way. This means adding columns, deleting columns, performing permutations on data in columns, etc. We are going to cover all these things throughout this textbook. For now, let's start with the basics. Imagine we got the names of individuals from one source and their ages from another. We now need to add those ages into our DataFrame. We can approach the DataFrame as something like a dictionary here. We can add a column by creating it with df4\\[\"ages\"\\]. This allows us to make that equal to the new data. The command below essentially adds a column to our DataFrame. Let's execute the command and print it off."
   ]
  },
  {
   "cell_type": "code",
   "execution_count": 16,
   "id": "cosmetic-chair",
   "metadata": {},
   "outputs": [],
   "source": [
    "df4[\"ages\"] = [20, 26, 20, 18, 52, 40]"
   ]
  },
  {
   "cell_type": "code",
   "execution_count": 17,
   "id": "adaptive-roommate",
   "metadata": {},
   "outputs": [
    {
     "data": {
      "text/html": [
       "<div>\n",
       "<style scoped>\n",
       "    .dataframe tbody tr th:only-of-type {\n",
       "        vertical-align: middle;\n",
       "    }\n",
       "\n",
       "    .dataframe tbody tr th {\n",
       "        vertical-align: top;\n",
       "    }\n",
       "\n",
       "    .dataframe thead th {\n",
       "        text-align: right;\n",
       "    }\n",
       "</style>\n",
       "<table border=\"1\" class=\"dataframe\">\n",
       "  <thead>\n",
       "    <tr style=\"text-align: right;\">\n",
       "      <th></th>\n",
       "      <th>names</th>\n",
       "      <th>ages</th>\n",
       "    </tr>\n",
       "  </thead>\n",
       "  <tbody>\n",
       "    <tr>\n",
       "      <th>0</th>\n",
       "      <td>Tom</td>\n",
       "      <td>20</td>\n",
       "    </tr>\n",
       "    <tr>\n",
       "      <th>1</th>\n",
       "      <td>Mary</td>\n",
       "      <td>26</td>\n",
       "    </tr>\n",
       "    <tr>\n",
       "      <th>2</th>\n",
       "      <td>Jeff</td>\n",
       "      <td>20</td>\n",
       "    </tr>\n",
       "    <tr>\n",
       "      <th>3</th>\n",
       "      <td>Rose</td>\n",
       "      <td>18</td>\n",
       "    </tr>\n",
       "    <tr>\n",
       "      <th>4</th>\n",
       "      <td>Stephanie</td>\n",
       "      <td>52</td>\n",
       "    </tr>\n",
       "    <tr>\n",
       "      <th>5</th>\n",
       "      <td>Rodger</td>\n",
       "      <td>40</td>\n",
       "    </tr>\n",
       "  </tbody>\n",
       "</table>\n",
       "</div>"
      ],
      "text/plain": [
       "       names  ages\n",
       "0        Tom    20\n",
       "1       Mary    26\n",
       "2       Jeff    20\n",
       "3       Rose    18\n",
       "4  Stephanie    52\n",
       "5     Rodger    40"
      ]
     },
     "execution_count": 17,
     "metadata": {},
     "output_type": "execute_result"
    }
   ],
   "source": [
    "df4"
   ]
  },
  {
   "cell_type": "markdown",
   "id": "favorite-elephant",
   "metadata": {},
   "source": [
    "Notice that we now have our second column. I want to stress right now, that to do this we needed data that matched the length of the names. If we tried to do this same act, but with 5 ages, rather than 6, we would have received an error."
   ]
  },
  {
   "cell_type": "markdown",
   "id": "rotary-reverse",
   "metadata": {},
   "source": [
    "## How to Grab a Specific Column"
   ]
  },
  {
   "cell_type": "markdown",
   "id": "intended-brush",
   "metadata": {},
   "source": [
    "When working with a DataFrame, you will often need to grab a single column of data. To do that, we can navigate the column data rather like a Python Class. Let's create a new object, names, and grab just the names column by stating df4.names. This command tells Pandas to grab the \"names\" column. Note, this is case sensitive. After we grab it, let's print it off too."
   ]
  },
  {
   "cell_type": "code",
   "execution_count": 18,
   "id": "documentary-nelson",
   "metadata": {},
   "outputs": [],
   "source": [
    "names = df4.names"
   ]
  },
  {
   "cell_type": "code",
   "execution_count": 19,
   "id": "excited-development",
   "metadata": {},
   "outputs": [
    {
     "name": "stdout",
     "output_type": "stream",
     "text": [
      "0          Tom\n",
      "1         Mary\n",
      "2         Jeff\n",
      "3         Rose\n",
      "4    Stephanie\n",
      "5       Rodger\n",
      "Name: names, dtype: object\n"
     ]
    }
   ],
   "source": [
    "print (names)"
   ]
  },
  {
   "cell_type": "markdown",
   "id": "available-victory",
   "metadata": {},
   "source": [
    "Notice that we have a lot of data here about our names. We have their index (left column of integers). At the bottom, we have the type of data that it is. Don't worry about this extra data at the bottom for now. Let's try and grab the ages column now."
   ]
  },
  {
   "cell_type": "code",
   "execution_count": 20,
   "id": "burning-binary",
   "metadata": {},
   "outputs": [],
   "source": [
    "ages = df4.ages"
   ]
  },
  {
   "cell_type": "code",
   "execution_count": 21,
   "id": "medium-plaza",
   "metadata": {},
   "outputs": [
    {
     "data": {
      "text/plain": [
       "0    20\n",
       "1    26\n",
       "2    20\n",
       "3    18\n",
       "4    52\n",
       "5    40\n",
       "Name: ages, dtype: int64"
      ]
     },
     "execution_count": 21,
     "metadata": {},
     "output_type": "execute_result"
    }
   ],
   "source": [
    "ages"
   ]
  },
  {
   "cell_type": "markdown",
   "id": "cellular-christopher",
   "metadata": {},
   "source": [
    "## How to Convert a Column to a List"
   ]
  },
  {
   "cell_type": "markdown",
   "id": "historic-laser",
   "metadata": {},
   "source": [
    "When you are working with a DataFame, you will often times need to work with that data not as a column, rather as a list. To do this, you will want to convert that data into a list. You can do this, by calling the method .tolist() after the data in question. Let's try it with ages and print off a list of ages."
   ]
  },
  {
   "cell_type": "code",
   "execution_count": 22,
   "id": "declared-convert",
   "metadata": {},
   "outputs": [],
   "source": [
    "ages_list = df4.ages.tolist()"
   ]
  },
  {
   "cell_type": "code",
   "execution_count": 23,
   "id": "mature-transmission",
   "metadata": {},
   "outputs": [
    {
     "name": "stdout",
     "output_type": "stream",
     "text": [
      "[20, 26, 20, 18, 52, 40]\n"
     ]
    }
   ],
   "source": [
    "print (ages_list)"
   ]
  },
  {
   "cell_type": "markdown",
   "id": "greek-siemens",
   "metadata": {},
   "source": [
    "While this may not seem necessary on the surface, it is. One of the main reasons that this is essential is for processing large quantities of data. It is often times computationally less expensive to work with that data as a list or, better yet, as a NumPy array."
   ]
  },
  {
   "cell_type": "markdown",
   "id": "external-greensboro",
   "metadata": {},
   "source": [
    "## How to Grab a Specific Row of a DataFrame"
   ]
  },
  {
   "cell_type": "markdown",
   "id": "unable-ribbon",
   "metadata": {},
   "source": [
    "It will often times be necessary to grab a DataFrame by row, not column. We have a lot of different ways to grab a row, but for now let's imagine we want to just grab a specific row by index. (We can grab all rows that have a certain value in a certain column also, but we will see that a bit later.) To grab a row by index, you can use the iloc command. This stands for Index Location. Index Location can be indexed rather like a list, as in the code below. The index you choose should correspond to the row index (starting with 0)."
   ]
  },
  {
   "cell_type": "code",
   "execution_count": 24,
   "id": "choice-gothic",
   "metadata": {},
   "outputs": [],
   "source": [
    "row1 = df4.iloc[1]"
   ]
  },
  {
   "cell_type": "code",
   "execution_count": 25,
   "id": "failing-holly",
   "metadata": {},
   "outputs": [
    {
     "data": {
      "text/plain": [
       "names    Mary\n",
       "ages       26\n",
       "Name: 1, dtype: object"
      ]
     },
     "execution_count": 25,
     "metadata": {},
     "output_type": "execute_result"
    }
   ],
   "source": [
    "row1"
   ]
  },
  {
   "cell_type": "markdown",
   "id": "daily-rhythm",
   "metadata": {},
   "source": [
    "## Conclusion"
   ]
  },
  {
   "cell_type": "markdown",
   "id": "clean-little",
   "metadata": {},
   "source": [
    "You should now feel comfortable with creating, reading, and saving DataFrames. You should also be comfortable with adding columns and indexing by rows. In the next notebooks, we will dive into more complex features of DataFrames."
   ]
  },
  {
   "cell_type": "code",
   "execution_count": null,
   "id": "accessible-experience",
   "metadata": {},
   "outputs": [],
   "source": []
  }
 ],
 "metadata": {
  "kernelspec": {
   "display_name": "Python 3",
   "language": "python",
   "name": "python3"
  },
  "language_info": {
   "codemirror_mode": {
    "name": "ipython",
    "version": 3
   },
   "file_extension": ".py",
   "mimetype": "text/x-python",
   "name": "python",
   "nbconvert_exporter": "python",
   "pygments_lexer": "ipython3",
   "version": "3.9.2"
  }
 },
 "nbformat": 4,
 "nbformat_minor": 5
}
