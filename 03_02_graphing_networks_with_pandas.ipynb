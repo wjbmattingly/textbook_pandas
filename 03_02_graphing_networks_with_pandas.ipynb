{
 "cells": [
  {
   "cell_type": "markdown",
   "id": "sharing-italy",
   "metadata": {},
   "source": [
    "# <center>Graphing Network Data with Pandas</center>"
   ]
  },
  {
   "cell_type": "markdown",
   "id": "helpful-yeast",
   "metadata": {},
   "source": [
    "<center>Dr. W.J.B. Mattingly</center>\n",
    "\n",
    "<center>Smithsonian Data Science Lab and United States Holocaust Memorial Museum</center>\n",
    "\n",
    "<center>August 2021</center>"
   ]
  },
  {
   "cell_type": "markdown",
   "id": "economic-investor",
   "metadata": {},
   "source": [
    "## Covered in this Chapter"
   ]
  },
  {
   "cell_type": "markdown",
   "id": "secure-frontier",
   "metadata": {},
   "source": [
    "1) How to Get Network Data from Pandas to NetworkX<br>\n",
    "2) How to Graph the Data<br>\n",
    "3) How to Customize the Graph<br>"
   ]
  },
  {
   "cell_type": "markdown",
   "id": "adjusted-conducting",
   "metadata": {},
   "source": [
    "## Getting the Data from Pandas to NetworkX"
   ]
  },
  {
   "cell_type": "markdown",
   "id": "flush-arizona",
   "metadata": {},
   "source": [
    "Pandas on its own cannot plot out network data. Instead, we must rely on two other libraries, NetworkX and Matplotlib. NetworkX is the standard Python library for working with networks. I have a forthcoming textbook, like this one, that walks users through NetworkX. Matplotlib is one of the standard plotting libraries. The purpose of this brief notebook, is to provide the code necessary for making Pandas work with NetworkX and Matplotlib to take networks stored in a Pandas DataFrame and transform the relationships into graphs."
   ]
  },
  {
   "cell_type": "code",
   "execution_count": 1,
   "id": "chubby-passport",
   "metadata": {},
   "outputs": [],
   "source": [
    "import pandas as pd\n",
    "import networkx as nx\n",
    "import matplotlib.pyplot as plt"
   ]
  },
  {
   "cell_type": "markdown",
   "id": "confident-russia",
   "metadata": {},
   "source": [
    "Let's now load our data and see what it looks like."
   ]
  },
  {
   "cell_type": "code",
   "execution_count": 2,
   "id": "virgin-malta",
   "metadata": {},
   "outputs": [],
   "source": [
    "df = pd.read_csv(\"data/network.csv\")"
   ]
  },
  {
   "cell_type": "code",
   "execution_count": 3,
   "id": "excess-fellow",
   "metadata": {},
   "outputs": [
    {
     "data": {
      "text/html": [
       "<div>\n",
       "<style scoped>\n",
       "    .dataframe tbody tr th:only-of-type {\n",
       "        vertical-align: middle;\n",
       "    }\n",
       "\n",
       "    .dataframe tbody tr th {\n",
       "        vertical-align: top;\n",
       "    }\n",
       "\n",
       "    .dataframe thead th {\n",
       "        text-align: right;\n",
       "    }\n",
       "</style>\n",
       "<table border=\"1\" class=\"dataframe\">\n",
       "  <thead>\n",
       "    <tr style=\"text-align: right;\">\n",
       "      <th></th>\n",
       "      <th>source</th>\n",
       "      <th>target</th>\n",
       "    </tr>\n",
       "  </thead>\n",
       "  <tbody>\n",
       "    <tr>\n",
       "      <th>0</th>\n",
       "      <td>Tom</td>\n",
       "      <td>Rose</td>\n",
       "    </tr>\n",
       "    <tr>\n",
       "      <th>1</th>\n",
       "      <td>Rose</td>\n",
       "      <td>Rosita</td>\n",
       "    </tr>\n",
       "    <tr>\n",
       "      <th>2</th>\n",
       "      <td>Jerry</td>\n",
       "      <td>Jeff</td>\n",
       "    </tr>\n",
       "    <tr>\n",
       "      <th>3</th>\n",
       "      <td>Jeff</td>\n",
       "      <td>Larry</td>\n",
       "    </tr>\n",
       "    <tr>\n",
       "      <th>4</th>\n",
       "      <td>Carmen</td>\n",
       "      <td>Carmen</td>\n",
       "    </tr>\n",
       "    <tr>\n",
       "      <th>5</th>\n",
       "      <td>Rosita</td>\n",
       "      <td>Rosita</td>\n",
       "    </tr>\n",
       "    <tr>\n",
       "      <th>6</th>\n",
       "      <td>Larry</td>\n",
       "      <td>Carmen</td>\n",
       "    </tr>\n",
       "    <tr>\n",
       "      <th>7</th>\n",
       "      <td>Larry</td>\n",
       "      <td>Jerry</td>\n",
       "    </tr>\n",
       "  </tbody>\n",
       "</table>\n",
       "</div>"
      ],
      "text/plain": [
       "   source  target\n",
       "0     Tom    Rose\n",
       "1    Rose  Rosita\n",
       "2   Jerry    Jeff\n",
       "3    Jeff   Larry\n",
       "4  Carmen  Carmen\n",
       "5  Rosita  Rosita\n",
       "6   Larry  Carmen\n",
       "7   Larry   Jerry"
      ]
     },
     "execution_count": 3,
     "metadata": {},
     "output_type": "execute_result"
    }
   ],
   "source": [
    "df"
   ]
  },
  {
   "cell_type": "markdown",
   "id": "single-butter",
   "metadata": {},
   "source": [
    "This is a pretty standard format for networks. We have two columns of data, a source, and a target. Imagine drawing a line to demonstrate networks, the source is where you start drawing the line and the target is where that line ends. This is known as force in network theory and is important for understanding the relationship between nodes, or individual points, in a network graph.\n",
    "\n",
    "We can use NetworkX's built in function from_pandas_edgelist() and get that data straight into an edgelist."
   ]
  },
  {
   "cell_type": "code",
   "execution_count": 4,
   "id": "alleged-romance",
   "metadata": {},
   "outputs": [],
   "source": [
    "G= nx.from_pandas_edgelist(df, \"source\", \"target\")"
   ]
  },
  {
   "cell_type": "markdown",
   "id": "devoted-quarterly",
   "metadata": {},
   "source": [
    "## Graphing the Data"
   ]
  },
  {
   "cell_type": "markdown",
   "id": "likely-carbon",
   "metadata": {},
   "source": [
    "And with just two more lines of code we can plot that data out."
   ]
  },
  {
   "cell_type": "code",
   "execution_count": 5,
   "id": "outstanding-teddy",
   "metadata": {},
   "outputs": [
    {
     "data": {
      "image/png": "[encoded data removed]",
      "text/plain": [
       "<Figure size 432x288 with 1 Axes>"
      ]
     },
     "metadata": {},
     "output_type": "display_data"
    }
   ],
   "source": [
    "nx.draw(G)\n",
    "plt.show()"
   ]
  },
  {
   "cell_type": "markdown",
   "id": "twelve-consequence",
   "metadata": {},
   "source": [
    "## Customize the Graph"
   ]
  },
  {
   "cell_type": "markdown",
   "id": "automotive-homework",
   "metadata": {},
   "source": [
    "We have a problem with the image above, however, it is difficult to understand who the nodes represent. Let's give them some labels."
   ]
  },
  {
   "cell_type": "code",
   "execution_count": 6,
   "id": "sunrise-equipment",
   "metadata": {},
   "outputs": [
    {
     "data": {
      "image/png": "[encoded data removed]",
      "text/plain": [
       "<Figure size 432x288 with 1 Axes>"
      ]
     },
     "metadata": {},
     "output_type": "display_data"
    }
   ],
   "source": [
    "nx.draw(G, with_labels=True)\n",
    "plt.show()"
   ]
  },
  {
   "cell_type": "markdown",
   "id": "mature-accident",
   "metadata": {},
   "source": [
    "Now that we have labels, we need to make them a bit easier to read. We can do this by changing the font color to \"whitesmoke\" and setting the background to gray. To achieve this we first need to create a fig object to which we will append a few attributes. Next, we draw the network graph and give it a font_color of our desire. Finally, we set the facecolor to gray and plot it."
   ]
  },
  {
   "cell_type": "code",
   "execution_count": 7,
   "id": "worst-architect",
   "metadata": {},
   "outputs": [
    {
     "data": {
      "image/png": "[encoded data removed]",
      "text/plain": [
       "<Figure size 432x288 with 1 Axes>"
      ]
     },
     "metadata": {},
     "output_type": "display_data"
    }
   ],
   "source": [
    "fig = plt.figure()\n",
    "nx.draw(G, with_labels=True, font_color=\"whitesmoke\")\n",
    "fig.set_facecolor('gray')\n",
    "plt.show()"
   ]
  },
  {
   "cell_type": "markdown",
   "id": "endless-indianapolis",
   "metadata": {},
   "source": [
    "What if I wanted each node in our network to have an individual color? We can do that too by setting up a color map."
   ]
  },
  {
   "cell_type": "code",
   "execution_count": 8,
   "id": "mexican-constraint",
   "metadata": {},
   "outputs": [
    {
     "data": {
      "image/png": "[encoded data removed]",
      "text/plain": [
       "<Figure size 432x288 with 1 Axes>"
      ]
     },
     "metadata": {},
     "output_type": "display_data"
    }
   ],
   "source": [
    "val = []\n",
    "for i in range(len(G.nodes)):\n",
    "    val.append(i)\n",
    "nx.set_node_attributes(G, val, 'val')\n",
    "fig = plt.figure()\n",
    "nx.draw(G, with_labels=True, node_color=val, font_color=\"whitesmoke\")\n",
    "fig.set_facecolor('gray')\n",
    "plt.show()"
   ]
  }
 ],
 "metadata": {
  "kernelspec": {
   "display_name": "Python 3",
   "language": "python",
   "name": "python3"
  },
  "language_info": {
   "codemirror_mode": {
    "name": "ipython",
    "version": 3
   },
   "file_extension": ".py",
   "mimetype": "text/x-python",
   "name": "python",
   "nbconvert_exporter": "python",
   "pygments_lexer": "ipython3",
   "version": "3.9.2"
  }
 },
 "nbformat": 4,
 "nbformat_minor": 5
}
