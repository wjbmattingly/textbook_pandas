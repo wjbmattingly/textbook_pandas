{
 "cells": [
  {
   "cell_type": "markdown",
   "id": "worthy-rotation",
   "metadata": {},
   "source": [
    "# Pandas Textbook for Digital Humanities"
   ]
  },
  {
   "cell_type": "markdown",
   "id": "early-separation",
   "metadata": {},
   "source": [
    "## Chapter One: What is Pandas?"
   ]
  },
  {
   "cell_type": "markdown",
   "id": "common-mitchell",
   "metadata": {},
   "source": [
    "## Covered in this Chapter"
   ]
  },
  {
   "cell_type": "markdown",
   "id": "equivalent-roberts",
   "metadata": {},
   "source": [
    "1) What is Pandas?<br>\n",
    "2) Why use Pandas?<br>\n",
    "3) What is a DataFrame?<br>\n",
    "4) How to Install Pandas<br>\n",
    "5) How to Import Pandas (as PD!!)<br>"
   ]
  },
  {
   "cell_type": "markdown",
   "id": "solid-czech",
   "metadata": {},
   "source": [
    "## What is Pandas?"
   ]
  },
  {
   "cell_type": "markdown",
   "id": "interpreted-devices",
   "metadata": {},
   "source": [
    "Pandas is a Python library in Python that allows for you to easily work with tabular data that is often stored in Excel files or .csv files. It is often considered one of the most vital Python libraries for data analysis because of its ease of use. There are other Python libraries that allow you to work with Excel data, such as XLSX and XLRD, which are leveraged by Pandas on the back end to interact with Excel spreadsheets. However, most a lot of tabular data is stored in .csv files, or Comma Separated Values files. There are other variations of this same structure (such as .tsv), but they all work the same. They use a special character to denote movement in the table to the next cell."
   ]
  },
  {
   "cell_type": "markdown",
   "id": "intense-personality",
   "metadata": {},
   "source": [
    "## Why use Pandas?"
   ]
  },
  {
   "cell_type": "markdown",
   "id": "touched-assumption",
   "metadata": {},
   "source": [
    "If you work with data at all or plan to in the future, becoming comfortable with Pandas early on will make your life a lot easier. There are other Python libraries that allow you to work with .csv files, such as CSV, but these are not the same as Pandas. Pandas has one large advantage over CSV. It not only allows you to input .csv files into Python, it allows you to easily load them as DataFrames.\n",
    "\n",
    "**DataFrames** are special data structures that contain not only the raw data in a table, but preserve the structure and hierarchy of that table. By loading .csv files as a DataFrame, Pandas not only allows you easy access to your data, but a powerful way to analyze it within a script. In addition to that, Pandas also has robust built-in features that we will explore throughout this textbook.\n",
    "\n",
    "Finally, many MANY!! libraries for data analysis are built on top of Pandas. If you plan to understand how certain libraries work or how to get data to specific classes or functions correctly as a Pandas DataFrame, then you must be familiar with the Pandas library.\n",
    "\n",
    "So, why use Pandas? Because it is the best library for importing and working with tabular data. It allows you to easily read files as DataFrames. And, it is a required library for most data analysis libraries."
   ]
  },
  {
   "cell_type": "code",
   "execution_count": null,
   "id": "significant-blade",
   "metadata": {},
   "outputs": [],
   "source": []
  }
 ],
 "metadata": {
  "kernelspec": {
   "display_name": "Python 3",
   "language": "python",
   "name": "python3"
  },
  "language_info": {
   "codemirror_mode": {
    "name": "ipython",
    "version": 3
   },
   "file_extension": ".py",
   "mimetype": "text/x-python",
   "name": "python",
   "nbconvert_exporter": "python",
   "pygments_lexer": "ipython3",
   "version": "3.9.2"
  }
 },
 "nbformat": 4,
 "nbformat_minor": 5
}
