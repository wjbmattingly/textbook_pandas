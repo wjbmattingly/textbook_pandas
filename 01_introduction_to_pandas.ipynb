{
 "cells": [
  {
   "cell_type": "markdown",
   "id": "lesbian-assignment",
   "metadata": {},
   "source": [
    "# Pandas Textbook for Digital Humanities"
   ]
  },
  {
   "cell_type": "markdown",
   "id": "coordinated-string",
   "metadata": {},
   "source": [
    "## Chapter One: What is Pandas?"
   ]
  },
  {
   "cell_type": "markdown",
   "id": "arbitrary-airfare",
   "metadata": {},
   "source": [
    "## Covered in this Chapter"
   ]
  },
  {
   "cell_type": "markdown",
   "id": "interested-think",
   "metadata": {},
   "source": [
    "1) What is Pandas?<br>\n",
    "2) Why use Pandas?<br>\n",
    "3) What is a DataFrame?<br>\n",
    "4) How to Install Pandas<br>\n",
    "5) How to Import Pandas (as PD!!)<br>"
   ]
  },
  {
   "cell_type": "markdown",
   "id": "cubic-wealth",
   "metadata": {},
   "source": [
    "## What is Pandas?"
   ]
  },
  {
   "cell_type": "markdown",
   "id": "incredible-vintage",
   "metadata": {},
   "source": [
    "<center><img src=\"images/pandas_logo.png\" width=\"500\"></center>"
   ]
  },
  {
   "cell_type": "markdown",
   "id": "supposed-champion",
   "metadata": {},
   "source": [
    "Pandas is a Python library in Python that allows for you to easily work with tabular data that is often stored in Excel files or .csv files. It is often considered one of the most vital Python libraries for data analysis because of its ease of use. There are other Python libraries that allow you to work with Excel data, such as XLSX and XLRD, which are leveraged by Pandas on the back end to interact with Excel spreadsheets. However, most a lot of tabular data is stored in .csv files, or Comma Separated Values files. There are other variations of this same structure (such as .tsv), but they all work the same. They use a special character to denote movement in the table to the next cell."
   ]
  },
  {
   "cell_type": "markdown",
   "id": "found-lloyd",
   "metadata": {},
   "source": [
    "## Why use Pandas?"
   ]
  },
  {
   "cell_type": "markdown",
   "id": "eight-point",
   "metadata": {},
   "source": [
    "If you work with data at all or plan to in the future, becoming comfortable with Pandas early on will make your life a lot easier. There are other Python libraries that allow you to work with .csv files, such as CSV, but these are not the same as Pandas. Pandas has one large advantage over CSV. It not only allows you to input .csv files into Python, it allows you to easily load them as DataFrames.\n",
    "\n",
    "**DataFrames** are special data structures that contain not only the raw data in a table, but preserve the structure and hierarchy of that table. By loading .csv files as a DataFrame, Pandas not only allows you easy access to your data, but a powerful way to analyze it within a script. In addition to that, Pandas also has robust built-in features that we will explore throughout this textbook.\n",
    "\n",
    "Finally, many MANY!! libraries for data analysis are built on top of Pandas. If you plan to understand how certain libraries work or how to get data to specific classes or functions correctly as a Pandas DataFrame, then you must be familiar with the Pandas library.\n",
    "\n",
    "So, why use Pandas? Because it is the best library for importing and working with tabular data. It allows you to easily read files as DataFrames. And, it is a required library for most data analysis libraries."
   ]
  },
  {
   "cell_type": "markdown",
   "id": "alike-bradford",
   "metadata": {},
   "source": [
    "## How to Install Pandas"
   ]
  },
  {
   "cell_type": "markdown",
   "id": "accredited-growing",
   "metadata": {},
   "source": [
    "Installing pandas is as easy as installing any other Python library. If you are working within a Jupyter notebook like this one, you can execute the following command within a cell:"
   ]
  },
  {
   "cell_type": "code",
   "execution_count": 1,
   "id": "pending-norman",
   "metadata": {},
   "outputs": [
    {
     "name": "stdout",
     "output_type": "stream",
     "text": [
      "Requirement already satisfied: pandas in c:\\users\\wma22\\anaconda3\\lib\\site-packages (1.2.4)\n",
      "Requirement already satisfied: pytz>=2017.3 in c:\\users\\wma22\\anaconda3\\lib\\site-packages (from pandas) (2021.1)\n",
      "Requirement already satisfied: python-dateutil>=2.7.3 in c:\\users\\wma22\\anaconda3\\lib\\site-packages (from pandas) (2.8.1)\n",
      "Requirement already satisfied: numpy>=1.16.5 in c:\\users\\wma22\\anaconda3\\lib\\site-packages (from pandas) (1.20.1)\n",
      "Requirement already satisfied: six>=1.5 in c:\\users\\wma22\\anaconda3\\lib\\site-packages (from python-dateutil>=2.7.3->pandas) (1.15.0)\n"
     ]
    }
   ],
   "source": [
    "!pip install pandas"
   ]
  },
  {
   "cell_type": "markdown",
   "id": "immediate-embassy",
   "metadata": {},
   "source": [
    "In Jupyter notebooks the ! indicates that you want to perform a command in the terminal. We then specify what command we want to run. In this case, pip install. Finally, we specify the library we want to install, pandas. If you are not working within a Jupyter notebook, you can do the same thing by opening up your terminal, such as Command Prompt on Windows, and executing the same command."
   ]
  },
  {
   "cell_type": "markdown",
   "id": "flexible-pension",
   "metadata": {},
   "source": [
    "## How to Import Pandas"
   ]
  },
  {
   "cell_type": "markdown",
   "id": "satellite-coffee",
   "metadata": {},
   "source": [
    "Once you have installed Pandas, it is time to import it. It is Pythonic, or good Python practice, to import pandas as pd. By importing a library as something, you give it that specific variable as a name. This has a few benefits. First, it makes Pandas easier to call in your script, because you can call the library with \"pd\" rather than \"pandas\". Second, all... yes. ALL. Pandas tutorials and posts on Stackoverflow will use \"pd\"."
   ]
  },
  {
   "cell_type": "code",
   "execution_count": 2,
   "id": "coated-sister",
   "metadata": {},
   "outputs": [],
   "source": [
    "import pandas as pd"
   ]
  },
  {
   "cell_type": "markdown",
   "id": "medical-surgeon",
   "metadata": {},
   "source": [
    "After executing the above command, you will have successfully imported pandas into your Python script. In the next notebook, we will start working with Pandas"
   ]
  }
 ],
 "metadata": {
  "kernelspec": {
   "display_name": "Python 3",
   "language": "python",
   "name": "python3"
  },
  "language_info": {
   "codemirror_mode": {
    "name": "ipython",
    "version": 3
   },
   "file_extension": ".py",
   "mimetype": "text/x-python",
   "name": "python",
   "nbconvert_exporter": "python",
   "pygments_lexer": "ipython3",
   "version": "3.9.2"
  }
 },
 "nbformat": 4,
 "nbformat_minor": 5
}
