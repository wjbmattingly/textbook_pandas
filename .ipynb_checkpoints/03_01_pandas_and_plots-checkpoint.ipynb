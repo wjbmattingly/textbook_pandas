{
 "cells": [
  {
   "cell_type": "markdown",
   "id": "handy-liberia",
   "metadata": {},
   "source": [
    "# <center>Plotting Data with Pandas</center>"
   ]
  },
  {
   "cell_type": "markdown",
   "id": "upset-stuart",
   "metadata": {},
   "source": [
    "<center>Dr. W.J.B. Mattingly</center>\n",
    "\n",
    "<center>Smithsonian Data Science Lab and United States Holocaust Memorial Museum</center>\n",
    "\n",
    "<center>August 2021</center>"
   ]
  },
  {
   "cell_type": "markdown",
   "id": "contemporary-wrapping",
   "metadata": {},
   "source": [
    "## Covered in this Chapter"
   ]
  },
  {
   "cell_type": "markdown",
   "id": "proprietary-circular",
   "metadata": {},
   "source": [
    "1) How to Drop a Column in the DataFrame<br>\n",
    "2) How to Remove Rows that have NaN in any Column<br>\n",
    "3) How to Remove Rows that have NaN in a Specific Column<br>\n",
    "4) How to Convert DataFrame Data Types (from Float to Int)"
   ]
  },
  {
   "cell_type": "markdown",
   "id": "considerable-tension",
   "metadata": {},
   "source": [
    "## Importing the DataFrame"
   ]
  },
  {
   "cell_type": "code",
   "execution_count": 1,
   "id": "measured-version",
   "metadata": {},
   "outputs": [],
   "source": [
    "import pandas as pd"
   ]
  },
  {
   "cell_type": "code",
   "execution_count": 2,
   "id": "bacterial-welcome",
   "metadata": {},
   "outputs": [],
   "source": [
    "df = pd.read_csv(\"data/titanic.csv\")"
   ]
  },
  {
   "cell_type": "code",
   "execution_count": 3,
   "id": "careful-harmony",
   "metadata": {},
   "outputs": [
    {
     "data": {
      "text/html": [
       "<div>\n",
       "<style scoped>\n",
       "    .dataframe tbody tr th:only-of-type {\n",
       "        vertical-align: middle;\n",
       "    }\n",
       "\n",
       "    .dataframe tbody tr th {\n",
       "        vertical-align: top;\n",
       "    }\n",
       "\n",
       "    .dataframe thead th {\n",
       "        text-align: right;\n",
       "    }\n",
       "</style>\n",
       "<table border=\"1\" class=\"dataframe\">\n",
       "  <thead>\n",
       "    <tr style=\"text-align: right;\">\n",
       "      <th></th>\n",
       "      <th>PassengerId</th>\n",
       "      <th>Survived</th>\n",
       "      <th>Pclass</th>\n",
       "      <th>Name</th>\n",
       "      <th>Sex</th>\n",
       "      <th>Age</th>\n",
       "      <th>SibSp</th>\n",
       "      <th>Parch</th>\n",
       "      <th>Ticket</th>\n",
       "      <th>Fare</th>\n",
       "      <th>Cabin</th>\n",
       "      <th>Embarked</th>\n",
       "    </tr>\n",
       "  </thead>\n",
       "  <tbody>\n",
       "    <tr>\n",
       "      <th>0</th>\n",
       "      <td>1</td>\n",
       "      <td>0</td>\n",
       "      <td>3</td>\n",
       "      <td>Braund, Mr. Owen Harris</td>\n",
       "      <td>male</td>\n",
       "      <td>22.0</td>\n",
       "      <td>1</td>\n",
       "      <td>0</td>\n",
       "      <td>A/5 21171</td>\n",
       "      <td>7.2500</td>\n",
       "      <td>NaN</td>\n",
       "      <td>S</td>\n",
       "    </tr>\n",
       "    <tr>\n",
       "      <th>1</th>\n",
       "      <td>2</td>\n",
       "      <td>1</td>\n",
       "      <td>1</td>\n",
       "      <td>Cumings, Mrs. John Bradley (Florence Briggs Th...</td>\n",
       "      <td>female</td>\n",
       "      <td>38.0</td>\n",
       "      <td>1</td>\n",
       "      <td>0</td>\n",
       "      <td>PC 17599</td>\n",
       "      <td>71.2833</td>\n",
       "      <td>C85</td>\n",
       "      <td>C</td>\n",
       "    </tr>\n",
       "    <tr>\n",
       "      <th>2</th>\n",
       "      <td>3</td>\n",
       "      <td>1</td>\n",
       "      <td>3</td>\n",
       "      <td>Heikkinen, Miss. Laina</td>\n",
       "      <td>female</td>\n",
       "      <td>26.0</td>\n",
       "      <td>0</td>\n",
       "      <td>0</td>\n",
       "      <td>STON/O2. 3101282</td>\n",
       "      <td>7.9250</td>\n",
       "      <td>NaN</td>\n",
       "      <td>S</td>\n",
       "    </tr>\n",
       "    <tr>\n",
       "      <th>3</th>\n",
       "      <td>4</td>\n",
       "      <td>1</td>\n",
       "      <td>1</td>\n",
       "      <td>Futrelle, Mrs. Jacques Heath (Lily May Peel)</td>\n",
       "      <td>female</td>\n",
       "      <td>35.0</td>\n",
       "      <td>1</td>\n",
       "      <td>0</td>\n",
       "      <td>113803</td>\n",
       "      <td>53.1000</td>\n",
       "      <td>C123</td>\n",
       "      <td>S</td>\n",
       "    </tr>\n",
       "    <tr>\n",
       "      <th>4</th>\n",
       "      <td>5</td>\n",
       "      <td>0</td>\n",
       "      <td>3</td>\n",
       "      <td>Allen, Mr. William Henry</td>\n",
       "      <td>male</td>\n",
       "      <td>35.0</td>\n",
       "      <td>0</td>\n",
       "      <td>0</td>\n",
       "      <td>373450</td>\n",
       "      <td>8.0500</td>\n",
       "      <td>NaN</td>\n",
       "      <td>S</td>\n",
       "    </tr>\n",
       "    <tr>\n",
       "      <th>...</th>\n",
       "      <td>...</td>\n",
       "      <td>...</td>\n",
       "      <td>...</td>\n",
       "      <td>...</td>\n",
       "      <td>...</td>\n",
       "      <td>...</td>\n",
       "      <td>...</td>\n",
       "      <td>...</td>\n",
       "      <td>...</td>\n",
       "      <td>...</td>\n",
       "      <td>...</td>\n",
       "      <td>...</td>\n",
       "    </tr>\n",
       "    <tr>\n",
       "      <th>886</th>\n",
       "      <td>887</td>\n",
       "      <td>0</td>\n",
       "      <td>2</td>\n",
       "      <td>Montvila, Rev. Juozas</td>\n",
       "      <td>male</td>\n",
       "      <td>27.0</td>\n",
       "      <td>0</td>\n",
       "      <td>0</td>\n",
       "      <td>211536</td>\n",
       "      <td>13.0000</td>\n",
       "      <td>NaN</td>\n",
       "      <td>S</td>\n",
       "    </tr>\n",
       "    <tr>\n",
       "      <th>887</th>\n",
       "      <td>888</td>\n",
       "      <td>1</td>\n",
       "      <td>1</td>\n",
       "      <td>Graham, Miss. Margaret Edith</td>\n",
       "      <td>female</td>\n",
       "      <td>19.0</td>\n",
       "      <td>0</td>\n",
       "      <td>0</td>\n",
       "      <td>112053</td>\n",
       "      <td>30.0000</td>\n",
       "      <td>B42</td>\n",
       "      <td>S</td>\n",
       "    </tr>\n",
       "    <tr>\n",
       "      <th>888</th>\n",
       "      <td>889</td>\n",
       "      <td>0</td>\n",
       "      <td>3</td>\n",
       "      <td>Johnston, Miss. Catherine Helen \"Carrie\"</td>\n",
       "      <td>female</td>\n",
       "      <td>NaN</td>\n",
       "      <td>1</td>\n",
       "      <td>2</td>\n",
       "      <td>W./C. 6607</td>\n",
       "      <td>23.4500</td>\n",
       "      <td>NaN</td>\n",
       "      <td>S</td>\n",
       "    </tr>\n",
       "    <tr>\n",
       "      <th>889</th>\n",
       "      <td>890</td>\n",
       "      <td>1</td>\n",
       "      <td>1</td>\n",
       "      <td>Behr, Mr. Karl Howell</td>\n",
       "      <td>male</td>\n",
       "      <td>26.0</td>\n",
       "      <td>0</td>\n",
       "      <td>0</td>\n",
       "      <td>111369</td>\n",
       "      <td>30.0000</td>\n",
       "      <td>C148</td>\n",
       "      <td>C</td>\n",
       "    </tr>\n",
       "    <tr>\n",
       "      <th>890</th>\n",
       "      <td>891</td>\n",
       "      <td>0</td>\n",
       "      <td>3</td>\n",
       "      <td>Dooley, Mr. Patrick</td>\n",
       "      <td>male</td>\n",
       "      <td>32.0</td>\n",
       "      <td>0</td>\n",
       "      <td>0</td>\n",
       "      <td>370376</td>\n",
       "      <td>7.7500</td>\n",
       "      <td>NaN</td>\n",
       "      <td>Q</td>\n",
       "    </tr>\n",
       "  </tbody>\n",
       "</table>\n",
       "<p>891 rows × 12 columns</p>\n",
       "</div>"
      ],
      "text/plain": [
       "     PassengerId  Survived  Pclass  \\\n",
       "0              1         0       3   \n",
       "1              2         1       1   \n",
       "2              3         1       3   \n",
       "3              4         1       1   \n",
       "4              5         0       3   \n",
       "..           ...       ...     ...   \n",
       "886          887         0       2   \n",
       "887          888         1       1   \n",
       "888          889         0       3   \n",
       "889          890         1       1   \n",
       "890          891         0       3   \n",
       "\n",
       "                                                  Name     Sex   Age  SibSp  \\\n",
       "0                              Braund, Mr. Owen Harris    male  22.0      1   \n",
       "1    Cumings, Mrs. John Bradley (Florence Briggs Th...  female  38.0      1   \n",
       "2                               Heikkinen, Miss. Laina  female  26.0      0   \n",
       "3         Futrelle, Mrs. Jacques Heath (Lily May Peel)  female  35.0      1   \n",
       "4                             Allen, Mr. William Henry    male  35.0      0   \n",
       "..                                                 ...     ...   ...    ...   \n",
       "886                              Montvila, Rev. Juozas    male  27.0      0   \n",
       "887                       Graham, Miss. Margaret Edith  female  19.0      0   \n",
       "888           Johnston, Miss. Catherine Helen \"Carrie\"  female   NaN      1   \n",
       "889                              Behr, Mr. Karl Howell    male  26.0      0   \n",
       "890                                Dooley, Mr. Patrick    male  32.0      0   \n",
       "\n",
       "     Parch            Ticket     Fare Cabin Embarked  \n",
       "0        0         A/5 21171   7.2500   NaN        S  \n",
       "1        0          PC 17599  71.2833   C85        C  \n",
       "2        0  STON/O2. 3101282   7.9250   NaN        S  \n",
       "3        0            113803  53.1000  C123        S  \n",
       "4        0            373450   8.0500   NaN        S  \n",
       "..     ...               ...      ...   ...      ...  \n",
       "886      0            211536  13.0000   NaN        S  \n",
       "887      0            112053  30.0000   B42        S  \n",
       "888      2        W./C. 6607  23.4500   NaN        S  \n",
       "889      0            111369  30.0000  C148        C  \n",
       "890      0            370376   7.7500   NaN        Q  \n",
       "\n",
       "[891 rows x 12 columns]"
      ]
     },
     "execution_count": 3,
     "metadata": {},
     "output_type": "execute_result"
    }
   ],
   "source": [
    "df"
   ]
  },
  {
   "cell_type": "code",
   "execution_count": 11,
   "id": "executive-webmaster",
   "metadata": {},
   "outputs": [
    {
     "ename": "SyntaxError",
     "evalue": "invalid syntax (<ipython-input-11-98b5a3a017d7>, line 1)",
     "output_type": "error",
     "traceback": [
      "\u001b[1;36m  File \u001b[1;32m\"<ipython-input-11-98b5a3a017d7>\"\u001b[1;36m, line \u001b[1;32m1\u001b[0m\n\u001b[1;33m    df.plot.<TAB>\u001b[0m\n\u001b[1;37m            ^\u001b[0m\n\u001b[1;31mSyntaxError\u001b[0m\u001b[1;31m:\u001b[0m invalid syntax\n"
     ]
    }
   ],
   "source": []
  },
  {
   "cell_type": "markdown",
   "id": "laden-bermuda",
   "metadata": {},
   "source": [
    "## Bar and Barh Charts with Pandas"
   ]
  },
  {
   "cell_type": "code",
   "execution_count": null,
   "id": "expected-dairy",
   "metadata": {},
   "outputs": [],
   "source": []
  },
  {
   "cell_type": "code",
   "execution_count": 17,
   "id": "artistic-chance",
   "metadata": {},
   "outputs": [
    {
     "data": {
      "text/plain": [
       "<AxesSubplot:>"
      ]
     },
     "execution_count": 17,
     "metadata": {},
     "output_type": "execute_result"
    },
    {
     "data": {
      "image/png": "[encoded data removed]",
      "text/plain": [
       "<Figure size 432x288 with 1 Axes>"
      ]
     },
     "metadata": {
      "needs_background": "light"
     },
     "output_type": "display_data"
    }
   ],
   "source": [
    "df['Sex'].value_counts().plot.bar()"
   ]
  },
  {
   "cell_type": "code",
   "execution_count": 16,
   "id": "logical-resident",
   "metadata": {},
   "outputs": [
    {
     "data": {
      "text/plain": [
       "<AxesSubplot:title={'center':'Passengers on the Titanic'}>"
      ]
     },
     "execution_count": 16,
     "metadata": {},
     "output_type": "execute_result"
    },
    {
     "data": {
      "image/png": "[encoded data removed]",
      "text/plain": [
       "<Figure size 432x288 with 1 Axes>"
      ]
     },
     "metadata": {
      "needs_background": "light"
     },
     "output_type": "display_data"
    }
   ],
   "source": [
    "df['Sex'].value_counts().plot.bar(title=\"Passengers on the Titanic\")"
   ]
  },
  {
   "cell_type": "code",
   "execution_count": null,
   "id": "rising-rendering",
   "metadata": {},
   "outputs": [],
   "source": []
  },
  {
   "cell_type": "code",
   "execution_count": 31,
   "id": "foster-jewelry",
   "metadata": {},
   "outputs": [
    {
     "data": {
      "text/plain": [
       "<AxesSubplot:>"
      ]
     },
     "execution_count": 31,
     "metadata": {},
     "output_type": "execute_result"
    },
    {
     "data": {
      "image/png": "[encoded data removed]",
      "text/plain": [
       "<Figure size 432x288 with 1 Axes>"
      ]
     },
     "metadata": {
      "needs_background": "light"
     },
     "output_type": "display_data"
    }
   ],
   "source": [
    "df['Sex'].value_counts().plot.barh()"
   ]
  },
  {
   "cell_type": "code",
   "execution_count": null,
   "id": "greenhouse-travel",
   "metadata": {},
   "outputs": [],
   "source": []
  },
  {
   "cell_type": "markdown",
   "id": "prospective-disney",
   "metadata": {},
   "source": [
    "## Pie Charts with Pandas"
   ]
  },
  {
   "cell_type": "code",
   "execution_count": 18,
   "id": "sapphire-input",
   "metadata": {},
   "outputs": [
    {
     "data": {
      "text/plain": [
       "<AxesSubplot:ylabel='Sex'>"
      ]
     },
     "execution_count": 18,
     "metadata": {},
     "output_type": "execute_result"
    },
    {
     "data": {
      "image/png": "[encoded data removed]",
      "text/plain": [
       "<Figure size 432x288 with 1 Axes>"
      ]
     },
     "metadata": {},
     "output_type": "display_data"
    }
   ],
   "source": [
    "df['Sex'].value_counts().plot.pie()"
   ]
  },
  {
   "cell_type": "code",
   "execution_count": null,
   "id": "daily-posting",
   "metadata": {},
   "outputs": [],
   "source": []
  },
  {
   "cell_type": "code",
   "execution_count": null,
   "id": "worldwide-criterion",
   "metadata": {},
   "outputs": [],
   "source": []
  },
  {
   "cell_type": "code",
   "execution_count": null,
   "id": "apparent-swimming",
   "metadata": {},
   "outputs": [],
   "source": []
  },
  {
   "cell_type": "code",
   "execution_count": null,
   "id": "technical-package",
   "metadata": {},
   "outputs": [],
   "source": []
  },
  {
   "cell_type": "code",
   "execution_count": null,
   "id": "chicken-modem",
   "metadata": {},
   "outputs": [],
   "source": []
  },
  {
   "cell_type": "markdown",
   "id": "radio-reform",
   "metadata": {},
   "source": [
    "## Scatter Plots with Pandas"
   ]
  },
  {
   "cell_type": "code",
   "execution_count": 26,
   "id": "center-dutch",
   "metadata": {},
   "outputs": [
    {
     "data": {
      "text/plain": [
       "<AxesSubplot:xlabel='Age', ylabel='Fare'>"
      ]
     },
     "execution_count": 26,
     "metadata": {},
     "output_type": "execute_result"
    },
    {
     "data": {
      "image/png": "[encoded data removed]",
      "text/plain": [
       "<Figure size 432x288 with 1 Axes>"
      ]
     },
     "metadata": {
      "needs_background": "light"
     },
     "output_type": "display_data"
    }
   ],
   "source": [
    "df.plot.scatter(x=\"Age\", y=\"Fare\")"
   ]
  },
  {
   "cell_type": "code",
   "execution_count": null,
   "id": "operating-violence",
   "metadata": {},
   "outputs": [],
   "source": []
  },
  {
   "cell_type": "code",
   "execution_count": 30,
   "id": "dangerous-fence",
   "metadata": {},
   "outputs": [
    {
     "data": {
      "text/plain": [
       "<AxesSubplot:xlabel='Age', ylabel='Fare'>"
      ]
     },
     "execution_count": 30,
     "metadata": {},
     "output_type": "execute_result"
    },
    {
     "data": {
      "image/png": "[encoded data removed]",
      "text/plain": [
       "<Figure size 432x288 with 2 Axes>"
      ]
     },
     "metadata": {
      "needs_background": "light"
     },
     "output_type": "display_data"
    }
   ],
   "source": [
    "df.plot.scatter(x=\"Age\", y=\"Fare\", c=\"Pclass\",cmap=\"viridis\", s=50)"
   ]
  },
  {
   "cell_type": "code",
   "execution_count": 32,
   "id": "recognized-switch",
   "metadata": {},
   "outputs": [],
   "source": [
    "df.loc[(df.Pclass == 1),'Pclass']=\"First\"\n",
    "df.loc[(df.Pclass == 2),'Pclass']=\"Second\"\n",
    "df.loc[(df.Pclass == 3),'Pclass']=\"Third\""
   ]
  },
  {
   "cell_type": "code",
   "execution_count": 33,
   "id": "municipal-winning",
   "metadata": {},
   "outputs": [
    {
     "data": {
      "text/html": [
       "<div>\n",
       "<style scoped>\n",
       "    .dataframe tbody tr th:only-of-type {\n",
       "        vertical-align: middle;\n",
       "    }\n",
       "\n",
       "    .dataframe tbody tr th {\n",
       "        vertical-align: top;\n",
       "    }\n",
       "\n",
       "    .dataframe thead th {\n",
       "        text-align: right;\n",
       "    }\n",
       "</style>\n",
       "<table border=\"1\" class=\"dataframe\">\n",
       "  <thead>\n",
       "    <tr style=\"text-align: right;\">\n",
       "      <th></th>\n",
       "      <th>PassengerId</th>\n",
       "      <th>Survived</th>\n",
       "      <th>Pclass</th>\n",
       "      <th>Name</th>\n",
       "      <th>Sex</th>\n",
       "      <th>Age</th>\n",
       "      <th>SibSp</th>\n",
       "      <th>Parch</th>\n",
       "      <th>Ticket</th>\n",
       "      <th>Fare</th>\n",
       "      <th>Cabin</th>\n",
       "      <th>Embarked</th>\n",
       "    </tr>\n",
       "  </thead>\n",
       "  <tbody>\n",
       "    <tr>\n",
       "      <th>0</th>\n",
       "      <td>1</td>\n",
       "      <td>0</td>\n",
       "      <td>Third</td>\n",
       "      <td>Braund, Mr. Owen Harris</td>\n",
       "      <td>male</td>\n",
       "      <td>22.0</td>\n",
       "      <td>1</td>\n",
       "      <td>0</td>\n",
       "      <td>A/5 21171</td>\n",
       "      <td>7.2500</td>\n",
       "      <td>NaN</td>\n",
       "      <td>S</td>\n",
       "    </tr>\n",
       "    <tr>\n",
       "      <th>1</th>\n",
       "      <td>2</td>\n",
       "      <td>1</td>\n",
       "      <td>First</td>\n",
       "      <td>Cumings, Mrs. John Bradley (Florence Briggs Th...</td>\n",
       "      <td>female</td>\n",
       "      <td>38.0</td>\n",
       "      <td>1</td>\n",
       "      <td>0</td>\n",
       "      <td>PC 17599</td>\n",
       "      <td>71.2833</td>\n",
       "      <td>C85</td>\n",
       "      <td>C</td>\n",
       "    </tr>\n",
       "    <tr>\n",
       "      <th>2</th>\n",
       "      <td>3</td>\n",
       "      <td>1</td>\n",
       "      <td>Third</td>\n",
       "      <td>Heikkinen, Miss. Laina</td>\n",
       "      <td>female</td>\n",
       "      <td>26.0</td>\n",
       "      <td>0</td>\n",
       "      <td>0</td>\n",
       "      <td>STON/O2. 3101282</td>\n",
       "      <td>7.9250</td>\n",
       "      <td>NaN</td>\n",
       "      <td>S</td>\n",
       "    </tr>\n",
       "    <tr>\n",
       "      <th>3</th>\n",
       "      <td>4</td>\n",
       "      <td>1</td>\n",
       "      <td>First</td>\n",
       "      <td>Futrelle, Mrs. Jacques Heath (Lily May Peel)</td>\n",
       "      <td>female</td>\n",
       "      <td>35.0</td>\n",
       "      <td>1</td>\n",
       "      <td>0</td>\n",
       "      <td>113803</td>\n",
       "      <td>53.1000</td>\n",
       "      <td>C123</td>\n",
       "      <td>S</td>\n",
       "    </tr>\n",
       "    <tr>\n",
       "      <th>4</th>\n",
       "      <td>5</td>\n",
       "      <td>0</td>\n",
       "      <td>Third</td>\n",
       "      <td>Allen, Mr. William Henry</td>\n",
       "      <td>male</td>\n",
       "      <td>35.0</td>\n",
       "      <td>0</td>\n",
       "      <td>0</td>\n",
       "      <td>373450</td>\n",
       "      <td>8.0500</td>\n",
       "      <td>NaN</td>\n",
       "      <td>S</td>\n",
       "    </tr>\n",
       "    <tr>\n",
       "      <th>...</th>\n",
       "      <td>...</td>\n",
       "      <td>...</td>\n",
       "      <td>...</td>\n",
       "      <td>...</td>\n",
       "      <td>...</td>\n",
       "      <td>...</td>\n",
       "      <td>...</td>\n",
       "      <td>...</td>\n",
       "      <td>...</td>\n",
       "      <td>...</td>\n",
       "      <td>...</td>\n",
       "      <td>...</td>\n",
       "    </tr>\n",
       "    <tr>\n",
       "      <th>886</th>\n",
       "      <td>887</td>\n",
       "      <td>0</td>\n",
       "      <td>Second</td>\n",
       "      <td>Montvila, Rev. Juozas</td>\n",
       "      <td>male</td>\n",
       "      <td>27.0</td>\n",
       "      <td>0</td>\n",
       "      <td>0</td>\n",
       "      <td>211536</td>\n",
       "      <td>13.0000</td>\n",
       "      <td>NaN</td>\n",
       "      <td>S</td>\n",
       "    </tr>\n",
       "    <tr>\n",
       "      <th>887</th>\n",
       "      <td>888</td>\n",
       "      <td>1</td>\n",
       "      <td>First</td>\n",
       "      <td>Graham, Miss. Margaret Edith</td>\n",
       "      <td>female</td>\n",
       "      <td>19.0</td>\n",
       "      <td>0</td>\n",
       "      <td>0</td>\n",
       "      <td>112053</td>\n",
       "      <td>30.0000</td>\n",
       "      <td>B42</td>\n",
       "      <td>S</td>\n",
       "    </tr>\n",
       "    <tr>\n",
       "      <th>888</th>\n",
       "      <td>889</td>\n",
       "      <td>0</td>\n",
       "      <td>Third</td>\n",
       "      <td>Johnston, Miss. Catherine Helen \"Carrie\"</td>\n",
       "      <td>female</td>\n",
       "      <td>NaN</td>\n",
       "      <td>1</td>\n",
       "      <td>2</td>\n",
       "      <td>W./C. 6607</td>\n",
       "      <td>23.4500</td>\n",
       "      <td>NaN</td>\n",
       "      <td>S</td>\n",
       "    </tr>\n",
       "    <tr>\n",
       "      <th>889</th>\n",
       "      <td>890</td>\n",
       "      <td>1</td>\n",
       "      <td>First</td>\n",
       "      <td>Behr, Mr. Karl Howell</td>\n",
       "      <td>male</td>\n",
       "      <td>26.0</td>\n",
       "      <td>0</td>\n",
       "      <td>0</td>\n",
       "      <td>111369</td>\n",
       "      <td>30.0000</td>\n",
       "      <td>C148</td>\n",
       "      <td>C</td>\n",
       "    </tr>\n",
       "    <tr>\n",
       "      <th>890</th>\n",
       "      <td>891</td>\n",
       "      <td>0</td>\n",
       "      <td>Third</td>\n",
       "      <td>Dooley, Mr. Patrick</td>\n",
       "      <td>male</td>\n",
       "      <td>32.0</td>\n",
       "      <td>0</td>\n",
       "      <td>0</td>\n",
       "      <td>370376</td>\n",
       "      <td>7.7500</td>\n",
       "      <td>NaN</td>\n",
       "      <td>Q</td>\n",
       "    </tr>\n",
       "  </tbody>\n",
       "</table>\n",
       "<p>891 rows × 12 columns</p>\n",
       "</div>"
      ],
      "text/plain": [
       "     PassengerId  Survived  Pclass  \\\n",
       "0              1         0   Third   \n",
       "1              2         1   First   \n",
       "2              3         1   Third   \n",
       "3              4         1   First   \n",
       "4              5         0   Third   \n",
       "..           ...       ...     ...   \n",
       "886          887         0  Second   \n",
       "887          888         1   First   \n",
       "888          889         0   Third   \n",
       "889          890         1   First   \n",
       "890          891         0   Third   \n",
       "\n",
       "                                                  Name     Sex   Age  SibSp  \\\n",
       "0                              Braund, Mr. Owen Harris    male  22.0      1   \n",
       "1    Cumings, Mrs. John Bradley (Florence Briggs Th...  female  38.0      1   \n",
       "2                               Heikkinen, Miss. Laina  female  26.0      0   \n",
       "3         Futrelle, Mrs. Jacques Heath (Lily May Peel)  female  35.0      1   \n",
       "4                             Allen, Mr. William Henry    male  35.0      0   \n",
       "..                                                 ...     ...   ...    ...   \n",
       "886                              Montvila, Rev. Juozas    male  27.0      0   \n",
       "887                       Graham, Miss. Margaret Edith  female  19.0      0   \n",
       "888           Johnston, Miss. Catherine Helen \"Carrie\"  female   NaN      1   \n",
       "889                              Behr, Mr. Karl Howell    male  26.0      0   \n",
       "890                                Dooley, Mr. Patrick    male  32.0      0   \n",
       "\n",
       "     Parch            Ticket     Fare Cabin Embarked  \n",
       "0        0         A/5 21171   7.2500   NaN        S  \n",
       "1        0          PC 17599  71.2833   C85        C  \n",
       "2        0  STON/O2. 3101282   7.9250   NaN        S  \n",
       "3        0            113803  53.1000  C123        S  \n",
       "4        0            373450   8.0500   NaN        S  \n",
       "..     ...               ...      ...   ...      ...  \n",
       "886      0            211536  13.0000   NaN        S  \n",
       "887      0            112053  30.0000   B42        S  \n",
       "888      2        W./C. 6607  23.4500   NaN        S  \n",
       "889      0            111369  30.0000  C148        C  \n",
       "890      0            370376   7.7500   NaN        Q  \n",
       "\n",
       "[891 rows x 12 columns]"
      ]
     },
     "execution_count": 33,
     "metadata": {},
     "output_type": "execute_result"
    }
   ],
   "source": [
    "df"
   ]
  },
  {
   "cell_type": "code",
   "execution_count": 34,
   "id": "brown-thailand",
   "metadata": {},
   "outputs": [
    {
     "ename": "ValueError",
     "evalue": "'c' argument must be a color, a sequence of colors, or a sequence of numbers, not ['Third' 'First' 'Third' 'First' 'Third' 'Third' 'First' 'Third' 'Third'\n 'Second' 'Third' 'First' 'Third' 'Third' 'Third' 'Second' 'Third'\n 'Second' 'Third' 'Third' 'Second' 'Second' 'Third' 'First' 'Third'\n 'Third' 'Third' 'First' 'Third' 'Third' 'First' 'First' 'Third' 'Second'\n 'First' 'First' 'Third' 'Third' 'Third' 'Third' 'Third' 'Second' 'Third'\n 'Second' 'Third' 'Third' 'Third' 'Third' 'Third' 'Third' 'Third' 'Third'\n 'First' 'Second' 'First' 'First' 'Second' 'Third' 'Second' 'Third'\n 'Third' 'First' 'First' 'Third' 'First' 'Third' 'Second' 'Third' 'Third'\n 'Third' 'Second' 'Third' 'Second' 'Third' 'Third' 'Third' 'Third' 'Third'\n 'Second' 'Third' 'Third' 'Third' 'Third' 'First' 'Second' 'Third' 'Third'\n 'Third' 'First' 'Third' 'Third' 'Third' 'First' 'Third' 'Third' 'Third'\n 'First' 'First' 'Second' 'Second' 'Third' 'Third' 'First' 'Third' 'Third'\n 'Third' 'Third' 'Third' 'Third' 'Third' 'First' 'Third' 'Third' 'Third'\n 'Third' 'Third' 'Third' 'Second' 'First' 'Third' 'Second' 'Third'\n 'Second' 'Second' 'First' 'Third' 'Third' 'Third' 'Third' 'Third' 'Third'\n 'Third' 'Third' 'Second' 'Second' 'Second' 'First' 'First' 'Third'\n 'First' 'Third' 'Third' 'Third' 'Third' 'Second' 'Second' 'Third' 'Third'\n 'Second' 'Second' 'Second' 'First' 'Third' 'Third' 'Third' 'First'\n 'Third' 'Third' 'Third' 'Third' 'Third' 'Second' 'Third' 'Third' 'Third'\n 'Third' 'First' 'Third' 'First' 'Third' 'First' 'Third' 'Third' 'Third'\n 'First' 'Third' 'Third' 'First' 'Second' 'Third' 'Third' 'Second' 'Third'\n 'Second' 'Third' 'First' 'Third' 'First' 'Third' 'Third' 'Second'\n 'Second' 'Third' 'Second' 'First' 'First' 'Third' 'Third' 'Third'\n 'Second' 'Third' 'Third' 'Third' 'Third' 'Third' 'Third' 'Third' 'Third'\n 'Third' 'First' 'Third' 'Second' 'Third' 'Second' 'Third' 'First' 'Third'\n 'Second' 'First' 'Second' 'Third' 'Second' 'Third' 'Third' 'First'\n 'Third' 'Second' 'Third' 'Second' 'Third' 'First' 'Third' 'Second'\n 'Third' 'Second' 'Third' 'Second' 'Second' 'Second' 'Second' 'Third'\n 'Third' 'Second' 'Third' 'Third' 'First' 'Third' 'Second' 'First'\n 'Second' 'Third' 'Third' 'First' 'Third' 'Third' 'Third' 'First' 'First'\n 'First' 'Second' 'Third' 'Third' 'First' 'First' 'Third' 'Second' 'Third'\n 'Third' 'First' 'First' 'First' 'Third' 'Second' 'First' 'Third' 'First'\n 'Third' 'Second' 'Third' 'Third' 'Third' 'Third' 'Third' 'Third' 'First'\n 'Third' 'Third' 'Third' 'Second' 'Third' 'First' 'First' 'Second' 'Third'\n 'Third' 'First' 'Third' 'First' 'First' 'First' 'Third' 'Third' 'Third'\n 'Second' 'Third' 'First' 'First' 'First' 'Second' 'First' 'First' 'First'\n 'Second' 'Third' 'Second' 'Third' 'Second' 'Second' 'First' 'First'\n 'Third' 'Third' 'Second' 'Second' 'Third' 'First' 'Third' 'Second'\n 'Third' 'First' 'Third' 'First' 'First' 'Third' 'First' 'Third' 'First'\n 'First' 'Third' 'First' 'Second' 'First' 'Second' 'Second' 'Second'\n 'Second' 'Second' 'Third' 'Third' 'Third' 'Third' 'First' 'Third' 'Third'\n 'Third' 'Third' 'First' 'Second' 'Third' 'Third' 'Third' 'Second' 'Third'\n 'Third' 'Third' 'Third' 'First' 'Third' 'Third' 'First' 'First' 'Third'\n 'Third' 'First' 'Third' 'First' 'Third' 'First' 'Third' 'Third' 'First'\n 'Third' 'Third' 'First' 'Third' 'Second' 'Third' 'Second' 'Third'\n 'Second' 'First' 'Third' 'Third' 'First' 'Third' 'Third' 'Third' 'Second'\n 'Second' 'Second' 'Third' 'Third' 'Third' 'Third' 'Third' 'Second'\n 'Third' 'Second' 'Third' 'Third' 'Third' 'Third' 'First' 'Second' 'Third'\n 'Third' 'Second' 'Second' 'Second' 'Third' 'Third' 'Third' 'Third'\n 'Third' 'Third' 'Third' 'Second' 'Second' 'Third' 'Third' 'First' 'Third'\n 'Second' 'Third' 'First' 'First' 'Third' 'Second' 'First' 'Second'\n 'Second' 'Third' 'Third' 'Second' 'Third' 'First' 'Second' 'First'\n 'Third' 'First' 'Second' 'Third' 'First' 'First' 'Third' 'Third' 'First'\n 'First' 'Second' 'Third' 'First' 'Third' 'First' 'Second' 'Third' 'Third'\n 'Second' 'First' 'Third' 'Third' 'Third' 'Third' 'Second' 'Second'\n 'Third' 'First' 'Second' 'Third' 'Third' 'Third' 'Third' 'Second' 'Third'\n 'Third' 'First' 'Third' 'First' 'First' 'Third' 'Third' 'Third' 'Third'\n 'First' 'First' 'Third' 'Third' 'First' 'Third' 'First' 'Third' 'Third'\n 'Third' 'Third' 'Third' 'First' 'First' 'Second' 'First' 'Third' 'Third'\n 'Third' 'Third' 'First' 'First' 'Third' 'First' 'Second' 'Third' 'Second'\n 'Third' 'First' 'Third' 'Third' 'First' 'Third' 'Third' 'Second' 'First'\n 'Third' 'Second' 'Second' 'Third' 'Third' 'Third' 'Third' 'Second'\n 'First' 'First' 'Third' 'First' 'First' 'Third' 'Third' 'Second' 'First'\n 'First' 'Second' 'Second' 'Third' 'Second' 'First' 'Second' 'Third'\n 'Third' 'Third' 'First' 'First' 'First' 'First' 'Third' 'Third' 'Third'\n 'Second' 'Third' 'Third' 'Third' 'Third' 'Third' 'Third' 'Third' 'Second'\n 'First' 'First' 'Third' 'Third' 'Third' 'Second' 'First' 'Third' 'Third'\n 'Second' 'First' 'Second' 'First' 'Third' 'First' 'Second' 'First'\n 'Third' 'Third' 'Third' 'First' 'Third' 'Third' 'Second' 'Third' 'Second'\n 'Third' 'Third' 'First' 'Second' 'Third' 'First' 'Third' 'First' 'Third'\n 'Third' 'First' 'Second' 'First' 'Third' 'Third' 'Third' 'Third' 'Third'\n 'Second' 'Third' 'Third' 'Second' 'Second' 'Third' 'First' 'Third'\n 'Third' 'Third' 'First' 'Second' 'First' 'Third' 'Third' 'First' 'Third'\n 'First' 'First' 'Third' 'Second' 'Third' 'Second' 'Third' 'Third' 'Third'\n 'First' 'Third' 'Third' 'Third' 'First' 'Third' 'First' 'Third' 'Third'\n 'Third' 'Second' 'Third' 'Third' 'Third' 'Second' 'Third' 'Third'\n 'Second' 'First' 'First' 'Third' 'First' 'Third' 'Third' 'Second'\n 'Second' 'Third' 'Third' 'First' 'Second' 'First' 'Second' 'Second'\n 'Second' 'Third' 'Third' 'Third' 'Third' 'First' 'Third' 'First' 'Third'\n 'Third' 'Second' 'Second' 'Third' 'Third' 'Third' 'First' 'First' 'Third'\n 'Third' 'Third' 'First' 'Second' 'Third' 'Third' 'First' 'Third' 'First'\n 'First' 'Third' 'Third' 'Third' 'Second' 'Second' 'First' 'First' 'Third'\n 'First' 'First' 'First' 'Third' 'Second' 'Third' 'First' 'Second' 'Third'\n 'Third' 'Second' 'Third' 'Second' 'Second' 'First' 'Third' 'Second'\n 'Third' 'Second' 'Third' 'First' 'Third' 'Second' 'Second' 'Second'\n 'Third' 'Third' 'First' 'Third' 'Third' 'First' 'First' 'First' 'Third'\n 'Third' 'First' 'Third' 'Second' 'First' 'Third' 'Second' 'Third' 'Third'\n 'Third' 'Second' 'Second' 'Third' 'Second' 'Third' 'First' 'Third'\n 'Third' 'Third' 'First' 'Third' 'First' 'First' 'Third' 'Third' 'Third'\n 'Third' 'Third' 'Second' 'Third' 'Second' 'Third' 'Third' 'Third' 'Third'\n 'First' 'Third' 'First' 'First' 'Third' 'Third' 'Third' 'Third' 'Third'\n 'Third' 'First' 'Third' 'Second' 'Third' 'First' 'Third' 'Second' 'First'\n 'Third' 'Third' 'Third' 'Second' 'Second' 'First' 'Third' 'Third' 'Third'\n 'First' 'Third' 'Second' 'First' 'Third' 'Third' 'Second' 'Third' 'Third'\n 'First' 'Third' 'Second' 'Third' 'Third' 'First' 'Third' 'First' 'Third'\n 'Third' 'Third' 'Third' 'Second' 'Third' 'First' 'Third' 'Second' 'Third'\n 'Third' 'Third' 'First' 'Third' 'Third' 'Third' 'First' 'Third' 'Second'\n 'First' 'Third' 'Third' 'Third' 'Third' 'Third' 'Second' 'First' 'Third'\n 'Third' 'Third' 'First' 'Second' 'Third' 'First' 'First' 'Third' 'Third'\n 'Third' 'Second' 'First' 'Third' 'Second' 'Second' 'Second' 'First'\n 'Third' 'Third' 'Third' 'First' 'First' 'Third' 'Second' 'Third' 'Third'\n 'Third' 'Third' 'First' 'Second' 'Third' 'Third' 'Second' 'Third' 'Third'\n 'Second' 'First' 'Third' 'First' 'Third']",
     "output_type": "error",
     "traceback": [
      "\u001b[1;31m---------------------------------------------------------------------------\u001b[0m",
      "\u001b[1;31mValueError\u001b[0m                                Traceback (most recent call last)",
      "\u001b[1;32mc:\\users\\wma22\\appdata\\local\\programs\\python\\python39\\lib\\site-packages\\matplotlib\\axes\\_axes.py\u001b[0m in \u001b[0;36m_parse_scatter_color_args\u001b[1;34m(c, edgecolors, kwargs, xsize, get_next_color_func)\u001b[0m\n\u001b[0;32m   4290\u001b[0m             \u001b[1;32mtry\u001b[0m\u001b[1;33m:\u001b[0m  \u001b[1;31m# Is 'c' acceptable as PathCollection facecolors?\u001b[0m\u001b[1;33m\u001b[0m\u001b[1;33m\u001b[0m\u001b[0m\n\u001b[1;32m-> 4291\u001b[1;33m                 \u001b[0mcolors\u001b[0m \u001b[1;33m=\u001b[0m \u001b[0mmcolors\u001b[0m\u001b[1;33m.\u001b[0m\u001b[0mto_rgba_array\u001b[0m\u001b[1;33m(\u001b[0m\u001b[0mc\u001b[0m\u001b[1;33m)\u001b[0m\u001b[1;33m\u001b[0m\u001b[1;33m\u001b[0m\u001b[0m\n\u001b[0m\u001b[0;32m   4292\u001b[0m             \u001b[1;32mexcept\u001b[0m \u001b[1;33m(\u001b[0m\u001b[0mTypeError\u001b[0m\u001b[1;33m,\u001b[0m \u001b[0mValueError\u001b[0m\u001b[1;33m)\u001b[0m \u001b[1;32mas\u001b[0m \u001b[0merr\u001b[0m\u001b[1;33m:\u001b[0m\u001b[1;33m\u001b[0m\u001b[1;33m\u001b[0m\u001b[0m\n",
      "\u001b[1;32mc:\\users\\wma22\\appdata\\local\\programs\\python\\python39\\lib\\site-packages\\matplotlib\\colors.py\u001b[0m in \u001b[0;36mto_rgba_array\u001b[1;34m(c, alpha)\u001b[0m\n\u001b[0;32m    340\u001b[0m     \u001b[1;32melse\u001b[0m\u001b[1;33m:\u001b[0m\u001b[1;33m\u001b[0m\u001b[1;33m\u001b[0m\u001b[0m\n\u001b[1;32m--> 341\u001b[1;33m         \u001b[1;32mreturn\u001b[0m \u001b[0mnp\u001b[0m\u001b[1;33m.\u001b[0m\u001b[0marray\u001b[0m\u001b[1;33m(\u001b[0m\u001b[1;33m[\u001b[0m\u001b[0mto_rgba\u001b[0m\u001b[1;33m(\u001b[0m\u001b[0mcc\u001b[0m\u001b[1;33m,\u001b[0m \u001b[0malpha\u001b[0m\u001b[1;33m)\u001b[0m \u001b[1;32mfor\u001b[0m \u001b[0mcc\u001b[0m \u001b[1;32min\u001b[0m \u001b[0mc\u001b[0m\u001b[1;33m]\u001b[0m\u001b[1;33m)\u001b[0m\u001b[1;33m\u001b[0m\u001b[1;33m\u001b[0m\u001b[0m\n\u001b[0m\u001b[0;32m    342\u001b[0m \u001b[1;33m\u001b[0m\u001b[0m\n",
      "\u001b[1;32mc:\\users\\wma22\\appdata\\local\\programs\\python\\python39\\lib\\site-packages\\matplotlib\\colors.py\u001b[0m in \u001b[0;36m<listcomp>\u001b[1;34m(.0)\u001b[0m\n\u001b[0;32m    340\u001b[0m     \u001b[1;32melse\u001b[0m\u001b[1;33m:\u001b[0m\u001b[1;33m\u001b[0m\u001b[1;33m\u001b[0m\u001b[0m\n\u001b[1;32m--> 341\u001b[1;33m         \u001b[1;32mreturn\u001b[0m \u001b[0mnp\u001b[0m\u001b[1;33m.\u001b[0m\u001b[0marray\u001b[0m\u001b[1;33m(\u001b[0m\u001b[1;33m[\u001b[0m\u001b[0mto_rgba\u001b[0m\u001b[1;33m(\u001b[0m\u001b[0mcc\u001b[0m\u001b[1;33m,\u001b[0m \u001b[0malpha\u001b[0m\u001b[1;33m)\u001b[0m \u001b[1;32mfor\u001b[0m \u001b[0mcc\u001b[0m \u001b[1;32min\u001b[0m \u001b[0mc\u001b[0m\u001b[1;33m]\u001b[0m\u001b[1;33m)\u001b[0m\u001b[1;33m\u001b[0m\u001b[1;33m\u001b[0m\u001b[0m\n\u001b[0m\u001b[0;32m    342\u001b[0m \u001b[1;33m\u001b[0m\u001b[0m\n",
      "\u001b[1;32mc:\\users\\wma22\\appdata\\local\\programs\\python\\python39\\lib\\site-packages\\matplotlib\\colors.py\u001b[0m in \u001b[0;36mto_rgba\u001b[1;34m(c, alpha)\u001b[0m\n\u001b[0;32m    188\u001b[0m     \u001b[1;32mif\u001b[0m \u001b[0mrgba\u001b[0m \u001b[1;32mis\u001b[0m \u001b[1;32mNone\u001b[0m\u001b[1;33m:\u001b[0m  \u001b[1;31m# Suppress exception chaining of cache lookup failure.\u001b[0m\u001b[1;33m\u001b[0m\u001b[1;33m\u001b[0m\u001b[0m\n\u001b[1;32m--> 189\u001b[1;33m         \u001b[0mrgba\u001b[0m \u001b[1;33m=\u001b[0m \u001b[0m_to_rgba_no_colorcycle\u001b[0m\u001b[1;33m(\u001b[0m\u001b[0mc\u001b[0m\u001b[1;33m,\u001b[0m \u001b[0malpha\u001b[0m\u001b[1;33m)\u001b[0m\u001b[1;33m\u001b[0m\u001b[1;33m\u001b[0m\u001b[0m\n\u001b[0m\u001b[0;32m    190\u001b[0m         \u001b[1;32mtry\u001b[0m\u001b[1;33m:\u001b[0m\u001b[1;33m\u001b[0m\u001b[1;33m\u001b[0m\u001b[0m\n",
      "\u001b[1;32mc:\\users\\wma22\\appdata\\local\\programs\\python\\python39\\lib\\site-packages\\matplotlib\\colors.py\u001b[0m in \u001b[0;36m_to_rgba_no_colorcycle\u001b[1;34m(c, alpha)\u001b[0m\n\u001b[0;32m    259\u001b[0m             \u001b[1;32mreturn\u001b[0m \u001b[0mc\u001b[0m\u001b[1;33m,\u001b[0m \u001b[0mc\u001b[0m\u001b[1;33m,\u001b[0m \u001b[0mc\u001b[0m\u001b[1;33m,\u001b[0m \u001b[0malpha\u001b[0m \u001b[1;32mif\u001b[0m \u001b[0malpha\u001b[0m \u001b[1;32mis\u001b[0m \u001b[1;32mnot\u001b[0m \u001b[1;32mNone\u001b[0m \u001b[1;32melse\u001b[0m \u001b[1;36m1.\u001b[0m\u001b[1;33m\u001b[0m\u001b[1;33m\u001b[0m\u001b[0m\n\u001b[1;32m--> 260\u001b[1;33m         \u001b[1;32mraise\u001b[0m \u001b[0mValueError\u001b[0m\u001b[1;33m(\u001b[0m\u001b[1;34mf\"Invalid RGBA argument: {orig_c!r}\"\u001b[0m\u001b[1;33m)\u001b[0m\u001b[1;33m\u001b[0m\u001b[1;33m\u001b[0m\u001b[0m\n\u001b[0m\u001b[0;32m    261\u001b[0m     \u001b[1;31m# tuple color.\u001b[0m\u001b[1;33m\u001b[0m\u001b[1;33m\u001b[0m\u001b[1;33m\u001b[0m\u001b[0m\n",
      "\u001b[1;31mValueError\u001b[0m: Invalid RGBA argument: 'Third'",
      "\nThe above exception was the direct cause of the following exception:\n",
      "\u001b[1;31mValueError\u001b[0m                                Traceback (most recent call last)",
      "\u001b[1;32m<ipython-input-34-0d71b0b5b765>\u001b[0m in \u001b[0;36m<module>\u001b[1;34m\u001b[0m\n\u001b[1;32m----> 1\u001b[1;33m \u001b[0mdf\u001b[0m\u001b[1;33m.\u001b[0m\u001b[0mplot\u001b[0m\u001b[1;33m.\u001b[0m\u001b[0mscatter\u001b[0m\u001b[1;33m(\u001b[0m\u001b[0mx\u001b[0m\u001b[1;33m=\u001b[0m\u001b[1;34m\"Age\"\u001b[0m\u001b[1;33m,\u001b[0m \u001b[0my\u001b[0m\u001b[1;33m=\u001b[0m\u001b[1;34m\"Fare\"\u001b[0m\u001b[1;33m,\u001b[0m \u001b[0mc\u001b[0m\u001b[1;33m=\u001b[0m\u001b[1;34m\"Pclass\"\u001b[0m\u001b[1;33m,\u001b[0m\u001b[0mcmap\u001b[0m\u001b[1;33m=\u001b[0m\u001b[1;34m\"viridis\"\u001b[0m\u001b[1;33m,\u001b[0m \u001b[0ms\u001b[0m\u001b[1;33m=\u001b[0m\u001b[1;36m50\u001b[0m\u001b[1;33m)\u001b[0m\u001b[1;33m\u001b[0m\u001b[1;33m\u001b[0m\u001b[0m\n\u001b[0m",
      "\u001b[1;32mc:\\users\\wma22\\appdata\\local\\programs\\python\\python39\\lib\\site-packages\\pandas\\plotting\\_core.py\u001b[0m in \u001b[0;36mscatter\u001b[1;34m(self, x, y, s, c, **kwargs)\u001b[0m\n\u001b[0;32m   1617\u001b[0m             ...                       colormap='viridis')\n\u001b[0;32m   1618\u001b[0m         \"\"\"\n\u001b[1;32m-> 1619\u001b[1;33m         \u001b[1;32mreturn\u001b[0m \u001b[0mself\u001b[0m\u001b[1;33m(\u001b[0m\u001b[0mkind\u001b[0m\u001b[1;33m=\u001b[0m\u001b[1;34m\"scatter\"\u001b[0m\u001b[1;33m,\u001b[0m \u001b[0mx\u001b[0m\u001b[1;33m=\u001b[0m\u001b[0mx\u001b[0m\u001b[1;33m,\u001b[0m \u001b[0my\u001b[0m\u001b[1;33m=\u001b[0m\u001b[0my\u001b[0m\u001b[1;33m,\u001b[0m \u001b[0ms\u001b[0m\u001b[1;33m=\u001b[0m\u001b[0ms\u001b[0m\u001b[1;33m,\u001b[0m \u001b[0mc\u001b[0m\u001b[1;33m=\u001b[0m\u001b[0mc\u001b[0m\u001b[1;33m,\u001b[0m \u001b[1;33m**\u001b[0m\u001b[0mkwargs\u001b[0m\u001b[1;33m)\u001b[0m\u001b[1;33m\u001b[0m\u001b[1;33m\u001b[0m\u001b[0m\n\u001b[0m\u001b[0;32m   1620\u001b[0m \u001b[1;33m\u001b[0m\u001b[0m\n\u001b[0;32m   1621\u001b[0m     \u001b[1;32mdef\u001b[0m \u001b[0mhexbin\u001b[0m\u001b[1;33m(\u001b[0m\u001b[0mself\u001b[0m\u001b[1;33m,\u001b[0m \u001b[0mx\u001b[0m\u001b[1;33m,\u001b[0m \u001b[0my\u001b[0m\u001b[1;33m,\u001b[0m \u001b[0mC\u001b[0m\u001b[1;33m=\u001b[0m\u001b[1;32mNone\u001b[0m\u001b[1;33m,\u001b[0m \u001b[0mreduce_C_function\u001b[0m\u001b[1;33m=\u001b[0m\u001b[1;32mNone\u001b[0m\u001b[1;33m,\u001b[0m \u001b[0mgridsize\u001b[0m\u001b[1;33m=\u001b[0m\u001b[1;32mNone\u001b[0m\u001b[1;33m,\u001b[0m \u001b[1;33m**\u001b[0m\u001b[0mkwargs\u001b[0m\u001b[1;33m)\u001b[0m\u001b[1;33m:\u001b[0m\u001b[1;33m\u001b[0m\u001b[1;33m\u001b[0m\u001b[0m\n",
      "\u001b[1;32mc:\\users\\wma22\\appdata\\local\\programs\\python\\python39\\lib\\site-packages\\pandas\\plotting\\_core.py\u001b[0m in \u001b[0;36m__call__\u001b[1;34m(self, *args, **kwargs)\u001b[0m\n\u001b[0;32m    898\u001b[0m         \u001b[1;32mif\u001b[0m \u001b[0mkind\u001b[0m \u001b[1;32min\u001b[0m \u001b[0mself\u001b[0m\u001b[1;33m.\u001b[0m\u001b[0m_dataframe_kinds\u001b[0m\u001b[1;33m:\u001b[0m\u001b[1;33m\u001b[0m\u001b[1;33m\u001b[0m\u001b[0m\n\u001b[0;32m    899\u001b[0m             \u001b[1;32mif\u001b[0m \u001b[0misinstance\u001b[0m\u001b[1;33m(\u001b[0m\u001b[0mdata\u001b[0m\u001b[1;33m,\u001b[0m \u001b[0mABCDataFrame\u001b[0m\u001b[1;33m)\u001b[0m\u001b[1;33m:\u001b[0m\u001b[1;33m\u001b[0m\u001b[1;33m\u001b[0m\u001b[0m\n\u001b[1;32m--> 900\u001b[1;33m                 \u001b[1;32mreturn\u001b[0m \u001b[0mplot_backend\u001b[0m\u001b[1;33m.\u001b[0m\u001b[0mplot\u001b[0m\u001b[1;33m(\u001b[0m\u001b[0mdata\u001b[0m\u001b[1;33m,\u001b[0m \u001b[0mx\u001b[0m\u001b[1;33m=\u001b[0m\u001b[0mx\u001b[0m\u001b[1;33m,\u001b[0m \u001b[0my\u001b[0m\u001b[1;33m=\u001b[0m\u001b[0my\u001b[0m\u001b[1;33m,\u001b[0m \u001b[0mkind\u001b[0m\u001b[1;33m=\u001b[0m\u001b[0mkind\u001b[0m\u001b[1;33m,\u001b[0m \u001b[1;33m**\u001b[0m\u001b[0mkwargs\u001b[0m\u001b[1;33m)\u001b[0m\u001b[1;33m\u001b[0m\u001b[1;33m\u001b[0m\u001b[0m\n\u001b[0m\u001b[0;32m    901\u001b[0m             \u001b[1;32melse\u001b[0m\u001b[1;33m:\u001b[0m\u001b[1;33m\u001b[0m\u001b[1;33m\u001b[0m\u001b[0m\n\u001b[0;32m    902\u001b[0m                 \u001b[1;32mraise\u001b[0m \u001b[0mValueError\u001b[0m\u001b[1;33m(\u001b[0m\u001b[1;34mf\"plot kind {kind} can only be used for data frames\"\u001b[0m\u001b[1;33m)\u001b[0m\u001b[1;33m\u001b[0m\u001b[1;33m\u001b[0m\u001b[0m\n",
      "\u001b[1;32mc:\\users\\wma22\\appdata\\local\\programs\\python\\python39\\lib\\site-packages\\pandas\\plotting\\_matplotlib\\__init__.py\u001b[0m in \u001b[0;36mplot\u001b[1;34m(data, kind, **kwargs)\u001b[0m\n\u001b[0;32m     59\u001b[0m             \u001b[0mkwargs\u001b[0m\u001b[1;33m[\u001b[0m\u001b[1;34m\"ax\"\u001b[0m\u001b[1;33m]\u001b[0m \u001b[1;33m=\u001b[0m \u001b[0mgetattr\u001b[0m\u001b[1;33m(\u001b[0m\u001b[0max\u001b[0m\u001b[1;33m,\u001b[0m \u001b[1;34m\"left_ax\"\u001b[0m\u001b[1;33m,\u001b[0m \u001b[0max\u001b[0m\u001b[1;33m)\u001b[0m\u001b[1;33m\u001b[0m\u001b[1;33m\u001b[0m\u001b[0m\n\u001b[0;32m     60\u001b[0m     \u001b[0mplot_obj\u001b[0m \u001b[1;33m=\u001b[0m \u001b[0mPLOT_CLASSES\u001b[0m\u001b[1;33m[\u001b[0m\u001b[0mkind\u001b[0m\u001b[1;33m]\u001b[0m\u001b[1;33m(\u001b[0m\u001b[0mdata\u001b[0m\u001b[1;33m,\u001b[0m \u001b[1;33m**\u001b[0m\u001b[0mkwargs\u001b[0m\u001b[1;33m)\u001b[0m\u001b[1;33m\u001b[0m\u001b[1;33m\u001b[0m\u001b[0m\n\u001b[1;32m---> 61\u001b[1;33m     \u001b[0mplot_obj\u001b[0m\u001b[1;33m.\u001b[0m\u001b[0mgenerate\u001b[0m\u001b[1;33m(\u001b[0m\u001b[1;33m)\u001b[0m\u001b[1;33m\u001b[0m\u001b[1;33m\u001b[0m\u001b[0m\n\u001b[0m\u001b[0;32m     62\u001b[0m     \u001b[0mplot_obj\u001b[0m\u001b[1;33m.\u001b[0m\u001b[0mdraw\u001b[0m\u001b[1;33m(\u001b[0m\u001b[1;33m)\u001b[0m\u001b[1;33m\u001b[0m\u001b[1;33m\u001b[0m\u001b[0m\n\u001b[0;32m     63\u001b[0m     \u001b[1;32mreturn\u001b[0m \u001b[0mplot_obj\u001b[0m\u001b[1;33m.\u001b[0m\u001b[0mresult\u001b[0m\u001b[1;33m\u001b[0m\u001b[1;33m\u001b[0m\u001b[0m\n",
      "\u001b[1;32mc:\\users\\wma22\\appdata\\local\\programs\\python\\python39\\lib\\site-packages\\pandas\\plotting\\_matplotlib\\core.py\u001b[0m in \u001b[0;36mgenerate\u001b[1;34m(self)\u001b[0m\n\u001b[0;32m    278\u001b[0m         \u001b[0mself\u001b[0m\u001b[1;33m.\u001b[0m\u001b[0m_compute_plot_data\u001b[0m\u001b[1;33m(\u001b[0m\u001b[1;33m)\u001b[0m\u001b[1;33m\u001b[0m\u001b[1;33m\u001b[0m\u001b[0m\n\u001b[0;32m    279\u001b[0m         \u001b[0mself\u001b[0m\u001b[1;33m.\u001b[0m\u001b[0m_setup_subplots\u001b[0m\u001b[1;33m(\u001b[0m\u001b[1;33m)\u001b[0m\u001b[1;33m\u001b[0m\u001b[1;33m\u001b[0m\u001b[0m\n\u001b[1;32m--> 280\u001b[1;33m         \u001b[0mself\u001b[0m\u001b[1;33m.\u001b[0m\u001b[0m_make_plot\u001b[0m\u001b[1;33m(\u001b[0m\u001b[1;33m)\u001b[0m\u001b[1;33m\u001b[0m\u001b[1;33m\u001b[0m\u001b[0m\n\u001b[0m\u001b[0;32m    281\u001b[0m         \u001b[0mself\u001b[0m\u001b[1;33m.\u001b[0m\u001b[0m_add_table\u001b[0m\u001b[1;33m(\u001b[0m\u001b[1;33m)\u001b[0m\u001b[1;33m\u001b[0m\u001b[1;33m\u001b[0m\u001b[0m\n\u001b[0;32m    282\u001b[0m         \u001b[0mself\u001b[0m\u001b[1;33m.\u001b[0m\u001b[0m_make_legend\u001b[0m\u001b[1;33m(\u001b[0m\u001b[1;33m)\u001b[0m\u001b[1;33m\u001b[0m\u001b[1;33m\u001b[0m\u001b[0m\n",
      "\u001b[1;32mc:\\users\\wma22\\appdata\\local\\programs\\python\\python39\\lib\\site-packages\\pandas\\plotting\\_matplotlib\\core.py\u001b[0m in \u001b[0;36m_make_plot\u001b[1;34m(self)\u001b[0m\n\u001b[0;32m   1039\u001b[0m         \u001b[1;32melse\u001b[0m\u001b[1;33m:\u001b[0m\u001b[1;33m\u001b[0m\u001b[1;33m\u001b[0m\u001b[0m\n\u001b[0;32m   1040\u001b[0m             \u001b[0mlabel\u001b[0m \u001b[1;33m=\u001b[0m \u001b[1;32mNone\u001b[0m\u001b[1;33m\u001b[0m\u001b[1;33m\u001b[0m\u001b[0m\n\u001b[1;32m-> 1041\u001b[1;33m         scatter = ax.scatter(\n\u001b[0m\u001b[0;32m   1042\u001b[0m             \u001b[0mdata\u001b[0m\u001b[1;33m[\u001b[0m\u001b[0mx\u001b[0m\u001b[1;33m]\u001b[0m\u001b[1;33m.\u001b[0m\u001b[0mvalues\u001b[0m\u001b[1;33m,\u001b[0m\u001b[1;33m\u001b[0m\u001b[1;33m\u001b[0m\u001b[0m\n\u001b[0;32m   1043\u001b[0m             \u001b[0mdata\u001b[0m\u001b[1;33m[\u001b[0m\u001b[0my\u001b[0m\u001b[1;33m]\u001b[0m\u001b[1;33m.\u001b[0m\u001b[0mvalues\u001b[0m\u001b[1;33m,\u001b[0m\u001b[1;33m\u001b[0m\u001b[1;33m\u001b[0m\u001b[0m\n",
      "\u001b[1;32mc:\\users\\wma22\\appdata\\local\\programs\\python\\python39\\lib\\site-packages\\matplotlib\\__init__.py\u001b[0m in \u001b[0;36minner\u001b[1;34m(ax, data, *args, **kwargs)\u001b[0m\n\u001b[0;32m   1445\u001b[0m     \u001b[1;32mdef\u001b[0m \u001b[0minner\u001b[0m\u001b[1;33m(\u001b[0m\u001b[0max\u001b[0m\u001b[1;33m,\u001b[0m \u001b[1;33m*\u001b[0m\u001b[0margs\u001b[0m\u001b[1;33m,\u001b[0m \u001b[0mdata\u001b[0m\u001b[1;33m=\u001b[0m\u001b[1;32mNone\u001b[0m\u001b[1;33m,\u001b[0m \u001b[1;33m**\u001b[0m\u001b[0mkwargs\u001b[0m\u001b[1;33m)\u001b[0m\u001b[1;33m:\u001b[0m\u001b[1;33m\u001b[0m\u001b[1;33m\u001b[0m\u001b[0m\n\u001b[0;32m   1446\u001b[0m         \u001b[1;32mif\u001b[0m \u001b[0mdata\u001b[0m \u001b[1;32mis\u001b[0m \u001b[1;32mNone\u001b[0m\u001b[1;33m:\u001b[0m\u001b[1;33m\u001b[0m\u001b[1;33m\u001b[0m\u001b[0m\n\u001b[1;32m-> 1447\u001b[1;33m             \u001b[1;32mreturn\u001b[0m \u001b[0mfunc\u001b[0m\u001b[1;33m(\u001b[0m\u001b[0max\u001b[0m\u001b[1;33m,\u001b[0m \u001b[1;33m*\u001b[0m\u001b[0mmap\u001b[0m\u001b[1;33m(\u001b[0m\u001b[0msanitize_sequence\u001b[0m\u001b[1;33m,\u001b[0m \u001b[0margs\u001b[0m\u001b[1;33m)\u001b[0m\u001b[1;33m,\u001b[0m \u001b[1;33m**\u001b[0m\u001b[0mkwargs\u001b[0m\u001b[1;33m)\u001b[0m\u001b[1;33m\u001b[0m\u001b[1;33m\u001b[0m\u001b[0m\n\u001b[0m\u001b[0;32m   1448\u001b[0m \u001b[1;33m\u001b[0m\u001b[0m\n\u001b[0;32m   1449\u001b[0m         \u001b[0mbound\u001b[0m \u001b[1;33m=\u001b[0m \u001b[0mnew_sig\u001b[0m\u001b[1;33m.\u001b[0m\u001b[0mbind\u001b[0m\u001b[1;33m(\u001b[0m\u001b[0max\u001b[0m\u001b[1;33m,\u001b[0m \u001b[1;33m*\u001b[0m\u001b[0margs\u001b[0m\u001b[1;33m,\u001b[0m \u001b[1;33m**\u001b[0m\u001b[0mkwargs\u001b[0m\u001b[1;33m)\u001b[0m\u001b[1;33m\u001b[0m\u001b[1;33m\u001b[0m\u001b[0m\n",
      "\u001b[1;32mc:\\users\\wma22\\appdata\\local\\programs\\python\\python39\\lib\\site-packages\\matplotlib\\cbook\\deprecation.py\u001b[0m in \u001b[0;36mwrapper\u001b[1;34m(*inner_args, **inner_kwargs)\u001b[0m\n\u001b[0;32m    409\u001b[0m                          \u001b[1;32melse\u001b[0m \u001b[0mdeprecation_addendum\u001b[0m\u001b[1;33m,\u001b[0m\u001b[1;33m\u001b[0m\u001b[1;33m\u001b[0m\u001b[0m\n\u001b[0;32m    410\u001b[0m                 **kwargs)\n\u001b[1;32m--> 411\u001b[1;33m         \u001b[1;32mreturn\u001b[0m \u001b[0mfunc\u001b[0m\u001b[1;33m(\u001b[0m\u001b[1;33m*\u001b[0m\u001b[0minner_args\u001b[0m\u001b[1;33m,\u001b[0m \u001b[1;33m**\u001b[0m\u001b[0minner_kwargs\u001b[0m\u001b[1;33m)\u001b[0m\u001b[1;33m\u001b[0m\u001b[1;33m\u001b[0m\u001b[0m\n\u001b[0m\u001b[0;32m    412\u001b[0m \u001b[1;33m\u001b[0m\u001b[0m\n\u001b[0;32m    413\u001b[0m     \u001b[1;32mreturn\u001b[0m \u001b[0mwrapper\u001b[0m\u001b[1;33m\u001b[0m\u001b[1;33m\u001b[0m\u001b[0m\n",
      "\u001b[1;32mc:\\users\\wma22\\appdata\\local\\programs\\python\\python39\\lib\\site-packages\\matplotlib\\axes\\_axes.py\u001b[0m in \u001b[0;36mscatter\u001b[1;34m(self, x, y, s, c, marker, cmap, norm, vmin, vmax, alpha, linewidths, verts, edgecolors, plotnonfinite, **kwargs)\u001b[0m\n\u001b[0;32m   4449\u001b[0m \u001b[1;33m\u001b[0m\u001b[0m\n\u001b[0;32m   4450\u001b[0m         \u001b[0mc\u001b[0m\u001b[1;33m,\u001b[0m \u001b[0mcolors\u001b[0m\u001b[1;33m,\u001b[0m \u001b[0medgecolors\u001b[0m \u001b[1;33m=\u001b[0m\u001b[0;31m \u001b[0m\u001b[0;31m\\\u001b[0m\u001b[1;33m\u001b[0m\u001b[1;33m\u001b[0m\u001b[0m\n\u001b[1;32m-> 4451\u001b[1;33m             self._parse_scatter_color_args(\n\u001b[0m\u001b[0;32m   4452\u001b[0m                 \u001b[0mc\u001b[0m\u001b[1;33m,\u001b[0m \u001b[0medgecolors\u001b[0m\u001b[1;33m,\u001b[0m \u001b[0mkwargs\u001b[0m\u001b[1;33m,\u001b[0m \u001b[0mx\u001b[0m\u001b[1;33m.\u001b[0m\u001b[0msize\u001b[0m\u001b[1;33m,\u001b[0m\u001b[1;33m\u001b[0m\u001b[1;33m\u001b[0m\u001b[0m\n\u001b[0;32m   4453\u001b[0m                 get_next_color_func=self._get_patches_for_fill.get_next_color)\n",
      "\u001b[1;32mc:\\users\\wma22\\appdata\\local\\programs\\python\\python39\\lib\\site-packages\\matplotlib\\axes\\_axes.py\u001b[0m in \u001b[0;36m_parse_scatter_color_args\u001b[1;34m(c, edgecolors, kwargs, xsize, get_next_color_func)\u001b[0m\n\u001b[0;32m   4298\u001b[0m                     \u001b[1;31m# Both the mapping *and* the RGBA conversion failed: pretty\u001b[0m\u001b[1;33m\u001b[0m\u001b[1;33m\u001b[0m\u001b[1;33m\u001b[0m\u001b[0m\n\u001b[0;32m   4299\u001b[0m                     \u001b[1;31m# severe failure => one may appreciate a verbose feedback.\u001b[0m\u001b[1;33m\u001b[0m\u001b[1;33m\u001b[0m\u001b[1;33m\u001b[0m\u001b[0m\n\u001b[1;32m-> 4300\u001b[1;33m                     raise ValueError(\n\u001b[0m\u001b[0;32m   4301\u001b[0m                         \u001b[1;34mf\"'c' argument must be a color, a sequence of colors, \"\u001b[0m\u001b[1;33m\u001b[0m\u001b[1;33m\u001b[0m\u001b[0m\n\u001b[0;32m   4302\u001b[0m                         f\"or a sequence of numbers, not {c}\") from err\n",
      "\u001b[1;31mValueError\u001b[0m: 'c' argument must be a color, a sequence of colors, or a sequence of numbers, not ['Third' 'First' 'Third' 'First' 'Third' 'Third' 'First' 'Third' 'Third'\n 'Second' 'Third' 'First' 'Third' 'Third' 'Third' 'Second' 'Third'\n 'Second' 'Third' 'Third' 'Second' 'Second' 'Third' 'First' 'Third'\n 'Third' 'Third' 'First' 'Third' 'Third' 'First' 'First' 'Third' 'Second'\n 'First' 'First' 'Third' 'Third' 'Third' 'Third' 'Third' 'Second' 'Third'\n 'Second' 'Third' 'Third' 'Third' 'Third' 'Third' 'Third' 'Third' 'Third'\n 'First' 'Second' 'First' 'First' 'Second' 'Third' 'Second' 'Third'\n 'Third' 'First' 'First' 'Third' 'First' 'Third' 'Second' 'Third' 'Third'\n 'Third' 'Second' 'Third' 'Second' 'Third' 'Third' 'Third' 'Third' 'Third'\n 'Second' 'Third' 'Third' 'Third' 'Third' 'First' 'Second' 'Third' 'Third'\n 'Third' 'First' 'Third' 'Third' 'Third' 'First' 'Third' 'Third' 'Third'\n 'First' 'First' 'Second' 'Second' 'Third' 'Third' 'First' 'Third' 'Third'\n 'Third' 'Third' 'Third' 'Third' 'Third' 'First' 'Third' 'Third' 'Third'\n 'Third' 'Third' 'Third' 'Second' 'First' 'Third' 'Second' 'Third'\n 'Second' 'Second' 'First' 'Third' 'Third' 'Third' 'Third' 'Third' 'Third'\n 'Third' 'Third' 'Second' 'Second' 'Second' 'First' 'First' 'Third'\n 'First' 'Third' 'Third' 'Third' 'Third' 'Second' 'Second' 'Third' 'Third'\n 'Second' 'Second' 'Second' 'First' 'Third' 'Third' 'Third' 'First'\n 'Third' 'Third' 'Third' 'Third' 'Third' 'Second' 'Third' 'Third' 'Third'\n 'Third' 'First' 'Third' 'First' 'Third' 'First' 'Third' 'Third' 'Third'\n 'First' 'Third' 'Third' 'First' 'Second' 'Third' 'Third' 'Second' 'Third'\n 'Second' 'Third' 'First' 'Third' 'First' 'Third' 'Third' 'Second'\n 'Second' 'Third' 'Second' 'First' 'First' 'Third' 'Third' 'Third'\n 'Second' 'Third' 'Third' 'Third' 'Third' 'Third' 'Third' 'Third' 'Third'\n 'Third' 'First' 'Third' 'Second' 'Third' 'Second' 'Third' 'First' 'Third'\n 'Second' 'First' 'Second' 'Third' 'Second' 'Third' 'Third' 'First'\n 'Third' 'Second' 'Third' 'Second' 'Third' 'First' 'Third' 'Second'\n 'Third' 'Second' 'Third' 'Second' 'Second' 'Second' 'Second' 'Third'\n 'Third' 'Second' 'Third' 'Third' 'First' 'Third' 'Second' 'First'\n 'Second' 'Third' 'Third' 'First' 'Third' 'Third' 'Third' 'First' 'First'\n 'First' 'Second' 'Third' 'Third' 'First' 'First' 'Third' 'Second' 'Third'\n 'Third' 'First' 'First' 'First' 'Third' 'Second' 'First' 'Third' 'First'\n 'Third' 'Second' 'Third' 'Third' 'Third' 'Third' 'Third' 'Third' 'First'\n 'Third' 'Third' 'Third' 'Second' 'Third' 'First' 'First' 'Second' 'Third'\n 'Third' 'First' 'Third' 'First' 'First' 'First' 'Third' 'Third' 'Third'\n 'Second' 'Third' 'First' 'First' 'First' 'Second' 'First' 'First' 'First'\n 'Second' 'Third' 'Second' 'Third' 'Second' 'Second' 'First' 'First'\n 'Third' 'Third' 'Second' 'Second' 'Third' 'First' 'Third' 'Second'\n 'Third' 'First' 'Third' 'First' 'First' 'Third' 'First' 'Third' 'First'\n 'First' 'Third' 'First' 'Second' 'First' 'Second' 'Second' 'Second'\n 'Second' 'Second' 'Third' 'Third' 'Third' 'Third' 'First' 'Third' 'Third'\n 'Third' 'Third' 'First' 'Second' 'Third' 'Third' 'Third' 'Second' 'Third'\n 'Third' 'Third' 'Third' 'First' 'Third' 'Third' 'First' 'First' 'Third'\n 'Third' 'First' 'Third' 'First' 'Third' 'First' 'Third' 'Third' 'First'\n 'Third' 'Third' 'First' 'Third' 'Second' 'Third' 'Second' 'Third'\n 'Second' 'First' 'Third' 'Third' 'First' 'Third' 'Third' 'Third' 'Second'\n 'Second' 'Second' 'Third' 'Third' 'Third' 'Third' 'Third' 'Second'\n 'Third' 'Second' 'Third' 'Third' 'Third' 'Third' 'First' 'Second' 'Third'\n 'Third' 'Second' 'Second' 'Second' 'Third' 'Third' 'Third' 'Third'\n 'Third' 'Third' 'Third' 'Second' 'Second' 'Third' 'Third' 'First' 'Third'\n 'Second' 'Third' 'First' 'First' 'Third' 'Second' 'First' 'Second'\n 'Second' 'Third' 'Third' 'Second' 'Third' 'First' 'Second' 'First'\n 'Third' 'First' 'Second' 'Third' 'First' 'First' 'Third' 'Third' 'First'\n 'First' 'Second' 'Third' 'First' 'Third' 'First' 'Second' 'Third' 'Third'\n 'Second' 'First' 'Third' 'Third' 'Third' 'Third' 'Second' 'Second'\n 'Third' 'First' 'Second' 'Third' 'Third' 'Third' 'Third' 'Second' 'Third'\n 'Third' 'First' 'Third' 'First' 'First' 'Third' 'Third' 'Third' 'Third'\n 'First' 'First' 'Third' 'Third' 'First' 'Third' 'First' 'Third' 'Third'\n 'Third' 'Third' 'Third' 'First' 'First' 'Second' 'First' 'Third' 'Third'\n 'Third' 'Third' 'First' 'First' 'Third' 'First' 'Second' 'Third' 'Second'\n 'Third' 'First' 'Third' 'Third' 'First' 'Third' 'Third' 'Second' 'First'\n 'Third' 'Second' 'Second' 'Third' 'Third' 'Third' 'Third' 'Second'\n 'First' 'First' 'Third' 'First' 'First' 'Third' 'Third' 'Second' 'First'\n 'First' 'Second' 'Second' 'Third' 'Second' 'First' 'Second' 'Third'\n 'Third' 'Third' 'First' 'First' 'First' 'First' 'Third' 'Third' 'Third'\n 'Second' 'Third' 'Third' 'Third' 'Third' 'Third' 'Third' 'Third' 'Second'\n 'First' 'First' 'Third' 'Third' 'Third' 'Second' 'First' 'Third' 'Third'\n 'Second' 'First' 'Second' 'First' 'Third' 'First' 'Second' 'First'\n 'Third' 'Third' 'Third' 'First' 'Third' 'Third' 'Second' 'Third' 'Second'\n 'Third' 'Third' 'First' 'Second' 'Third' 'First' 'Third' 'First' 'Third'\n 'Third' 'First' 'Second' 'First' 'Third' 'Third' 'Third' 'Third' 'Third'\n 'Second' 'Third' 'Third' 'Second' 'Second' 'Third' 'First' 'Third'\n 'Third' 'Third' 'First' 'Second' 'First' 'Third' 'Third' 'First' 'Third'\n 'First' 'First' 'Third' 'Second' 'Third' 'Second' 'Third' 'Third' 'Third'\n 'First' 'Third' 'Third' 'Third' 'First' 'Third' 'First' 'Third' 'Third'\n 'Third' 'Second' 'Third' 'Third' 'Third' 'Second' 'Third' 'Third'\n 'Second' 'First' 'First' 'Third' 'First' 'Third' 'Third' 'Second'\n 'Second' 'Third' 'Third' 'First' 'Second' 'First' 'Second' 'Second'\n 'Second' 'Third' 'Third' 'Third' 'Third' 'First' 'Third' 'First' 'Third'\n 'Third' 'Second' 'Second' 'Third' 'Third' 'Third' 'First' 'First' 'Third'\n 'Third' 'Third' 'First' 'Second' 'Third' 'Third' 'First' 'Third' 'First'\n 'First' 'Third' 'Third' 'Third' 'Second' 'Second' 'First' 'First' 'Third'\n 'First' 'First' 'First' 'Third' 'Second' 'Third' 'First' 'Second' 'Third'\n 'Third' 'Second' 'Third' 'Second' 'Second' 'First' 'Third' 'Second'\n 'Third' 'Second' 'Third' 'First' 'Third' 'Second' 'Second' 'Second'\n 'Third' 'Third' 'First' 'Third' 'Third' 'First' 'First' 'First' 'Third'\n 'Third' 'First' 'Third' 'Second' 'First' 'Third' 'Second' 'Third' 'Third'\n 'Third' 'Second' 'Second' 'Third' 'Second' 'Third' 'First' 'Third'\n 'Third' 'Third' 'First' 'Third' 'First' 'First' 'Third' 'Third' 'Third'\n 'Third' 'Third' 'Second' 'Third' 'Second' 'Third' 'Third' 'Third' 'Third'\n 'First' 'Third' 'First' 'First' 'Third' 'Third' 'Third' 'Third' 'Third'\n 'Third' 'First' 'Third' 'Second' 'Third' 'First' 'Third' 'Second' 'First'\n 'Third' 'Third' 'Third' 'Second' 'Second' 'First' 'Third' 'Third' 'Third'\n 'First' 'Third' 'Second' 'First' 'Third' 'Third' 'Second' 'Third' 'Third'\n 'First' 'Third' 'Second' 'Third' 'Third' 'First' 'Third' 'First' 'Third'\n 'Third' 'Third' 'Third' 'Second' 'Third' 'First' 'Third' 'Second' 'Third'\n 'Third' 'Third' 'First' 'Third' 'Third' 'Third' 'First' 'Third' 'Second'\n 'First' 'Third' 'Third' 'Third' 'Third' 'Third' 'Second' 'First' 'Third'\n 'Third' 'Third' 'First' 'Second' 'Third' 'First' 'First' 'Third' 'Third'\n 'Third' 'Second' 'First' 'Third' 'Second' 'Second' 'Second' 'First'\n 'Third' 'Third' 'Third' 'First' 'First' 'Third' 'Second' 'Third' 'Third'\n 'Third' 'Third' 'First' 'Second' 'Third' 'Third' 'Second' 'Third' 'Third'\n 'Second' 'First' 'Third' 'First' 'Third']"
     ]
    },
    {
     "data": {
      "image/png": "[encoded data removed]",
      "text/plain": [
       "<Figure size 432x288 with 1 Axes>"
      ]
     },
     "metadata": {
      "needs_background": "light"
     },
     "output_type": "display_data"
    }
   ],
   "source": [
    "df.plot.scatter(x=\"Age\", y=\"Fare\", c=\"Pclass\",cmap=\"viridis\", s=50)"
   ]
  },
  {
   "cell_type": "code",
   "execution_count": null,
   "id": "unlike-chicago",
   "metadata": {},
   "outputs": [],
   "source": []
  }
 ],
 "metadata": {
  "kernelspec": {
   "display_name": "Python 3",
   "language": "python",
   "name": "python3"
  },
  "language_info": {
   "codemirror_mode": {
    "name": "ipython",
    "version": 3
   },
   "file_extension": ".py",
   "mimetype": "text/x-python",
   "name": "python",
   "nbconvert_exporter": "python",
   "pygments_lexer": "ipython3",
   "version": "3.9.2"
  }
 },
 "nbformat": 4,
 "nbformat_minor": 5
}
