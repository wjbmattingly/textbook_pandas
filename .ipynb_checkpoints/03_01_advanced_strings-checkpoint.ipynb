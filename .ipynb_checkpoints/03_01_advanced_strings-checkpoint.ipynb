{
 "cells": [
  {
   "cell_type": "markdown",
   "id": "exclusive-novelty",
   "metadata": {},
   "source": [
    "# <center>Advanced Searching on Strings</center>"
   ]
  },
  {
   "cell_type": "markdown",
   "id": "functional-filter",
   "metadata": {},
   "source": [
    "<center>Dr. W.J.B. Mattingly</center>\n",
    "\n",
    "<center>Smithsonian Data Science Lab and United States Holocaust Memorial Museum</center>\n",
    "\n",
    "<center>August 2021</center>"
   ]
  },
  {
   "cell_type": "markdown",
   "id": "photographic-glossary",
   "metadata": {},
   "source": [
    "## Covered in this Chapter"
   ]
  },
  {
   "cell_type": "markdown",
   "id": "successful-newcastle",
   "metadata": {},
   "source": [
    "1) How to find Strings with Specific Features<br>"
   ]
  },
  {
   "cell_type": "markdown",
   "id": "residential-worth",
   "metadata": {},
   "source": [
    "## Finding Features within a String"
   ]
  },
  {
   "cell_type": "code",
   "execution_count": 1,
   "id": "consecutive-seating",
   "metadata": {},
   "outputs": [],
   "source": [
    "import pandas as pd\n",
    "df = pd.read_csv(\"data/titanic.csv\")"
   ]
  },
  {
   "cell_type": "code",
   "execution_count": null,
   "id": "hungry-guidance",
   "metadata": {},
   "outputs": [],
   "source": [
    "df.loc[(df[\"\"])]"
   ]
  }
 ],
 "metadata": {
  "kernelspec": {
   "display_name": "Python 3",
   "language": "python",
   "name": "python3"
  },
  "language_info": {
   "codemirror_mode": {
    "name": "ipython",
    "version": 3
   },
   "file_extension": ".py",
   "mimetype": "text/x-python",
   "name": "python",
   "nbconvert_exporter": "python",
   "pygments_lexer": "ipython3",
   "version": "3.9.2"
  }
 },
 "nbformat": 4,
 "nbformat_minor": 5
}
