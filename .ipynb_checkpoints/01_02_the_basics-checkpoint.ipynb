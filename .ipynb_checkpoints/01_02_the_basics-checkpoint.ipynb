{
 "cells": [
  {
   "cell_type": "markdown",
   "id": "e0751cfc-e725-4723-90e3-7bc231fa5f50",
   "metadata": {},
   "source": [
    "# Pandas Textbook for Digital Humanities"
   ]
  },
  {
   "cell_type": "markdown",
   "id": "72513c4c-4383-499a-a946-e190c6953533",
   "metadata": {},
   "source": [
    "## Chapter Two: The Basics of Pandas"
   ]
  },
  {
   "cell_type": "markdown",
   "id": "4905868d-2556-48db-8fcb-c0ebf05daafb",
   "metadata": {},
   "source": [
    "## Covered in this Chapter"
   ]
  },
  {
   "cell_type": "markdown",
   "id": "bdf64cf7-25cc-41dd-9d1c-ad162f461a06",
   "metadata": {},
   "source": [
    "1) How to Create a DataFrame from a Dictionary<br>\n",
    "2) How to Display a DataFrame<br>\n",
    "3) How to Save a DataFrame to CSV<br>\n",
    "4) How to Create a DataFrame from a CSV File<br>\n",
    "5) How to Create a DataFrame from a JSON File<br>\n",
    "6) How to Add a Column to a DataFrame<br>\n",
    "7) How to Grab a Specific Column of a DataFrame<br>\n",
    "8) How to Convert a Column to a List<br>\n",
    "9) How to Grab a Specific Row of a DataFrame"
   ]
  },
  {
   "cell_type": "markdown",
   "id": "d5152d2a-61dc-4323-a574-42398f96494c",
   "metadata": {},
   "source": [
    "## How to Create a DataFrame from a Dictionary"
   ]
  },
  {
   "cell_type": "markdown",
   "id": "f1f1bc51-68cd-46f4-91a9-c94353dcceb5",
   "metadata": {},
   "source": [
    "As we noted in the last notebook, we need to first import pandas. To do that we will import pandas as pd."
   ]
  },
  {
   "cell_type": "code",
   "execution_count": 1,
   "id": "aeda9b1e-691e-4e8a-b6ee-bb2b0fa0c71f",
   "metadata": {},
   "outputs": [],
   "source": [
    "import pandas as pd"
   ]
  },
  {
   "cell_type": "markdown",
   "id": "8b57cf56-a05e-4edd-9a2b-3ae5c07a543d",
   "metadata": {},
   "source": [
    "With pandas now loaded correctly, we can begin to work with the library. Normally, you will create a Pandas DataFrame from a CSV or some external data file. We will see examples of that below. To begin, though, let's start with the basics. Below we have a dictionary. A good way to think of this dictionary is as an Excel Spreadsheet. Each key in the dictionary is a column and its value is a list which contains each cell in that column. We will see an example of a two-column dataset below, but for now let's work with the single column dataset, \"names\". In this column, we have a list of 6 names."
   ]
  },
  {
   "cell_type": "code",
   "execution_count": 2,
   "id": "95e32442-e5b3-4738-9cb3-4ed7e4451f7e",
   "metadata": {},
   "outputs": [],
   "source": [
    "names_dict = {\"names\":\n",
    "        [\n",
    "            \"Tom\",\n",
    "            \"Mary\",\n",
    "            \"Jeff\",\n",
    "            \"Rose\",\n",
    "            \"Stephanie\",\n",
    "            \"Rodger\"\n",
    "        ]}"
   ]
  },
  {
   "cell_type": "markdown",
   "id": "8dfcf1ad-364a-4ac2-ac38-cb2e1a7ed5d4",
   "metadata": {},
   "source": [
    "Normally in Python, we would work with this data as an object. I could do something like the following to get the value of names:"
   ]
  },
  {
   "cell_type": "code",
   "execution_count": 3,
   "id": "96a1d6ef-a465-459a-b0a7-f5fddb239caa",
   "metadata": {},
   "outputs": [
    {
     "name": "stdout",
     "output_type": "stream",
     "text": [
      "['Tom', 'Mary', 'Jeff', 'Rose', 'Stephanie', 'Rodger']\n"
     ]
    }
   ],
   "source": [
    "print (names_dict[\"names\"])"
   ]
  },
  {
   "cell_type": "markdown",
   "id": "536ff77c-b8cf-461f-903e-2910769d94e3",
   "metadata": {},
   "source": [
    "But this is a textbook on Pandas and DataFrames. We want to do more! We want to work strictly with our data as a DataFrame. In order to do this, we need to convert the data into a Pandas DataFrame. To do that, we can use the line of code below. The pd.DataFrame can take numerous arguments. We won't get into all of them right now. For now, understand that there is one essential argument that you must pass: the data that you wish to convert into a DataFrame. In our case, we will be converting the single-column dictionary into a DataFrame, so we pass that object as the only argument. We can see this in the code below."
   ]
  },
  {
   "cell_type": "code",
   "execution_count": 4,
   "id": "cf113746-49c5-4ecc-8e18-e3ccc66d810d",
   "metadata": {},
   "outputs": [],
   "source": [
    "df = pd.DataFrame(names_dict)"
   ]
  },
  {
   "cell_type": "markdown",
   "id": "3a253a54-9a46-4ab1-b2b1-2cd16a741d4e",
   "metadata": {},
   "source": [
    "## How to Display a DataFrame"
   ]
  },
  {
   "cell_type": "markdown",
   "id": "4e6aca70-2b42-4a28-bbdb-0259564a3ad6",
   "metadata": {},
   "source": [
    "Loading the data as DataFrame is not the end of our work. It is often times essential to view that data in a Jupyter notebook or terminal. To see what it looks like, you can use the following command."
   ]
  },
  {
   "cell_type": "code",
   "execution_count": 5,
   "id": "c5449435-2b5b-4830-af38-2e28a5bc6f54",
   "metadata": {},
   "outputs": [
    {
     "data": {
      "text/html": [
       "<div>\n",
       "<style scoped>\n",
       "    .dataframe tbody tr th:only-of-type {\n",
       "        vertical-align: middle;\n",
       "    }\n",
       "\n",
       "    .dataframe tbody tr th {\n",
       "        vertical-align: top;\n",
       "    }\n",
       "\n",
       "    .dataframe thead th {\n",
       "        text-align: right;\n",
       "    }\n",
       "</style>\n",
       "<table border=\"1\" class=\"dataframe\">\n",
       "  <thead>\n",
       "    <tr style=\"text-align: right;\">\n",
       "      <th></th>\n",
       "      <th>names</th>\n",
       "    </tr>\n",
       "  </thead>\n",
       "  <tbody>\n",
       "    <tr>\n",
       "      <th>0</th>\n",
       "      <td>Tom</td>\n",
       "    </tr>\n",
       "    <tr>\n",
       "      <th>1</th>\n",
       "      <td>Mary</td>\n",
       "    </tr>\n",
       "    <tr>\n",
       "      <th>2</th>\n",
       "      <td>Jeff</td>\n",
       "    </tr>\n",
       "    <tr>\n",
       "      <th>3</th>\n",
       "      <td>Rose</td>\n",
       "    </tr>\n",
       "    <tr>\n",
       "      <th>4</th>\n",
       "      <td>Stephanie</td>\n",
       "    </tr>\n",
       "    <tr>\n",
       "      <th>5</th>\n",
       "      <td>Rodger</td>\n",
       "    </tr>\n",
       "  </tbody>\n",
       "</table>\n",
       "</div>"
      ],
      "text/plain": [
       "       names\n",
       "0        Tom\n",
       "1       Mary\n",
       "2       Jeff\n",
       "3       Rose\n",
       "4  Stephanie\n",
       "5     Rodger"
      ]
     },
     "execution_count": 5,
     "metadata": {},
     "output_type": "execute_result"
    }
   ],
   "source": [
    "df"
   ]
  },
  {
   "cell_type": "markdown",
   "id": "815b8b33-667b-4dc7-a234-1026b757fdd3",
   "metadata": {},
   "source": [
    "Note that we are not printing off the data. This is because we are working within a Jupyter notebook. Were we working within an IDE, such as Atom, we would need to use the following command:"
   ]
  },
  {
   "cell_type": "code",
   "execution_count": 6,
   "id": "53b09be0-9bea-40d1-9c18-7d8c8781f51f",
   "metadata": {},
   "outputs": [
    {
     "name": "stdout",
     "output_type": "stream",
     "text": [
      "       names\n",
      "0        Tom\n",
      "1       Mary\n",
      "2       Jeff\n",
      "3       Rose\n",
      "4  Stephanie\n",
      "5     Rodger\n"
     ]
    }
   ],
   "source": [
    "print (df)"
   ]
  },
  {
   "cell_type": "markdown",
   "id": "df0f6a7c-809a-4fb0-b306-693c581bb568",
   "metadata": {},
   "source": [
    "Notice, however, that the formatting of the data in the output is a bit different. When we print off a DataFrame, we do not see the nice formatting, such as the row highlighting and column header emboldening. It is for these reasons, that I recommend using the command \"df\" rather than print (df)"
   ]
  },
  {
   "cell_type": "markdown",
   "id": "8a20f3df-704c-47ca-bcb9-89c3690fb101",
   "metadata": {},
   "source": [
    "## How to Save DataFrame to CSV"
   ]
  },
  {
   "cell_type": "markdown",
   "id": "95ae5463-69de-4dd8-ad39-88c131a62c09",
   "metadata": {},
   "source": [
    "Often times when you convert your data into a DataFrame, you will process it and then ultimately save it to disk. To do this, we have a few different options, such as CSV and JSON. We will meet this process with JSON a bit later. For now, let's focus on one file type: CSV, or comma separated value. To save your DataFrame to a CSV file, you can write the following command"
   ]
  },
  {
   "cell_type": "code",
   "execution_count": 7,
   "id": "2ae292f5-0597-4835-aaad-ed69f67c68df",
   "metadata": {},
   "outputs": [],
   "source": [
    "df.to_csv(\"data/names.csv\")"
   ]
  },
  {
   "cell_type": "markdown",
   "id": "33b88f3f-2896-417f-85d5-379318b0d04e",
   "metadata": {},
   "source": [
    "As we will see a little later, there are different arguments that you can pass here (and should!) For now, let's focus on that single argument that we used: a string. This string should correspond to the file that you want to create. In this case, we are putting it into the data subfolder under the name \"names.csv\"."
   ]
  },
  {
   "cell_type": "markdown",
   "id": "29bee7c8-bc91-4ea2-ae39-a8c91e5cd08d",
   "metadata": {},
   "source": [
    "## How to Read DataFrame from CSV"
   ]
  },
  {
   "cell_type": "markdown",
   "id": "e7e45ff1-322a-4a2c-a895-26cdf7dec3a8",
   "metadata": {},
   "source": [
    "Now that we have the data saved to a CSV file, let's create a new DataFrame, df2, and read that data. We can do this with the command pd.read_csv(). As with to_csv, we can pass multiple arguments here, but for now, we will stick with the one mandatory one, a string of the file that we wish to open. In this case, it is the same file we just created. Let's open it and print it off."
   ]
  },
  {
   "cell_type": "code",
   "execution_count": 8,
   "id": "dc61ff1b-6a74-4395-bd47-1b93883aedc7",
   "metadata": {},
   "outputs": [],
   "source": [
    "df2 = pd.read_csv(\"data/names.csv\")"
   ]
  },
  {
   "cell_type": "code",
   "execution_count": 9,
   "id": "3871df0d-102c-4608-a0a1-45a33330235f",
   "metadata": {},
   "outputs": [
    {
     "data": {
      "text/html": [
       "<div>\n",
       "<style scoped>\n",
       "    .dataframe tbody tr th:only-of-type {\n",
       "        vertical-align: middle;\n",
       "    }\n",
       "\n",
       "    .dataframe tbody tr th {\n",
       "        vertical-align: top;\n",
       "    }\n",
       "\n",
       "    .dataframe thead th {\n",
       "        text-align: right;\n",
       "    }\n",
       "</style>\n",
       "<table border=\"1\" class=\"dataframe\">\n",
       "  <thead>\n",
       "    <tr style=\"text-align: right;\">\n",
       "      <th></th>\n",
       "      <th>Unnamed: 0</th>\n",
       "      <th>names</th>\n",
       "    </tr>\n",
       "  </thead>\n",
       "  <tbody>\n",
       "    <tr>\n",
       "      <th>0</th>\n",
       "      <td>0</td>\n",
       "      <td>Tom</td>\n",
       "    </tr>\n",
       "    <tr>\n",
       "      <th>1</th>\n",
       "      <td>1</td>\n",
       "      <td>Mary</td>\n",
       "    </tr>\n",
       "    <tr>\n",
       "      <th>2</th>\n",
       "      <td>2</td>\n",
       "      <td>Jeff</td>\n",
       "    </tr>\n",
       "    <tr>\n",
       "      <th>3</th>\n",
       "      <td>3</td>\n",
       "      <td>Rose</td>\n",
       "    </tr>\n",
       "    <tr>\n",
       "      <th>4</th>\n",
       "      <td>4</td>\n",
       "      <td>Stephanie</td>\n",
       "    </tr>\n",
       "    <tr>\n",
       "      <th>5</th>\n",
       "      <td>5</td>\n",
       "      <td>Rodger</td>\n",
       "    </tr>\n",
       "  </tbody>\n",
       "</table>\n",
       "</div>"
      ],
      "text/plain": [
       "   Unnamed: 0      names\n",
       "0           0        Tom\n",
       "1           1       Mary\n",
       "2           2       Jeff\n",
       "3           3       Rose\n",
       "4           4  Stephanie\n",
       "5           5     Rodger"
      ]
     },
     "execution_count": 9,
     "metadata": {},
     "output_type": "execute_result"
    }
   ],
   "source": [
    "df2"
   ]
  },
  {
   "cell_type": "markdown",
   "id": "57aac150-2001-44e0-bfa2-014382916903",
   "metadata": {},
   "source": [
    "This doesn't look right. Notice that this DataFrame looks a bit off from what we saved to disk. Why is that? It is because of *how* we saved the file. If we don't specify an index, Pandas will automatically create one for us. In order to correctly save our file, we need to pass an extra keyword argument, specifically index=False. Let's try and save this file again under a different name: \"names_no_index.csv\"."
   ]
  },
  {
   "cell_type": "code",
   "execution_count": 10,
   "id": "42b9d104-102d-4815-8d6b-f3e732ae63a7",
   "metadata": {},
   "outputs": [],
   "source": [
    "df.to_csv(\"data/names_no_index.csv\", index=False)"
   ]
  },
  {
   "cell_type": "markdown",
   "id": "79c72f03-d024-4344-886b-e8e37463c2fc",
   "metadata": {},
   "source": [
    "Let's create a new DataFrame, df3, and reopen and print off the data."
   ]
  },
  {
   "cell_type": "code",
   "execution_count": 11,
   "id": "1027cd60-0e7c-4fd3-85e8-88aeb984d18f",
   "metadata": {},
   "outputs": [],
   "source": [
    "df3 = pd.read_csv(\"data/names_no_index.csv\")"
   ]
  },
  {
   "cell_type": "code",
   "execution_count": 12,
   "id": "5808c403-3cc0-4acf-8c2f-a23f4c6eda64",
   "metadata": {},
   "outputs": [
    {
     "data": {
      "text/html": [
       "<div>\n",
       "<style scoped>\n",
       "    .dataframe tbody tr th:only-of-type {\n",
       "        vertical-align: middle;\n",
       "    }\n",
       "\n",
       "    .dataframe tbody tr th {\n",
       "        vertical-align: top;\n",
       "    }\n",
       "\n",
       "    .dataframe thead th {\n",
       "        text-align: right;\n",
       "    }\n",
       "</style>\n",
       "<table border=\"1\" class=\"dataframe\">\n",
       "  <thead>\n",
       "    <tr style=\"text-align: right;\">\n",
       "      <th></th>\n",
       "      <th>names</th>\n",
       "    </tr>\n",
       "  </thead>\n",
       "  <tbody>\n",
       "    <tr>\n",
       "      <th>0</th>\n",
       "      <td>Tom</td>\n",
       "    </tr>\n",
       "    <tr>\n",
       "      <th>1</th>\n",
       "      <td>Mary</td>\n",
       "    </tr>\n",
       "    <tr>\n",
       "      <th>2</th>\n",
       "      <td>Jeff</td>\n",
       "    </tr>\n",
       "    <tr>\n",
       "      <th>3</th>\n",
       "      <td>Rose</td>\n",
       "    </tr>\n",
       "    <tr>\n",
       "      <th>4</th>\n",
       "      <td>Stephanie</td>\n",
       "    </tr>\n",
       "    <tr>\n",
       "      <th>5</th>\n",
       "      <td>Rodger</td>\n",
       "    </tr>\n",
       "  </tbody>\n",
       "</table>\n",
       "</div>"
      ],
      "text/plain": [
       "       names\n",
       "0        Tom\n",
       "1       Mary\n",
       "2       Jeff\n",
       "3       Rose\n",
       "4  Stephanie\n",
       "5     Rodger"
      ]
     },
     "execution_count": 12,
     "metadata": {},
     "output_type": "execute_result"
    }
   ],
   "source": [
    "df3"
   ]
  },
  {
   "cell_type": "markdown",
   "id": "ad3bd539-d1f4-4633-b57e-2dc53668ea5a",
   "metadata": {},
   "source": [
    "Like magic, now we have a DataFrame that represents our original data."
   ]
  },
  {
   "cell_type": "markdown",
   "id": "08395267-a178-4e5d-a71c-1812d6821dc5",
   "metadata": {},
   "source": [
    "## How to Save DataFrame to JSON"
   ]
  },
  {
   "cell_type": "markdown",
   "id": "d88ddb93-56f8-496f-a276-339811f1358d",
   "metadata": {},
   "source": [
    "In Pandas, we are not limited to CSV files, we can do this same process with JSON files, which are JavaScript Object Notation files. These are a bit different from CSV files and are used to store more complex data, specifically data that is used on the web because all browsers can interpret JSON data off-the-shelf. To save our data to a JSON file, we can use the to_json(). Note that we are not passing the index argument here. When our data is stored as a JSON file this is not necessary."
   ]
  },
  {
   "cell_type": "code",
   "execution_count": 13,
   "id": "106db63f-fa0b-4418-ae95-e7f3f3c0e93e",
   "metadata": {},
   "outputs": [],
   "source": [
    "df3.to_json(\"data/names.json\")"
   ]
  },
  {
   "cell_type": "markdown",
   "id": "31912d49-417e-48c0-93b4-22fca9bf2d4e",
   "metadata": {},
   "source": [
    "Now, let's open that same data as a new DataFrame, df4. We can do the same thing as we did with the CSV file, except use read_json() and then print it off."
   ]
  },
  {
   "cell_type": "code",
   "execution_count": 14,
   "id": "1753ad7a-13be-4850-864e-7492ddb94846",
   "metadata": {},
   "outputs": [],
   "source": [
    "df4 = pd.read_json(\"data/names.json\")"
   ]
  },
  {
   "cell_type": "code",
   "execution_count": 15,
   "id": "7d818f6c-b8eb-4ec4-9c20-636a26246014",
   "metadata": {},
   "outputs": [
    {
     "data": {
      "text/html": [
       "<div>\n",
       "<style scoped>\n",
       "    .dataframe tbody tr th:only-of-type {\n",
       "        vertical-align: middle;\n",
       "    }\n",
       "\n",
       "    .dataframe tbody tr th {\n",
       "        vertical-align: top;\n",
       "    }\n",
       "\n",
       "    .dataframe thead th {\n",
       "        text-align: right;\n",
       "    }\n",
       "</style>\n",
       "<table border=\"1\" class=\"dataframe\">\n",
       "  <thead>\n",
       "    <tr style=\"text-align: right;\">\n",
       "      <th></th>\n",
       "      <th>names</th>\n",
       "    </tr>\n",
       "  </thead>\n",
       "  <tbody>\n",
       "    <tr>\n",
       "      <th>0</th>\n",
       "      <td>Tom</td>\n",
       "    </tr>\n",
       "    <tr>\n",
       "      <th>1</th>\n",
       "      <td>Mary</td>\n",
       "    </tr>\n",
       "    <tr>\n",
       "      <th>2</th>\n",
       "      <td>Jeff</td>\n",
       "    </tr>\n",
       "    <tr>\n",
       "      <th>3</th>\n",
       "      <td>Rose</td>\n",
       "    </tr>\n",
       "    <tr>\n",
       "      <th>4</th>\n",
       "      <td>Stephanie</td>\n",
       "    </tr>\n",
       "    <tr>\n",
       "      <th>5</th>\n",
       "      <td>Rodger</td>\n",
       "    </tr>\n",
       "  </tbody>\n",
       "</table>\n",
       "</div>"
      ],
      "text/plain": [
       "       names\n",
       "0        Tom\n",
       "1       Mary\n",
       "2       Jeff\n",
       "3       Rose\n",
       "4  Stephanie\n",
       "5     Rodger"
      ]
     },
     "execution_count": 15,
     "metadata": {},
     "output_type": "execute_result"
    }
   ],
   "source": [
    "df4"
   ]
  },
  {
   "cell_type": "markdown",
   "id": "d46ff0a0-eeef-486a-8ed8-63f93e682b51",
   "metadata": {},
   "source": [
    "## How to Add a Column to the DataFrame"
   ]
  },
  {
   "cell_type": "markdown",
   "id": "15620bf2-02d4-4a04-aaa4-a16bd6919d4e",
   "metadata": {},
   "source": [
    "When working with DataFrames, you will almost always need to manipulate the data in some way. This means adding columns, deleting columns, performing permutations on data in columns, etc. We are going to cover all these things throughout this textbook. For now, let's start with the basics. Imagine we got the names of individuals from one source and their ages from another. We now need to add those ages into our DataFrame. We can approach the DataFrame as something like a dictionary here. We can add a column by creating it with df4\\[\"ages\"\\]. This allows us to make that equal to the new data. The command below essentially adds a column to our DataFrame. Let's execute the command and print it off."
   ]
  },
  {
   "cell_type": "code",
   "execution_count": 16,
   "id": "94062a38-0e03-4ea7-b08a-63a9477e98f3",
   "metadata": {},
   "outputs": [],
   "source": [
    "df4[\"ages\"] = [20, 26, 20, 18, 52, 40]"
   ]
  },
  {
   "cell_type": "code",
   "execution_count": 17,
   "id": "43b79c91-eeb6-4896-9d6b-c3531bf5c246",
   "metadata": {},
   "outputs": [
    {
     "data": {
      "text/html": [
       "<div>\n",
       "<style scoped>\n",
       "    .dataframe tbody tr th:only-of-type {\n",
       "        vertical-align: middle;\n",
       "    }\n",
       "\n",
       "    .dataframe tbody tr th {\n",
       "        vertical-align: top;\n",
       "    }\n",
       "\n",
       "    .dataframe thead th {\n",
       "        text-align: right;\n",
       "    }\n",
       "</style>\n",
       "<table border=\"1\" class=\"dataframe\">\n",
       "  <thead>\n",
       "    <tr style=\"text-align: right;\">\n",
       "      <th></th>\n",
       "      <th>names</th>\n",
       "      <th>ages</th>\n",
       "    </tr>\n",
       "  </thead>\n",
       "  <tbody>\n",
       "    <tr>\n",
       "      <th>0</th>\n",
       "      <td>Tom</td>\n",
       "      <td>20</td>\n",
       "    </tr>\n",
       "    <tr>\n",
       "      <th>1</th>\n",
       "      <td>Mary</td>\n",
       "      <td>26</td>\n",
       "    </tr>\n",
       "    <tr>\n",
       "      <th>2</th>\n",
       "      <td>Jeff</td>\n",
       "      <td>20</td>\n",
       "    </tr>\n",
       "    <tr>\n",
       "      <th>3</th>\n",
       "      <td>Rose</td>\n",
       "      <td>18</td>\n",
       "    </tr>\n",
       "    <tr>\n",
       "      <th>4</th>\n",
       "      <td>Stephanie</td>\n",
       "      <td>52</td>\n",
       "    </tr>\n",
       "    <tr>\n",
       "      <th>5</th>\n",
       "      <td>Rodger</td>\n",
       "      <td>40</td>\n",
       "    </tr>\n",
       "  </tbody>\n",
       "</table>\n",
       "</div>"
      ],
      "text/plain": [
       "       names  ages\n",
       "0        Tom    20\n",
       "1       Mary    26\n",
       "2       Jeff    20\n",
       "3       Rose    18\n",
       "4  Stephanie    52\n",
       "5     Rodger    40"
      ]
     },
     "execution_count": 17,
     "metadata": {},
     "output_type": "execute_result"
    }
   ],
   "source": [
    "df4"
   ]
  },
  {
   "cell_type": "markdown",
   "id": "7534e0aa-077a-4dd1-a176-78efb98a7cc4",
   "metadata": {},
   "source": [
    "Notice that we now have our second column. I want to stress right now, that to do this we needed data that matched the length of the names. If we tried to do this same act, but with 5 ages, rather than 6, we would have received an error."
   ]
  },
  {
   "cell_type": "markdown",
   "id": "7f164ac5-85de-4e1d-ba05-35253f099133",
   "metadata": {},
   "source": [
    "## How to Grab a Specific Column"
   ]
  },
  {
   "cell_type": "markdown",
   "id": "514d9c57-a400-43b4-94ff-f85edb13edd8",
   "metadata": {},
   "source": [
    "When working with a DataFrame, you will often need to grab a single column of data. To do that, we can navigate the column data rather like a Python Class. Let's create a new object, names, and grab just the names column by stating df4.names. This command tells Pandas to grab the \"names\" column. Note, this is case sensitive. After we grab it, let's print it off too."
   ]
  },
  {
   "cell_type": "code",
   "execution_count": 18,
   "id": "b503305e-06c3-4f4e-82d6-4c610119b376",
   "metadata": {},
   "outputs": [],
   "source": [
    "names = df4.names"
   ]
  },
  {
   "cell_type": "code",
   "execution_count": 19,
   "id": "f26c8f0d-c67b-4f8d-86ee-a86fca551b0c",
   "metadata": {},
   "outputs": [
    {
     "name": "stdout",
     "output_type": "stream",
     "text": [
      "0          Tom\n",
      "1         Mary\n",
      "2         Jeff\n",
      "3         Rose\n",
      "4    Stephanie\n",
      "5       Rodger\n",
      "Name: names, dtype: object\n"
     ]
    }
   ],
   "source": [
    "print (names)"
   ]
  },
  {
   "cell_type": "markdown",
   "id": "c4eb8867-a02a-48ab-a2eb-72ec6edb1c79",
   "metadata": {},
   "source": [
    "Notice that we have a lot of data here about our names. We have their index (left column of integers). At the bottom, we have the type of data that it is. Don't worry about this extra data at the bottom for now. Let's try and grab the ages column now."
   ]
  },
  {
   "cell_type": "code",
   "execution_count": 20,
   "id": "401d5bce-0b12-400b-91f2-bbb372648240",
   "metadata": {},
   "outputs": [],
   "source": [
    "ages = df4.ages"
   ]
  },
  {
   "cell_type": "code",
   "execution_count": 21,
   "id": "4afe4954-e94f-4004-be47-f29e864ac842",
   "metadata": {},
   "outputs": [
    {
     "data": {
      "text/plain": [
       "0    20\n",
       "1    26\n",
       "2    20\n",
       "3    18\n",
       "4    52\n",
       "5    40\n",
       "Name: ages, dtype: int64"
      ]
     },
     "execution_count": 21,
     "metadata": {},
     "output_type": "execute_result"
    }
   ],
   "source": [
    "ages"
   ]
  },
  {
   "cell_type": "markdown",
   "id": "fb9f3780-0dde-4996-bb63-ad85f9aa9b4e",
   "metadata": {},
   "source": [
    "## How to Convert a Column to a List"
   ]
  },
  {
   "cell_type": "markdown",
   "id": "fed53b28-10ba-4f1c-9bf5-6d2a800f3034",
   "metadata": {},
   "source": [
    "When you are working with a DataFame, you will often times need to work with that data not as a column, rather as a list. To do this, you will want to convert that data into a list. You can do this, by calling the method .tolist() after the data in question. Let's try it with ages and print off a list of ages."
   ]
  },
  {
   "cell_type": "code",
   "execution_count": 22,
   "id": "9fef29f9-0a23-43e6-9859-754f2be63529",
   "metadata": {},
   "outputs": [],
   "source": [
    "ages_list = df4.ages.tolist()"
   ]
  },
  {
   "cell_type": "code",
   "execution_count": 23,
   "id": "93f28c64-d457-4ec5-af0d-9d8c4479285e",
   "metadata": {},
   "outputs": [
    {
     "name": "stdout",
     "output_type": "stream",
     "text": [
      "[20, 26, 20, 18, 52, 40]\n"
     ]
    }
   ],
   "source": [
    "print (ages_list)"
   ]
  },
  {
   "cell_type": "markdown",
   "id": "40196538-ce97-4594-94ea-00e76b4a3c71",
   "metadata": {},
   "source": [
    "While this may not seem necessary on the surface, it is. One of the main reasons that this is essential is for processing large quantities of data. It is often times computationally less expensive to work with that data as a list or, better yet, as a NumPy array."
   ]
  },
  {
   "cell_type": "markdown",
   "id": "b3445976-2d11-48ae-94c9-1c4ad10dce76",
   "metadata": {},
   "source": [
    "## How to Grab a Specific Row of a DataFrame"
   ]
  },
  {
   "cell_type": "markdown",
   "id": "96eebdb2-e585-44b9-a77e-653995d18c5b",
   "metadata": {},
   "source": [
    "It will often times be necessary to grab a DataFrame by row, not column. We have a lot of different ways to grab a row, but for now let's imagine we want to just grab a specific row by index. (We can grab all rows that have a certain value in a certain column also, but we will see that a bit later.) To grab a row by index, you can use the iloc command. This stands for Index Location. Index Location can be indexed rather like a list, as in the code below. The index you choose should correspond to the row index (starting with 0)."
   ]
  },
  {
   "cell_type": "code",
   "execution_count": 24,
   "id": "050100af-de56-46dd-8f89-db7da0e5c03d",
   "metadata": {},
   "outputs": [],
   "source": [
    "row1 = df4.iloc[1]"
   ]
  },
  {
   "cell_type": "code",
   "execution_count": 25,
   "id": "34c68de2-ab09-431b-809b-d7a925339298",
   "metadata": {},
   "outputs": [
    {
     "data": {
      "text/plain": [
       "names    Mary\n",
       "ages       26\n",
       "Name: 1, dtype: object"
      ]
     },
     "execution_count": 25,
     "metadata": {},
     "output_type": "execute_result"
    }
   ],
   "source": [
    "row1"
   ]
  },
  {
   "cell_type": "markdown",
   "id": "e61ecded-5ec4-4da1-b066-30de434727cf",
   "metadata": {},
   "source": [
    "## Conclusion"
   ]
  },
  {
   "cell_type": "markdown",
   "id": "2de764ca-f97d-4532-8101-05cef0b50e98",
   "metadata": {},
   "source": [
    "You should now feel comfortable with creating, reading, and saving DataFrames. You should also be comfortable with adding columns and indexing by rows. In the next notebooks, we will dive into more complex features of DataFrames."
   ]
  },
  {
   "cell_type": "code",
   "execution_count": null,
   "id": "472a4c17-4c13-441f-8a9d-7109ac84fc1f",
   "metadata": {},
   "outputs": [],
   "source": []
  }
 ],
 "metadata": {
  "kernelspec": {
   "display_name": "Python 3",
   "language": "python",
   "name": "python3"
  },
  "language_info": {
   "codemirror_mode": {
    "name": "ipython",
    "version": 3
   },
   "file_extension": ".py",
   "mimetype": "text/x-python",
   "name": "python",
   "nbconvert_exporter": "python",
   "pygments_lexer": "ipython3",
   "version": "3.8.8"
  }
 },
 "nbformat": 4,
 "nbformat_minor": 5
}
