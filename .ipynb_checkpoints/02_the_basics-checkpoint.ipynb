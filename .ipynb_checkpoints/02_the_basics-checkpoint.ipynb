{
 "cells": [
  {
   "cell_type": "markdown",
   "id": "e0751cfc-e725-4723-90e3-7bc231fa5f50",
   "metadata": {},
   "source": [
    "# Pandas Textbook for Digital Humanities"
   ]
  },
  {
   "cell_type": "markdown",
   "id": "72513c4c-4383-499a-a946-e190c6953533",
   "metadata": {},
   "source": [
    "## Chapter Two: The Basics of Pandas"
   ]
  },
  {
   "cell_type": "markdown",
   "id": "4905868d-2556-48db-8fcb-c0ebf05daafb",
   "metadata": {},
   "source": [
    "## Covered in this Chapter"
   ]
  },
  {
   "cell_type": "markdown",
   "id": "bdf64cf7-25cc-41dd-9d1c-ad162f461a06",
   "metadata": {},
   "source": [
    "1) How to Create a DataFrame from a Dictionary<br>\n",
    "2) How to Display a DataFrame<br>\n",
    "3) How to Save a DataFrame to CSV<br>\n",
    "4) How to Create a DataFrame from a CSV File<br>\n",
    "5) How to Create a DataFrame from a JSON File<br>\n",
    "6) How to Add a Column to a DataFrame<br>\n",
    "7) How to Grab a Specific Column of a DataFrame<br>\n",
    "8) How to Convert a Column to a List<br>\n",
    "9) How to Grab a Specific Row of a DataFrame"
   ]
  },
  {
   "cell_type": "markdown",
   "id": "d5152d2a-61dc-4323-a574-42398f96494c",
   "metadata": {},
   "source": [
    "## How to Create a DataFrame from a Dictionary"
   ]
  },
  {
   "cell_type": "code",
   "execution_count": 1,
   "id": "aeda9b1e-691e-4e8a-b6ee-bb2b0fa0c71f",
   "metadata": {},
   "outputs": [],
   "source": [
    "import pandas as pd"
   ]
  },
  {
   "cell_type": "code",
   "execution_count": 2,
   "id": "95e32442-e5b3-4738-9cb3-4ed7e4451f7e",
   "metadata": {},
   "outputs": [],
   "source": [
    "names_dict = {\"names\":\n",
    "        [\n",
    "            \"Tom\",\n",
    "            \"Mary\",\n",
    "            \"Jeff\",\n",
    "            \"Rose\",\n",
    "            \"Stephanie\",\n",
    "            \"Rodger\"\n",
    "        ]}"
   ]
  },
  {
   "cell_type": "code",
   "execution_count": 18,
   "id": "cf113746-49c5-4ecc-8e18-e3ccc66d810d",
   "metadata": {},
   "outputs": [],
   "source": [
    "df = pd.DataFrame(names_dict)"
   ]
  },
  {
   "cell_type": "markdown",
   "id": "3a253a54-9a46-4ab1-b2b1-2cd16a741d4e",
   "metadata": {},
   "source": [
    "## How to Display a DataFrame"
   ]
  },
  {
   "cell_type": "code",
   "execution_count": 19,
   "id": "c5449435-2b5b-4830-af38-2e28a5bc6f54",
   "metadata": {},
   "outputs": [
    {
     "data": {
      "text/html": [
       "<div>\n",
       "<style scoped>\n",
       "    .dataframe tbody tr th:only-of-type {\n",
       "        vertical-align: middle;\n",
       "    }\n",
       "\n",
       "    .dataframe tbody tr th {\n",
       "        vertical-align: top;\n",
       "    }\n",
       "\n",
       "    .dataframe thead th {\n",
       "        text-align: right;\n",
       "    }\n",
       "</style>\n",
       "<table border=\"1\" class=\"dataframe\">\n",
       "  <thead>\n",
       "    <tr style=\"text-align: right;\">\n",
       "      <th></th>\n",
       "      <th>names</th>\n",
       "    </tr>\n",
       "  </thead>\n",
       "  <tbody>\n",
       "    <tr>\n",
       "      <th>0</th>\n",
       "      <td>Tom</td>\n",
       "    </tr>\n",
       "    <tr>\n",
       "      <th>1</th>\n",
       "      <td>Mary</td>\n",
       "    </tr>\n",
       "    <tr>\n",
       "      <th>2</th>\n",
       "      <td>Jeff</td>\n",
       "    </tr>\n",
       "    <tr>\n",
       "      <th>3</th>\n",
       "      <td>Rose</td>\n",
       "    </tr>\n",
       "    <tr>\n",
       "      <th>4</th>\n",
       "      <td>Stephanie</td>\n",
       "    </tr>\n",
       "    <tr>\n",
       "      <th>5</th>\n",
       "      <td>Rodger</td>\n",
       "    </tr>\n",
       "  </tbody>\n",
       "</table>\n",
       "</div>"
      ],
      "text/plain": [
       "       names\n",
       "0        Tom\n",
       "1       Mary\n",
       "2       Jeff\n",
       "3       Rose\n",
       "4  Stephanie\n",
       "5     Rodger"
      ]
     },
     "execution_count": 19,
     "metadata": {},
     "output_type": "execute_result"
    }
   ],
   "source": [
    "df"
   ]
  },
  {
   "cell_type": "code",
   "execution_count": null,
   "id": "d3360d7e-d04a-4742-b34f-67ead8315b71",
   "metadata": {},
   "outputs": [],
   "source": []
  },
  {
   "cell_type": "markdown",
   "id": "8a20f3df-704c-47ca-bcb9-89c3690fb101",
   "metadata": {},
   "source": [
    "## How to Save DataFrame to CSV"
   ]
  },
  {
   "cell_type": "code",
   "execution_count": null,
   "id": "50789d4e-c461-45bf-8a82-1aaf019a3735",
   "metadata": {},
   "outputs": [],
   "source": []
  },
  {
   "cell_type": "code",
   "execution_count": 21,
   "id": "2ae292f5-0597-4835-aaad-ed69f67c68df",
   "metadata": {},
   "outputs": [],
   "source": [
    "df.to_csv(\"data/names.csv\")"
   ]
  },
  {
   "cell_type": "code",
   "execution_count": null,
   "id": "c5612d38-876f-42eb-8d11-31fbe0b067df",
   "metadata": {},
   "outputs": [],
   "source": []
  },
  {
   "cell_type": "markdown",
   "id": "29bee7c8-bc91-4ea2-ae39-a8c91e5cd08d",
   "metadata": {},
   "source": [
    "## How to Read DataFrame from CSV"
   ]
  },
  {
   "cell_type": "code",
   "execution_count": 22,
   "id": "dc61ff1b-6a74-4395-bd47-1b93883aedc7",
   "metadata": {},
   "outputs": [],
   "source": [
    "df2 = pd.read_csv(\"data/names.csv\")"
   ]
  },
  {
   "cell_type": "code",
   "execution_count": 23,
   "id": "3871df0d-102c-4608-a0a1-45a33330235f",
   "metadata": {},
   "outputs": [
    {
     "data": {
      "text/html": [
       "<div>\n",
       "<style scoped>\n",
       "    .dataframe tbody tr th:only-of-type {\n",
       "        vertical-align: middle;\n",
       "    }\n",
       "\n",
       "    .dataframe tbody tr th {\n",
       "        vertical-align: top;\n",
       "    }\n",
       "\n",
       "    .dataframe thead th {\n",
       "        text-align: right;\n",
       "    }\n",
       "</style>\n",
       "<table border=\"1\" class=\"dataframe\">\n",
       "  <thead>\n",
       "    <tr style=\"text-align: right;\">\n",
       "      <th></th>\n",
       "      <th>Unnamed: 0</th>\n",
       "      <th>names</th>\n",
       "    </tr>\n",
       "  </thead>\n",
       "  <tbody>\n",
       "    <tr>\n",
       "      <th>0</th>\n",
       "      <td>0</td>\n",
       "      <td>Tom</td>\n",
       "    </tr>\n",
       "    <tr>\n",
       "      <th>1</th>\n",
       "      <td>1</td>\n",
       "      <td>Mary</td>\n",
       "    </tr>\n",
       "    <tr>\n",
       "      <th>2</th>\n",
       "      <td>2</td>\n",
       "      <td>Jeff</td>\n",
       "    </tr>\n",
       "    <tr>\n",
       "      <th>3</th>\n",
       "      <td>3</td>\n",
       "      <td>Rose</td>\n",
       "    </tr>\n",
       "    <tr>\n",
       "      <th>4</th>\n",
       "      <td>4</td>\n",
       "      <td>Stephanie</td>\n",
       "    </tr>\n",
       "    <tr>\n",
       "      <th>5</th>\n",
       "      <td>5</td>\n",
       "      <td>Rodger</td>\n",
       "    </tr>\n",
       "  </tbody>\n",
       "</table>\n",
       "</div>"
      ],
      "text/plain": [
       "   Unnamed: 0      names\n",
       "0           0        Tom\n",
       "1           1       Mary\n",
       "2           2       Jeff\n",
       "3           3       Rose\n",
       "4           4  Stephanie\n",
       "5           5     Rodger"
      ]
     },
     "execution_count": 23,
     "metadata": {},
     "output_type": "execute_result"
    }
   ],
   "source": [
    "df2"
   ]
  },
  {
   "cell_type": "code",
   "execution_count": 24,
   "id": "42b9d104-102d-4815-8d6b-f3e732ae63a7",
   "metadata": {},
   "outputs": [],
   "source": [
    "df.to_csv(\"data/names_no_index.csv\", index=False)"
   ]
  },
  {
   "cell_type": "code",
   "execution_count": 25,
   "id": "1027cd60-0e7c-4fd3-85e8-88aeb984d18f",
   "metadata": {},
   "outputs": [],
   "source": [
    "df3 = pd.read_csv(\"data/names_no_index.csv\")"
   ]
  },
  {
   "cell_type": "code",
   "execution_count": 26,
   "id": "5808c403-3cc0-4acf-8c2f-a23f4c6eda64",
   "metadata": {},
   "outputs": [
    {
     "data": {
      "text/html": [
       "<div>\n",
       "<style scoped>\n",
       "    .dataframe tbody tr th:only-of-type {\n",
       "        vertical-align: middle;\n",
       "    }\n",
       "\n",
       "    .dataframe tbody tr th {\n",
       "        vertical-align: top;\n",
       "    }\n",
       "\n",
       "    .dataframe thead th {\n",
       "        text-align: right;\n",
       "    }\n",
       "</style>\n",
       "<table border=\"1\" class=\"dataframe\">\n",
       "  <thead>\n",
       "    <tr style=\"text-align: right;\">\n",
       "      <th></th>\n",
       "      <th>names</th>\n",
       "    </tr>\n",
       "  </thead>\n",
       "  <tbody>\n",
       "    <tr>\n",
       "      <th>0</th>\n",
       "      <td>Tom</td>\n",
       "    </tr>\n",
       "    <tr>\n",
       "      <th>1</th>\n",
       "      <td>Mary</td>\n",
       "    </tr>\n",
       "    <tr>\n",
       "      <th>2</th>\n",
       "      <td>Jeff</td>\n",
       "    </tr>\n",
       "    <tr>\n",
       "      <th>3</th>\n",
       "      <td>Rose</td>\n",
       "    </tr>\n",
       "    <tr>\n",
       "      <th>4</th>\n",
       "      <td>Stephanie</td>\n",
       "    </tr>\n",
       "    <tr>\n",
       "      <th>5</th>\n",
       "      <td>Rodger</td>\n",
       "    </tr>\n",
       "  </tbody>\n",
       "</table>\n",
       "</div>"
      ],
      "text/plain": [
       "       names\n",
       "0        Tom\n",
       "1       Mary\n",
       "2       Jeff\n",
       "3       Rose\n",
       "4  Stephanie\n",
       "5     Rodger"
      ]
     },
     "execution_count": 26,
     "metadata": {},
     "output_type": "execute_result"
    }
   ],
   "source": [
    "df3"
   ]
  },
  {
   "cell_type": "markdown",
   "id": "08395267-a178-4e5d-a71c-1812d6821dc5",
   "metadata": {},
   "source": [
    "## How to Save DataFrame to JSON"
   ]
  },
  {
   "cell_type": "code",
   "execution_count": 28,
   "id": "106db63f-fa0b-4418-ae95-e7f3f3c0e93e",
   "metadata": {},
   "outputs": [],
   "source": [
    "df3.to_json(\"data/names.json\")"
   ]
  },
  {
   "cell_type": "code",
   "execution_count": 31,
   "id": "1753ad7a-13be-4850-864e-7492ddb94846",
   "metadata": {},
   "outputs": [],
   "source": [
    "df4 = pd.read_json(\"data/names.json\")"
   ]
  },
  {
   "cell_type": "code",
   "execution_count": 32,
   "id": "7d818f6c-b8eb-4ec4-9c20-636a26246014",
   "metadata": {},
   "outputs": [
    {
     "data": {
      "text/html": [
       "<div>\n",
       "<style scoped>\n",
       "    .dataframe tbody tr th:only-of-type {\n",
       "        vertical-align: middle;\n",
       "    }\n",
       "\n",
       "    .dataframe tbody tr th {\n",
       "        vertical-align: top;\n",
       "    }\n",
       "\n",
       "    .dataframe thead th {\n",
       "        text-align: right;\n",
       "    }\n",
       "</style>\n",
       "<table border=\"1\" class=\"dataframe\">\n",
       "  <thead>\n",
       "    <tr style=\"text-align: right;\">\n",
       "      <th></th>\n",
       "      <th>names</th>\n",
       "    </tr>\n",
       "  </thead>\n",
       "  <tbody>\n",
       "    <tr>\n",
       "      <th>0</th>\n",
       "      <td>Tom</td>\n",
       "    </tr>\n",
       "    <tr>\n",
       "      <th>1</th>\n",
       "      <td>Mary</td>\n",
       "    </tr>\n",
       "    <tr>\n",
       "      <th>2</th>\n",
       "      <td>Jeff</td>\n",
       "    </tr>\n",
       "    <tr>\n",
       "      <th>3</th>\n",
       "      <td>Rose</td>\n",
       "    </tr>\n",
       "    <tr>\n",
       "      <th>4</th>\n",
       "      <td>Stephanie</td>\n",
       "    </tr>\n",
       "    <tr>\n",
       "      <th>5</th>\n",
       "      <td>Rodger</td>\n",
       "    </tr>\n",
       "  </tbody>\n",
       "</table>\n",
       "</div>"
      ],
      "text/plain": [
       "       names\n",
       "0        Tom\n",
       "1       Mary\n",
       "2       Jeff\n",
       "3       Rose\n",
       "4  Stephanie\n",
       "5     Rodger"
      ]
     },
     "execution_count": 32,
     "metadata": {},
     "output_type": "execute_result"
    }
   ],
   "source": [
    "df4"
   ]
  },
  {
   "cell_type": "markdown",
   "id": "d46ff0a0-eeef-486a-8ed8-63f93e682b51",
   "metadata": {},
   "source": [
    "## How to Add a Column to the DataFrame"
   ]
  },
  {
   "cell_type": "markdown",
   "id": "15620bf2-02d4-4a04-aaa4-a16bd6919d4e",
   "metadata": {},
   "source": []
  },
  {
   "cell_type": "code",
   "execution_count": 33,
   "id": "94062a38-0e03-4ea7-b08a-63a9477e98f3",
   "metadata": {},
   "outputs": [],
   "source": [
    "df4[\"ages\"] = [20, 26, 20, 18, 52, 40]"
   ]
  },
  {
   "cell_type": "code",
   "execution_count": 34,
   "id": "43b79c91-eeb6-4896-9d6b-c3531bf5c246",
   "metadata": {},
   "outputs": [
    {
     "data": {
      "text/html": [
       "<div>\n",
       "<style scoped>\n",
       "    .dataframe tbody tr th:only-of-type {\n",
       "        vertical-align: middle;\n",
       "    }\n",
       "\n",
       "    .dataframe tbody tr th {\n",
       "        vertical-align: top;\n",
       "    }\n",
       "\n",
       "    .dataframe thead th {\n",
       "        text-align: right;\n",
       "    }\n",
       "</style>\n",
       "<table border=\"1\" class=\"dataframe\">\n",
       "  <thead>\n",
       "    <tr style=\"text-align: right;\">\n",
       "      <th></th>\n",
       "      <th>names</th>\n",
       "      <th>ages</th>\n",
       "    </tr>\n",
       "  </thead>\n",
       "  <tbody>\n",
       "    <tr>\n",
       "      <th>0</th>\n",
       "      <td>Tom</td>\n",
       "      <td>20</td>\n",
       "    </tr>\n",
       "    <tr>\n",
       "      <th>1</th>\n",
       "      <td>Mary</td>\n",
       "      <td>26</td>\n",
       "    </tr>\n",
       "    <tr>\n",
       "      <th>2</th>\n",
       "      <td>Jeff</td>\n",
       "      <td>20</td>\n",
       "    </tr>\n",
       "    <tr>\n",
       "      <th>3</th>\n",
       "      <td>Rose</td>\n",
       "      <td>18</td>\n",
       "    </tr>\n",
       "    <tr>\n",
       "      <th>4</th>\n",
       "      <td>Stephanie</td>\n",
       "      <td>52</td>\n",
       "    </tr>\n",
       "    <tr>\n",
       "      <th>5</th>\n",
       "      <td>Rodger</td>\n",
       "      <td>40</td>\n",
       "    </tr>\n",
       "  </tbody>\n",
       "</table>\n",
       "</div>"
      ],
      "text/plain": [
       "       names  ages\n",
       "0        Tom    20\n",
       "1       Mary    26\n",
       "2       Jeff    20\n",
       "3       Rose    18\n",
       "4  Stephanie    52\n",
       "5     Rodger    40"
      ]
     },
     "execution_count": 34,
     "metadata": {},
     "output_type": "execute_result"
    }
   ],
   "source": [
    "df4"
   ]
  },
  {
   "cell_type": "code",
   "execution_count": null,
   "id": "7996db75-b8f2-4491-a056-e14322ff8360",
   "metadata": {},
   "outputs": [],
   "source": []
  },
  {
   "cell_type": "markdown",
   "id": "7f164ac5-85de-4e1d-ba05-35253f099133",
   "metadata": {},
   "source": [
    "## How to Grab a Specific Column"
   ]
  },
  {
   "cell_type": "code",
   "execution_count": 38,
   "id": "b503305e-06c3-4f4e-82d6-4c610119b376",
   "metadata": {},
   "outputs": [],
   "source": [
    "names = df4.names"
   ]
  },
  {
   "cell_type": "code",
   "execution_count": 39,
   "id": "f26c8f0d-c67b-4f8d-86ee-a86fca551b0c",
   "metadata": {},
   "outputs": [
    {
     "name": "stdout",
     "output_type": "stream",
     "text": [
      "0          Tom\n",
      "1         Mary\n",
      "2         Jeff\n",
      "3         Rose\n",
      "4    Stephanie\n",
      "5       Rodger\n",
      "Name: names, dtype: object\n"
     ]
    }
   ],
   "source": [
    "print (names)"
   ]
  },
  {
   "cell_type": "code",
   "execution_count": 40,
   "id": "401d5bce-0b12-400b-91f2-bbb372648240",
   "metadata": {},
   "outputs": [],
   "source": [
    "ages = df4.ages"
   ]
  },
  {
   "cell_type": "code",
   "execution_count": 41,
   "id": "4afe4954-e94f-4004-be47-f29e864ac842",
   "metadata": {},
   "outputs": [
    {
     "data": {
      "text/plain": [
       "0    20\n",
       "1    26\n",
       "2    20\n",
       "3    18\n",
       "4    52\n",
       "5    40\n",
       "Name: ages, dtype: int64"
      ]
     },
     "execution_count": 41,
     "metadata": {},
     "output_type": "execute_result"
    }
   ],
   "source": [
    "ages"
   ]
  },
  {
   "cell_type": "markdown",
   "id": "fb9f3780-0dde-4996-bb63-ad85f9aa9b4e",
   "metadata": {},
   "source": [
    "## How to Convert a Column to a List"
   ]
  },
  {
   "cell_type": "code",
   "execution_count": 42,
   "id": "9fef29f9-0a23-43e6-9859-754f2be63529",
   "metadata": {},
   "outputs": [],
   "source": [
    "ages_list = df4.ages.tolist()"
   ]
  },
  {
   "cell_type": "code",
   "execution_count": 43,
   "id": "93f28c64-d457-4ec5-af0d-9d8c4479285e",
   "metadata": {},
   "outputs": [
    {
     "name": "stdout",
     "output_type": "stream",
     "text": [
      "[20, 26, 20, 18, 52, 40]\n"
     ]
    }
   ],
   "source": [
    "print (ages_list)"
   ]
  },
  {
   "cell_type": "markdown",
   "id": "b3445976-2d11-48ae-94c9-1c4ad10dce76",
   "metadata": {},
   "source": [
    "How to Grab a Specific Row of a DataFrame"
   ]
  },
  {
   "cell_type": "code",
   "execution_count": null,
   "id": "050100af-de56-46dd-8f89-db7da0e5c03d",
   "metadata": {},
   "outputs": [],
   "source": []
  }
 ],
 "metadata": {
  "kernelspec": {
   "display_name": "Python 3",
   "language": "python",
   "name": "python3"
  },
  "language_info": {
   "codemirror_mode": {
    "name": "ipython",
    "version": 3
   },
   "file_extension": ".py",
   "mimetype": "text/x-python",
   "name": "python",
   "nbconvert_exporter": "python",
   "pygments_lexer": "ipython3",
   "version": "3.8.8"
  }
 },
 "nbformat": 4,
 "nbformat_minor": 5
}
